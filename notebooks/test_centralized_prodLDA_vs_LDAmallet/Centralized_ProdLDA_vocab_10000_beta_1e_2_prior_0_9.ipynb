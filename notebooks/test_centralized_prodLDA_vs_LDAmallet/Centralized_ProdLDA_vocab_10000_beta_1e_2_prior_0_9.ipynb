{
  "cells": [
    {
      "cell_type": "code",
      "execution_count": null,
      "metadata": {
        "id": "sib1HSks6Xqv"
      },
      "outputs": [],
      "source": [
        "import numpy as np\n",
        "import pandas as pd\n",
        "import nltk\n",
        "from sklearn.feature_extraction.text import CountVectorizer\n",
        "from scipy.special import softmax\n",
        "import multiprocessing as mp\n",
        "from torch.utils.data import DataLoader\n",
        "from tqdm import tqdm\n",
        "import torch\n",
        "from torch.nn import functional as F\n",
        "from sklearn.preprocessing import normalize"
      ]
    },
    {
      "cell_type": "markdown",
      "metadata": {
        "id": "4CObHMSd6LLz"
      },
      "source": [
        "# Installing ProdLDA\n",
        "**Restart notbook after the installation!!**"
      ]
    },
    {
      "cell_type": "code",
      "execution_count": null,
      "metadata": {
        "colab": {
          "base_uri": "https://localhost:8080/"
        },
        "id": "-VDAzxJA6FK5",
        "outputId": "8408703a-7740-40ae-d24f-9b32276c14ca"
      },
      "outputs": [
        {
          "output_type": "stream",
          "name": "stdout",
          "text": [
            "fatal: destination path 'PyTorchAVITM' already exists and is not an empty directory.\n"
          ]
        }
      ],
      "source": [
        "!git clone https://github.com/estebandito22/PyTorchAVITM"
      ]
    },
    {
      "cell_type": "markdown",
      "metadata": {
        "id": "L6kW5jO66UKj"
      },
      "source": [
        "# 1. Creation of synthetic corpus\n",
        "\n",
        "We consider a scenario with n parties, each of them as an associated corpus.\n",
        "To generate the corpus associated with each of the parties, we consider a common beta distribution (word-topic distribution), but we freeze different topics/ assign different asymmetric Dirichlet priors favoring different topics at the time of generating the document that composes each party's corpus."
      ]
    },
    {
      "cell_type": "markdown",
      "metadata": {
        "id": "twSZ3G0p6d1z"
      },
      "source": [
        "## 1.1. Function for permuting the Dirichlet prior at each node"
      ]
    },
    {
      "cell_type": "code",
      "execution_count": null,
      "metadata": {
        "id": "tXdkpdrh6Thn"
      },
      "outputs": [],
      "source": [
        "def rotateArray(arr, n, d):\n",
        "    temp = []\n",
        "    i = 0\n",
        "    while (i < d):\n",
        "        temp.append(arr[i])\n",
        "        i = i + 1\n",
        "    i = 0\n",
        "    while (d < n):\n",
        "        arr[i] = arr[d]\n",
        "        i = i + 1\n",
        "        d = d + 1\n",
        "    arr[:] = arr[: i] + temp\n",
        "    return arr"
      ]
    },
    {
      "cell_type": "markdown",
      "metadata": {
        "id": "AyFA9eGH6hGH"
      },
      "source": [
        "## 1.2. Topic modeling and node settings"
      ]
    },
    {
      "cell_type": "code",
      "execution_count": null,
      "metadata": {
        "colab": {
          "base_uri": "https://localhost:8080/"
        },
        "id": "5DmfSiuR6iI0",
        "outputId": "e13237ee-71de-4f43-96be-7ddcbe028687"
      },
      "outputs": [
        {
          "output_type": "stream",
          "name": "stdout",
          "text": [
            "[0.1, 0.1, 0.1, 0.9, 0.9, 0.9, 0.9, 0.9, 0.9, 0.9]\n"
          ]
        }
      ],
      "source": [
        "# Topic modeling settings\n",
        "vocab_size = 10000\n",
        "n_topics = 10\n",
        "beta = 1e-2\n",
        "alpha = 5/n_topics\n",
        "n_docs = 1000\n",
        "nwords = (150, 450) #Min and max lengths of the documents\n",
        "\n",
        "# Nodes settings\n",
        "n_nodes = 5\n",
        "frozen_topics = 3\n",
        "dirichlet_symmetric = False\n",
        "prior = (n_topics)*[0.9]\n",
        "prior[0] = prior[1] = prior[2] = 0.1\n",
        "print(prior)"
      ]
    },
    {
      "cell_type": "markdown",
      "metadata": {
        "id": "8ylo9Vsu6zpX"
      },
      "source": [
        "## 1.3. Topics generation (common for all nodes)"
      ]
    },
    {
      "cell_type": "code",
      "execution_count": null,
      "metadata": {
        "colab": {
          "base_uri": "https://localhost:8080/"
        },
        "id": "uy3AuOSx6qc1",
        "outputId": "079dba70-cb35-4477-c4c3-e9272567fa0d"
      },
      "outputs": [
        {
          "output_type": "stream",
          "name": "stdout",
          "text": [
            "Ordered probabilities for the first topic vector:\n",
            "[0.07386758 0.03356709 0.02395051 ... 0.         0.         0.        ]\n",
            "(10, 10000)\n"
          ]
        }
      ],
      "source": [
        "topic_vectors = np.random.dirichlet(vocab_size*[beta], n_topics)\n",
        "print('Ordered probabilities for the first topic vector:')\n",
        "print(np.sort(topic_vectors[0])[::-1])\n",
        "print(topic_vectors.shape)"
      ]
    },
    {
      "cell_type": "markdown",
      "metadata": {
        "id": "BaQEe-yD6vl_"
      },
      "source": [
        "## 1.4. Generation of document topic proportions and documents for each node\n"
      ]
    },
    {
      "cell_type": "code",
      "execution_count": null,
      "metadata": {
        "colab": {
          "base_uri": "https://localhost:8080/"
        },
        "id": "N-BziCW56vFL",
        "outputId": "781caf04-370e-4a5b-d044-1314c235ac71"
      },
      "outputs": [
        {
          "output_type": "stream",
          "name": "stdout",
          "text": [
            "[0.9, 0.9, 0.9, 0.9, 0.9, 0.9, 0.9, 0.1, 0.1, 0.1]\n",
            "Ordered probabilities for the first document - node 0 :\n",
            "[3.13038612e-01 2.19903427e-01 1.64221779e-01 1.08971233e-01\n",
            " 7.82175355e-02 6.50865542e-02 3.78947393e-02 1.22284589e-02\n",
            " 4.37642343e-04 1.79561520e-08]\n",
            "Documents of node 0 generated.\n",
            "[0.9, 0.9, 0.9, 0.9, 0.1, 0.1, 0.1, 0.9, 0.9, 0.9]\n",
            "Ordered probabilities for the first document - node 1 :\n",
            "[4.39714931e-01 1.72946587e-01 1.55390103e-01 9.46287002e-02\n",
            " 4.70263626e-02 4.22800215e-02 4.05759254e-02 7.22581979e-03\n",
            " 1.95487495e-04 1.60622897e-05]\n",
            "Documents of node 1 generated.\n",
            "[0.9, 0.1, 0.1, 0.1, 0.9, 0.9, 0.9, 0.9, 0.9, 0.9]\n",
            "Ordered probabilities for the first document - node 2 :\n",
            "[3.51657553e-01 1.65137085e-01 1.60871552e-01 1.48073690e-01\n",
            " 7.07199488e-02 5.26825682e-02 4.78557165e-02 2.99943807e-03\n",
            " 1.84444679e-06 6.03246645e-07]\n",
            "Documents of node 2 generated.\n",
            "[0.1, 0.9, 0.9, 0.9, 0.9, 0.9, 0.9, 0.9, 0.1, 0.1]\n",
            "Ordered probabilities for the first document - node 3 :\n",
            "[3.48478284e-01 2.65060894e-01 1.29994941e-01 7.83682843e-02\n",
            " 7.36121390e-02 5.37575422e-02 3.55232308e-02 1.48357270e-02\n",
            " 3.67602265e-04 1.35583683e-06]\n",
            "Documents of node 3 generated.\n",
            "[0.9, 0.9, 0.9, 0.9, 0.9, 0.1, 0.1, 0.1, 0.9, 0.9]\n",
            "Ordered probabilities for the first document - node 4 :\n",
            "[4.45963184e-01 1.82698960e-01 1.50529252e-01 1.30107720e-01\n",
            " 4.25653379e-02 3.33066823e-02 1.34577477e-02 1.28026261e-03\n",
            " 9.08531196e-05 2.80753306e-11]\n",
            "Documents of node 4 generated.\n"
          ]
        }
      ],
      "source": [
        "doc_topics_all_gt = []\n",
        "documents_all = []\n",
        "z_all = []\n",
        "for i in np.arange(n_nodes):\n",
        "  # Step 2 - generation of document topic proportions for each node\n",
        "  if dirichlet_symmetric:\n",
        "    doc_topics = np.random.dirichlet((n_topics)*[alpha], n_docs)\n",
        "  else:\n",
        "    doc_topics = np.random.dirichlet(prior, n_docs)\n",
        "    prior = rotateArray(prior, len(prior), 3)\n",
        "    print(prior)\n",
        "  print('Ordered probabilities for the first document - node', str(i), ':')\n",
        "  print(np.sort(doc_topics[0])[::-1])\n",
        "  doc_topics_all_gt.append(doc_topics)\n",
        "  # Step 3 - Document generation\n",
        "  documents = [] # Document words\n",
        "  z = [] # Assignments\n",
        "  for docid in np.arange(n_docs):\n",
        "      doc_len = np.random.randint(low=nwords[0], high=nwords[1])\n",
        "      this_doc_words = []\n",
        "      this_doc_assigns = []\n",
        "      for wd_idx in np.arange(doc_len):\n",
        "          tpc = np.nonzero(np.random.multinomial(1, doc_topics[docid]))[0][0]\n",
        "          this_doc_assigns.append(tpc)\n",
        "          word = np.nonzero(np.random.multinomial(1, topic_vectors[tpc]))[0][0]\n",
        "          this_doc_words.append('wd'+str(word))\n",
        "      z.append(this_doc_assigns)\n",
        "      documents.append(this_doc_words)\n",
        "  print(\"Documents of node\", str(i), \"generated.\")\n",
        "  documents_all.append(documents)\n",
        "  z_all.append(z)"
      ]
    },
    {
      "cell_type": "code",
      "source": [
        "np.savez('synthetic.npz', n_nodes = n_nodes, vocab_size=vocab_size, n_topics=n_topics, frozen_topics = frozen_topics, beta=beta, alpha=alpha,\n",
        "        n_docs=n_docs, nwords=nwords, topic_vectors=topic_vectors, doc_topics=doc_topics_all_gt,\n",
        "        documents=documents_all, z=z_all)"
      ],
      "metadata": {
        "colab": {
          "base_uri": "https://localhost:8080/"
        },
        "id": "SRPb5xjDxqmx",
        "outputId": "3300d093-eaf2-42de-e71e-1445d5e8dff1"
      },
      "execution_count": null,
      "outputs": [
        {
          "output_type": "stream",
          "name": "stderr",
          "text": [
            "/usr/local/lib/python3.7/dist-packages/numpy/core/_asarray.py:136: VisibleDeprecationWarning: Creating an ndarray from ragged nested sequences (which is a list-or-tuple of lists-or-tuples-or ndarrays with different lengths or shapes) is deprecated. If you meant to do this, you must specify 'dtype=object' when creating the ndarray\n",
            "  return array(a, dtype, copy=False, order=order, subok=True)\n"
          ]
        }
      ]
    },
    {
      "cell_type": "markdown",
      "metadata": {
        "id": "HuJUlOIJ69iw"
      },
      "source": [
        "# 2. Preprocessing, generation of training dataset and training of a ProdLDA model at each node"
      ]
    },
    {
      "cell_type": "code",
      "execution_count": null,
      "metadata": {
        "colab": {
          "base_uri": "https://localhost:8080/"
        },
        "id": "1XwiP814FZ5U",
        "outputId": "e5ec6269-4673-4589-9992-d9b4ff712d36"
      },
      "outputs": [
        {
          "name": "stdout",
          "output_type": "stream",
          "text": [
            "\u001b[0m\u001b[01;34mPyTorchAVITM\u001b[0m/  \u001b[01;34msample_data\u001b[0m/\n"
          ]
        }
      ],
      "source": [
        "ls"
      ]
    },
    {
      "cell_type": "code",
      "execution_count": null,
      "metadata": {
        "colab": {
          "base_uri": "https://localhost:8080/"
        },
        "id": "14tnh0ndFpb0",
        "outputId": "afbbd0f9-7b3d-4fc7-94ca-37f6447a2c0b"
      },
      "outputs": [
        {
          "name": "stdout",
          "output_type": "stream",
          "text": [
            "/content/PyTorchAVITM/pytorchavitm/datasets\n"
          ]
        }
      ],
      "source": [
        "cd /content/PyTorchAVITM/pytorchavitm/datasets"
      ]
    },
    {
      "cell_type": "code",
      "execution_count": null,
      "metadata": {
        "id": "-Is7SF6iQcqA"
      },
      "outputs": [],
      "source": [
        "from bow import BOWDataset"
      ]
    },
    {
      "cell_type": "code",
      "execution_count": null,
      "metadata": {
        "colab": {
          "base_uri": "https://localhost:8080/"
        },
        "id": "k4okSYycQaOK",
        "outputId": "ffe53557-443b-4e11-e0f9-66fb5e0fdcee"
      },
      "outputs": [
        {
          "name": "stdout",
          "output_type": "stream",
          "text": [
            "/content/PyTorchAVITM\n"
          ]
        }
      ],
      "source": [
        "cd /content/PyTorchAVITM"
      ]
    },
    {
      "cell_type": "code",
      "execution_count": null,
      "metadata": {
        "id": "JrcVglDoQhU0"
      },
      "outputs": [],
      "source": [
        "from pytorchavitm import AVITM"
      ]
    },
    {
      "cell_type": "code",
      "execution_count": null,
      "metadata": {
        "colab": {
          "base_uri": "https://localhost:8080/"
        },
        "id": "wchhyQ5bDIhK",
        "outputId": "bc99e07f-180f-4a11-f848-ace99b9b0024"
      },
      "outputs": [
        {
          "name": "stdout",
          "output_type": "stream",
          "text": [
            "Settings: \n",
            "               N Components: 10\n",
            "               Topic Prior Mean: 0.0\n",
            "               Topic Prior Variance: 0.9\n",
            "               Model Type: prodLDA\n",
            "               Hidden Sizes: (100, 100)\n",
            "               Activation: softplus\n",
            "               Dropout: 0.2\n",
            "               Learn Priors: True\n",
            "               Learning Rate: 0.002\n",
            "               Momentum: 0.99\n",
            "               Reduce On Plateau: False\n",
            "               Save Dir: None\n"
          ]
        },
        {
          "name": "stderr",
          "output_type": "stream",
          "text": [
            "/usr/local/lib/python3.7/dist-packages/sklearn/utils/deprecation.py:87: FutureWarning: Function get_feature_names is deprecated; get_feature_names is deprecated in 1.0 and will be removed in 1.2. Please use get_feature_names_out instead.\n",
            "  warnings.warn(msg, category=FutureWarning)\n"
          ]
        },
        {
          "name": "stdout",
          "output_type": "stream",
          "text": [
            "Epoch: [1/100]\tSamples: [1000/100000]\tTrain Loss: 2384.942625\tTime: 0:00:00.419005\n",
            "Epoch: [2/100]\tSamples: [2000/100000]\tTrain Loss: 2351.37096875\tTime: 0:00:00.247276\n",
            "Epoch: [3/100]\tSamples: [3000/100000]\tTrain Loss: 2323.98115625\tTime: 0:00:00.263194\n",
            "Epoch: [4/100]\tSamples: [4000/100000]\tTrain Loss: 2303.930453125\tTime: 0:00:00.248566\n",
            "Epoch: [5/100]\tSamples: [5000/100000]\tTrain Loss: 2290.079359375\tTime: 0:00:00.275658\n",
            "Epoch: [6/100]\tSamples: [6000/100000]\tTrain Loss: 2278.312015625\tTime: 0:00:00.255700\n",
            "Epoch: [7/100]\tSamples: [7000/100000]\tTrain Loss: 2267.5899609375\tTime: 0:00:00.253740\n",
            "Epoch: [8/100]\tSamples: [8000/100000]\tTrain Loss: 2260.6798046875\tTime: 0:00:00.248112\n",
            "Epoch: [9/100]\tSamples: [9000/100000]\tTrain Loss: 2251.611640625\tTime: 0:00:00.239364\n",
            "Epoch: [10/100]\tSamples: [10000/100000]\tTrain Loss: 2249.826578125\tTime: 0:00:00.251976\n",
            "Epoch: [11/100]\tSamples: [11000/100000]\tTrain Loss: 2245.16325\tTime: 0:00:00.239199\n",
            "Epoch: [12/100]\tSamples: [12000/100000]\tTrain Loss: 2242.843125\tTime: 0:00:00.271448\n",
            "Epoch: [13/100]\tSamples: [13000/100000]\tTrain Loss: 2239.3336640625\tTime: 0:00:00.240988\n",
            "Epoch: [14/100]\tSamples: [14000/100000]\tTrain Loss: 2236.622515625\tTime: 0:00:00.269327\n",
            "Epoch: [15/100]\tSamples: [15000/100000]\tTrain Loss: 2231.0278671875\tTime: 0:00:00.544360\n",
            "Epoch: [16/100]\tSamples: [16000/100000]\tTrain Loss: 2229.0483125\tTime: 0:00:00.496291\n",
            "Epoch: [17/100]\tSamples: [17000/100000]\tTrain Loss: 2227.45284375\tTime: 0:00:00.484004\n",
            "Epoch: [18/100]\tSamples: [18000/100000]\tTrain Loss: 2224.4270390625\tTime: 0:00:00.447062\n",
            "Epoch: [19/100]\tSamples: [19000/100000]\tTrain Loss: 2221.610734375\tTime: 0:00:00.446112\n",
            "Epoch: [20/100]\tSamples: [20000/100000]\tTrain Loss: 2218.4941015625\tTime: 0:00:00.439144\n",
            "Epoch: [21/100]\tSamples: [21000/100000]\tTrain Loss: 2217.6467890625\tTime: 0:00:00.485602\n",
            "Epoch: [22/100]\tSamples: [22000/100000]\tTrain Loss: 2216.269015625\tTime: 0:00:00.478572\n",
            "Epoch: [23/100]\tSamples: [23000/100000]\tTrain Loss: 2210.5253671875\tTime: 0:00:00.409522\n",
            "Epoch: [24/100]\tSamples: [24000/100000]\tTrain Loss: 2211.335234375\tTime: 0:00:00.492824\n",
            "Epoch: [25/100]\tSamples: [25000/100000]\tTrain Loss: 2208.3721875\tTime: 0:00:00.437158\n",
            "Epoch: [26/100]\tSamples: [26000/100000]\tTrain Loss: 2206.286828125\tTime: 0:00:00.452680\n",
            "Epoch: [27/100]\tSamples: [27000/100000]\tTrain Loss: 2206.8870703125\tTime: 0:00:00.456468\n",
            "Epoch: [28/100]\tSamples: [28000/100000]\tTrain Loss: 2201.72953125\tTime: 0:00:00.441683\n",
            "Epoch: [29/100]\tSamples: [29000/100000]\tTrain Loss: 2206.1496328125\tTime: 0:00:00.497036\n",
            "Epoch: [30/100]\tSamples: [30000/100000]\tTrain Loss: 2203.33115625\tTime: 0:00:00.486027\n",
            "Epoch: [31/100]\tSamples: [31000/100000]\tTrain Loss: 2201.097109375\tTime: 0:00:00.464901\n",
            "Epoch: [32/100]\tSamples: [32000/100000]\tTrain Loss: 2202.9051796875\tTime: 0:00:00.434105\n",
            "Epoch: [33/100]\tSamples: [33000/100000]\tTrain Loss: 2198.639234375\tTime: 0:00:00.468079\n",
            "Epoch: [34/100]\tSamples: [34000/100000]\tTrain Loss: 2199.4981953125\tTime: 0:00:00.424518\n",
            "Epoch: [35/100]\tSamples: [35000/100000]\tTrain Loss: 2197.0693125\tTime: 0:00:00.491866\n",
            "Epoch: [36/100]\tSamples: [36000/100000]\tTrain Loss: 2199.8569921875\tTime: 0:00:00.467258\n",
            "Epoch: [37/100]\tSamples: [37000/100000]\tTrain Loss: 2199.869203125\tTime: 0:00:00.268854\n",
            "Epoch: [38/100]\tSamples: [38000/100000]\tTrain Loss: 2196.716109375\tTime: 0:00:00.269032\n",
            "Epoch: [39/100]\tSamples: [39000/100000]\tTrain Loss: 2195.9232734375\tTime: 0:00:00.271012\n",
            "Epoch: [40/100]\tSamples: [40000/100000]\tTrain Loss: 2195.1510546875\tTime: 0:00:00.257336\n",
            "Epoch: [41/100]\tSamples: [41000/100000]\tTrain Loss: 2198.155890625\tTime: 0:00:00.246352\n",
            "Epoch: [42/100]\tSamples: [42000/100000]\tTrain Loss: 2195.9698671875\tTime: 0:00:00.264311\n",
            "Epoch: [43/100]\tSamples: [43000/100000]\tTrain Loss: 2196.26396875\tTime: 0:00:00.274411\n",
            "Epoch: [44/100]\tSamples: [44000/100000]\tTrain Loss: 2196.744609375\tTime: 0:00:00.264934\n",
            "Epoch: [45/100]\tSamples: [45000/100000]\tTrain Loss: 2192.472640625\tTime: 0:00:00.273246\n",
            "Epoch: [46/100]\tSamples: [46000/100000]\tTrain Loss: 2193.8608515625\tTime: 0:00:00.266028\n",
            "Epoch: [47/100]\tSamples: [47000/100000]\tTrain Loss: 2195.649140625\tTime: 0:00:00.267505\n",
            "Epoch: [48/100]\tSamples: [48000/100000]\tTrain Loss: 2192.1816171875\tTime: 0:00:00.261153\n",
            "Epoch: [49/100]\tSamples: [49000/100000]\tTrain Loss: 2194.1706484375\tTime: 0:00:00.256165\n",
            "Epoch: [50/100]\tSamples: [50000/100000]\tTrain Loss: 2192.4196640625\tTime: 0:00:00.276146\n",
            "Epoch: [51/100]\tSamples: [51000/100000]\tTrain Loss: 2192.735171875\tTime: 0:00:00.260928\n",
            "Epoch: [52/100]\tSamples: [52000/100000]\tTrain Loss: 2192.48084375\tTime: 0:00:00.265307\n",
            "Epoch: [53/100]\tSamples: [53000/100000]\tTrain Loss: 2190.9446875\tTime: 0:00:00.261587\n",
            "Epoch: [54/100]\tSamples: [54000/100000]\tTrain Loss: 2192.2154453125\tTime: 0:00:00.282166\n",
            "Epoch: [55/100]\tSamples: [55000/100000]\tTrain Loss: 2191.0448515625\tTime: 0:00:00.258292\n",
            "Epoch: [56/100]\tSamples: [56000/100000]\tTrain Loss: 2190.5365546875\tTime: 0:00:00.251100\n",
            "Epoch: [57/100]\tSamples: [57000/100000]\tTrain Loss: 2190.380359375\tTime: 0:00:00.261352\n",
            "Epoch: [58/100]\tSamples: [58000/100000]\tTrain Loss: 2194.13684375\tTime: 0:00:00.271648\n",
            "Epoch: [59/100]\tSamples: [59000/100000]\tTrain Loss: 2192.800171875\tTime: 0:00:00.263716\n",
            "Epoch: [60/100]\tSamples: [60000/100000]\tTrain Loss: 2189.3568046875\tTime: 0:00:00.255219\n",
            "Epoch: [61/100]\tSamples: [61000/100000]\tTrain Loss: 2190.8687421875\tTime: 0:00:00.269933\n",
            "Epoch: [62/100]\tSamples: [62000/100000]\tTrain Loss: 2190.2539296875\tTime: 0:00:00.265561\n",
            "Epoch: [63/100]\tSamples: [63000/100000]\tTrain Loss: 2193.714640625\tTime: 0:00:00.260313\n",
            "Epoch: [64/100]\tSamples: [64000/100000]\tTrain Loss: 2191.59996875\tTime: 0:00:00.254463\n",
            "Epoch: [65/100]\tSamples: [65000/100000]\tTrain Loss: 2190.404453125\tTime: 0:00:00.275335\n",
            "Epoch: [66/100]\tSamples: [66000/100000]\tTrain Loss: 2192.257125\tTime: 0:00:00.265478\n",
            "Epoch: [67/100]\tSamples: [67000/100000]\tTrain Loss: 2190.09684375\tTime: 0:00:00.275198\n",
            "Epoch: [68/100]\tSamples: [68000/100000]\tTrain Loss: 2188.1184453125\tTime: 0:00:00.251364\n",
            "Epoch: [69/100]\tSamples: [69000/100000]\tTrain Loss: 2190.0185390625\tTime: 0:00:00.283133\n",
            "Epoch: [70/100]\tSamples: [70000/100000]\tTrain Loss: 2187.9355390625\tTime: 0:00:00.260425\n",
            "Epoch: [71/100]\tSamples: [71000/100000]\tTrain Loss: 2191.205875\tTime: 0:00:00.260826\n",
            "Epoch: [72/100]\tSamples: [72000/100000]\tTrain Loss: 2192.090796875\tTime: 0:00:00.257842\n",
            "Epoch: [73/100]\tSamples: [73000/100000]\tTrain Loss: 2186.528296875\tTime: 0:00:00.264959\n",
            "Epoch: [74/100]\tSamples: [74000/100000]\tTrain Loss: 2185.89409375\tTime: 0:00:00.259194\n",
            "Epoch: [75/100]\tSamples: [75000/100000]\tTrain Loss: 2188.3517890625\tTime: 0:00:00.254133\n",
            "Epoch: [76/100]\tSamples: [76000/100000]\tTrain Loss: 2188.93265625\tTime: 0:00:00.257420\n",
            "Epoch: [77/100]\tSamples: [77000/100000]\tTrain Loss: 2185.9865\tTime: 0:00:00.282542\n",
            "Epoch: [78/100]\tSamples: [78000/100000]\tTrain Loss: 2188.164140625\tTime: 0:00:00.253940\n",
            "Epoch: [79/100]\tSamples: [79000/100000]\tTrain Loss: 2189.3122265625\tTime: 0:00:00.270437\n",
            "Epoch: [80/100]\tSamples: [80000/100000]\tTrain Loss: 2188.8998828125\tTime: 0:00:00.287354\n",
            "Epoch: [81/100]\tSamples: [81000/100000]\tTrain Loss: 2188.3057734375\tTime: 0:00:00.274895\n",
            "Epoch: [82/100]\tSamples: [82000/100000]\tTrain Loss: 2188.210609375\tTime: 0:00:00.259208\n",
            "Epoch: [83/100]\tSamples: [83000/100000]\tTrain Loss: 2187.7964140625\tTime: 0:00:00.261820\n",
            "Epoch: [84/100]\tSamples: [84000/100000]\tTrain Loss: 2187.170265625\tTime: 0:00:00.265043\n",
            "Epoch: [85/100]\tSamples: [85000/100000]\tTrain Loss: 2187.893171875\tTime: 0:00:00.284139\n",
            "Epoch: [86/100]\tSamples: [86000/100000]\tTrain Loss: 2187.5203515625\tTime: 0:00:00.286982\n",
            "Epoch: [87/100]\tSamples: [87000/100000]\tTrain Loss: 2187.4255546875\tTime: 0:00:00.279695\n",
            "Epoch: [88/100]\tSamples: [88000/100000]\tTrain Loss: 2187.1956796875\tTime: 0:00:00.300570\n",
            "Epoch: [89/100]\tSamples: [89000/100000]\tTrain Loss: 2187.8158828125\tTime: 0:00:00.274178\n",
            "Epoch: [90/100]\tSamples: [90000/100000]\tTrain Loss: 2190.3474296875\tTime: 0:00:00.264701\n",
            "Epoch: [91/100]\tSamples: [91000/100000]\tTrain Loss: 2190.5609140625\tTime: 0:00:00.289688\n",
            "Epoch: [92/100]\tSamples: [92000/100000]\tTrain Loss: 2187.82903125\tTime: 0:00:00.282330\n",
            "Epoch: [93/100]\tSamples: [93000/100000]\tTrain Loss: 2187.1705078125\tTime: 0:00:00.259837\n",
            "Epoch: [94/100]\tSamples: [94000/100000]\tTrain Loss: 2187.54778125\tTime: 0:00:00.254823\n",
            "Epoch: [95/100]\tSamples: [95000/100000]\tTrain Loss: 2187.953140625\tTime: 0:00:00.269917\n",
            "Epoch: [96/100]\tSamples: [96000/100000]\tTrain Loss: 2188.2166328125\tTime: 0:00:00.284005\n",
            "Epoch: [97/100]\tSamples: [97000/100000]\tTrain Loss: 2187.781171875\tTime: 0:00:00.280914\n",
            "Epoch: [98/100]\tSamples: [98000/100000]\tTrain Loss: 2188.4765234375\tTime: 0:00:00.275513\n",
            "Epoch: [99/100]\tSamples: [99000/100000]\tTrain Loss: 2185.7099296875\tTime: 0:00:00.278749\n",
            "Epoch: [100/100]\tSamples: [100000/100000]\tTrain Loss: 2186.56053125\tTime: 0:00:00.265120\n",
            "Settings: \n",
            "               N Components: 10\n",
            "               Topic Prior Mean: 0.0\n",
            "               Topic Prior Variance: 0.9\n",
            "               Model Type: prodLDA\n",
            "               Hidden Sizes: (100, 100)\n",
            "               Activation: softplus\n",
            "               Dropout: 0.2\n",
            "               Learn Priors: True\n",
            "               Learning Rate: 0.002\n",
            "               Momentum: 0.99\n",
            "               Reduce On Plateau: False\n",
            "               Save Dir: None\n",
            "Epoch: [1/100]\tSamples: [1000/100000]\tTrain Loss: 2372.2827421875\tTime: 0:00:00.299605\n",
            "Epoch: [2/100]\tSamples: [2000/100000]\tTrain Loss: 2339.435984375\tTime: 0:00:00.291904\n",
            "Epoch: [3/100]\tSamples: [3000/100000]\tTrain Loss: 2308.210109375\tTime: 0:00:00.277564\n",
            "Epoch: [4/100]\tSamples: [4000/100000]\tTrain Loss: 2287.5428125\tTime: 0:00:00.286018\n",
            "Epoch: [5/100]\tSamples: [5000/100000]\tTrain Loss: 2269.203421875\tTime: 0:00:00.282871\n",
            "Epoch: [6/100]\tSamples: [6000/100000]\tTrain Loss: 2257.399390625\tTime: 0:00:00.278826\n",
            "Epoch: [7/100]\tSamples: [7000/100000]\tTrain Loss: 2249.3109921875\tTime: 0:00:00.259764\n",
            "Epoch: [8/100]\tSamples: [8000/100000]\tTrain Loss: 2245.30503125\tTime: 0:00:00.277471\n",
            "Epoch: [9/100]\tSamples: [9000/100000]\tTrain Loss: 2237.804703125\tTime: 0:00:00.284713\n",
            "Epoch: [10/100]\tSamples: [10000/100000]\tTrain Loss: 2233.494875\tTime: 0:00:00.271054\n",
            "Epoch: [11/100]\tSamples: [11000/100000]\tTrain Loss: 2226.609234375\tTime: 0:00:00.266380\n",
            "Epoch: [12/100]\tSamples: [12000/100000]\tTrain Loss: 2222.251875\tTime: 0:00:00.277312\n",
            "Epoch: [13/100]\tSamples: [13000/100000]\tTrain Loss: 2222.56190625\tTime: 0:00:00.273525\n",
            "Epoch: [14/100]\tSamples: [14000/100000]\tTrain Loss: 2217.468234375\tTime: 0:00:00.262493\n",
            "Epoch: [15/100]\tSamples: [15000/100000]\tTrain Loss: 2215.645203125\tTime: 0:00:00.283128\n",
            "Epoch: [16/100]\tSamples: [16000/100000]\tTrain Loss: 2208.8536875\tTime: 0:00:00.265460\n",
            "Epoch: [17/100]\tSamples: [17000/100000]\tTrain Loss: 2207.43996875\tTime: 0:00:00.283374\n",
            "Epoch: [18/100]\tSamples: [18000/100000]\tTrain Loss: 2202.45721875\tTime: 0:00:00.261247\n",
            "Epoch: [19/100]\tSamples: [19000/100000]\tTrain Loss: 2200.86996875\tTime: 0:00:00.265283\n",
            "Epoch: [20/100]\tSamples: [20000/100000]\tTrain Loss: 2199.629109375\tTime: 0:00:00.267279\n",
            "Epoch: [21/100]\tSamples: [21000/100000]\tTrain Loss: 2195.0069921875\tTime: 0:00:00.271994\n",
            "Epoch: [22/100]\tSamples: [22000/100000]\tTrain Loss: 2197.2190546875\tTime: 0:00:00.265767\n",
            "Epoch: [23/100]\tSamples: [23000/100000]\tTrain Loss: 2191.465359375\tTime: 0:00:00.261609\n",
            "Epoch: [24/100]\tSamples: [24000/100000]\tTrain Loss: 2190.05509375\tTime: 0:00:00.265168\n",
            "Epoch: [25/100]\tSamples: [25000/100000]\tTrain Loss: 2189.38540625\tTime: 0:00:00.256995\n",
            "Epoch: [26/100]\tSamples: [26000/100000]\tTrain Loss: 2190.833375\tTime: 0:00:00.255390\n",
            "Epoch: [27/100]\tSamples: [27000/100000]\tTrain Loss: 2187.455828125\tTime: 0:00:00.268568\n",
            "Epoch: [28/100]\tSamples: [28000/100000]\tTrain Loss: 2182.571328125\tTime: 0:00:00.264268\n",
            "Epoch: [29/100]\tSamples: [29000/100000]\tTrain Loss: 2186.387953125\tTime: 0:00:00.258909\n",
            "Epoch: [30/100]\tSamples: [30000/100000]\tTrain Loss: 2184.6145625\tTime: 0:00:00.260700\n",
            "Epoch: [31/100]\tSamples: [31000/100000]\tTrain Loss: 2185.625984375\tTime: 0:00:00.264546\n",
            "Epoch: [32/100]\tSamples: [32000/100000]\tTrain Loss: 2181.36965625\tTime: 0:00:00.273914\n",
            "Epoch: [33/100]\tSamples: [33000/100000]\tTrain Loss: 2181.567375\tTime: 0:00:00.251520\n",
            "Epoch: [34/100]\tSamples: [34000/100000]\tTrain Loss: 2180.564375\tTime: 0:00:00.264888\n",
            "Epoch: [35/100]\tSamples: [35000/100000]\tTrain Loss: 2179.10221875\tTime: 0:00:00.276494\n",
            "Epoch: [36/100]\tSamples: [36000/100000]\tTrain Loss: 2181.495546875\tTime: 0:00:00.276226\n",
            "Epoch: [37/100]\tSamples: [37000/100000]\tTrain Loss: 2180.54965625\tTime: 0:00:00.267984\n",
            "Epoch: [38/100]\tSamples: [38000/100000]\tTrain Loss: 2180.315625\tTime: 0:00:00.274639\n",
            "Epoch: [39/100]\tSamples: [39000/100000]\tTrain Loss: 2177.96775\tTime: 0:00:00.272725\n",
            "Epoch: [40/100]\tSamples: [40000/100000]\tTrain Loss: 2179.731640625\tTime: 0:00:00.265187\n",
            "Epoch: [41/100]\tSamples: [41000/100000]\tTrain Loss: 2180.7445625\tTime: 0:00:00.274177\n",
            "Epoch: [42/100]\tSamples: [42000/100000]\tTrain Loss: 2176.8520703125\tTime: 0:00:00.278688\n",
            "Epoch: [43/100]\tSamples: [43000/100000]\tTrain Loss: 2176.9231875\tTime: 0:00:00.268607\n",
            "Epoch: [44/100]\tSamples: [44000/100000]\tTrain Loss: 2177.411484375\tTime: 0:00:00.292115\n",
            "Epoch: [45/100]\tSamples: [45000/100000]\tTrain Loss: 2175.785609375\tTime: 0:00:00.277740\n",
            "Epoch: [46/100]\tSamples: [46000/100000]\tTrain Loss: 2174.1326640625\tTime: 0:00:00.276369\n",
            "Epoch: [47/100]\tSamples: [47000/100000]\tTrain Loss: 2176.508359375\tTime: 0:00:00.276076\n",
            "Epoch: [48/100]\tSamples: [48000/100000]\tTrain Loss: 2180.199296875\tTime: 0:00:00.264704\n",
            "Epoch: [49/100]\tSamples: [49000/100000]\tTrain Loss: 2174.299265625\tTime: 0:00:00.271118\n",
            "Epoch: [50/100]\tSamples: [50000/100000]\tTrain Loss: 2176.9021953125\tTime: 0:00:00.261563\n",
            "Epoch: [51/100]\tSamples: [51000/100000]\tTrain Loss: 2175.0613203125\tTime: 0:00:00.262104\n",
            "Epoch: [52/100]\tSamples: [52000/100000]\tTrain Loss: 2177.8245546875\tTime: 0:00:00.256751\n",
            "Epoch: [53/100]\tSamples: [53000/100000]\tTrain Loss: 2176.021265625\tTime: 0:00:00.282511\n",
            "Epoch: [54/100]\tSamples: [54000/100000]\tTrain Loss: 2173.5146875\tTime: 0:00:00.271833\n",
            "Epoch: [55/100]\tSamples: [55000/100000]\tTrain Loss: 2177.4781484375\tTime: 0:00:00.274370\n",
            "Epoch: [56/100]\tSamples: [56000/100000]\tTrain Loss: 2174.53771875\tTime: 0:00:00.269696\n",
            "Epoch: [57/100]\tSamples: [57000/100000]\tTrain Loss: 2177.510453125\tTime: 0:00:00.270001\n",
            "Epoch: [58/100]\tSamples: [58000/100000]\tTrain Loss: 2177.729765625\tTime: 0:00:00.265773\n",
            "Epoch: [59/100]\tSamples: [59000/100000]\tTrain Loss: 2172.5846015625\tTime: 0:00:00.273441\n",
            "Epoch: [60/100]\tSamples: [60000/100000]\tTrain Loss: 2174.408875\tTime: 0:00:00.268107\n",
            "Epoch: [61/100]\tSamples: [61000/100000]\tTrain Loss: 2175.372484375\tTime: 0:00:00.268062\n",
            "Epoch: [62/100]\tSamples: [62000/100000]\tTrain Loss: 2176.47334375\tTime: 0:00:00.268781\n",
            "Epoch: [63/100]\tSamples: [63000/100000]\tTrain Loss: 2171.475890625\tTime: 0:00:00.258452\n",
            "Epoch: [64/100]\tSamples: [64000/100000]\tTrain Loss: 2174.8973828125\tTime: 0:00:00.264607\n",
            "Epoch: [65/100]\tSamples: [65000/100000]\tTrain Loss: 2175.3281875\tTime: 0:00:00.254521\n",
            "Epoch: [66/100]\tSamples: [66000/100000]\tTrain Loss: 2178.6906953125\tTime: 0:00:00.269538\n",
            "Epoch: [67/100]\tSamples: [67000/100000]\tTrain Loss: 2171.3827421875\tTime: 0:00:00.264871\n",
            "Epoch: [68/100]\tSamples: [68000/100000]\tTrain Loss: 2177.0208125\tTime: 0:00:00.271348\n",
            "Epoch: [69/100]\tSamples: [69000/100000]\tTrain Loss: 2174.9787734375\tTime: 0:00:00.262993\n",
            "Epoch: [70/100]\tSamples: [70000/100000]\tTrain Loss: 2174.2511953125\tTime: 0:00:00.268614\n",
            "Epoch: [71/100]\tSamples: [71000/100000]\tTrain Loss: 2172.1836015625\tTime: 0:00:00.258186\n",
            "Epoch: [72/100]\tSamples: [72000/100000]\tTrain Loss: 2171.26621875\tTime: 0:00:00.273667\n",
            "Epoch: [73/100]\tSamples: [73000/100000]\tTrain Loss: 2174.3679921875\tTime: 0:00:00.263769\n",
            "Epoch: [74/100]\tSamples: [74000/100000]\tTrain Loss: 2175.0100078125\tTime: 0:00:00.273623\n",
            "Epoch: [75/100]\tSamples: [75000/100000]\tTrain Loss: 2173.31175\tTime: 0:00:00.263841\n",
            "Epoch: [76/100]\tSamples: [76000/100000]\tTrain Loss: 2171.41425\tTime: 0:00:00.269878\n",
            "Epoch: [77/100]\tSamples: [77000/100000]\tTrain Loss: 2171.6270546875\tTime: 0:00:00.273607\n",
            "Epoch: [78/100]\tSamples: [78000/100000]\tTrain Loss: 2174.825109375\tTime: 0:00:00.278343\n",
            "Epoch: [79/100]\tSamples: [79000/100000]\tTrain Loss: 2172.2612890625\tTime: 0:00:00.273950\n",
            "Epoch: [80/100]\tSamples: [80000/100000]\tTrain Loss: 2173.19028125\tTime: 0:00:00.263330\n",
            "Epoch: [81/100]\tSamples: [81000/100000]\tTrain Loss: 2178.4239609375\tTime: 0:00:00.262429\n",
            "Epoch: [82/100]\tSamples: [82000/100000]\tTrain Loss: 2174.4640234375\tTime: 0:00:00.280311\n",
            "Epoch: [83/100]\tSamples: [83000/100000]\tTrain Loss: 2172.33590625\tTime: 0:00:00.253247\n",
            "Epoch: [84/100]\tSamples: [84000/100000]\tTrain Loss: 2171.7825234375\tTime: 0:00:00.256349\n",
            "Epoch: [85/100]\tSamples: [85000/100000]\tTrain Loss: 2172.9911484375\tTime: 0:00:00.261031\n",
            "Epoch: [86/100]\tSamples: [86000/100000]\tTrain Loss: 2171.7355625\tTime: 0:00:00.267583\n",
            "Epoch: [87/100]\tSamples: [87000/100000]\tTrain Loss: 2170.712203125\tTime: 0:00:00.270926\n",
            "Epoch: [88/100]\tSamples: [88000/100000]\tTrain Loss: 2173.271578125\tTime: 0:00:00.261907\n",
            "Epoch: [89/100]\tSamples: [89000/100000]\tTrain Loss: 2172.7664921875\tTime: 0:00:00.268033\n",
            "Epoch: [90/100]\tSamples: [90000/100000]\tTrain Loss: 2171.612578125\tTime: 0:00:00.275380\n",
            "Epoch: [91/100]\tSamples: [91000/100000]\tTrain Loss: 2171.8620078125\tTime: 0:00:00.273760\n",
            "Epoch: [92/100]\tSamples: [92000/100000]\tTrain Loss: 2172.2613359375\tTime: 0:00:00.266122\n",
            "Epoch: [93/100]\tSamples: [93000/100000]\tTrain Loss: 2170.7174375\tTime: 0:00:00.282993\n",
            "Epoch: [94/100]\tSamples: [94000/100000]\tTrain Loss: 2172.866078125\tTime: 0:00:00.268094\n",
            "Epoch: [95/100]\tSamples: [95000/100000]\tTrain Loss: 2170.297234375\tTime: 0:00:00.268934\n",
            "Epoch: [96/100]\tSamples: [96000/100000]\tTrain Loss: 2172.262265625\tTime: 0:00:00.264692\n",
            "Epoch: [97/100]\tSamples: [97000/100000]\tTrain Loss: 2170.9773203125\tTime: 0:00:00.293806\n",
            "Epoch: [98/100]\tSamples: [98000/100000]\tTrain Loss: 2170.807671875\tTime: 0:00:00.276741\n",
            "Epoch: [99/100]\tSamples: [99000/100000]\tTrain Loss: 2169.9692109375\tTime: 0:00:00.267132\n",
            "Epoch: [100/100]\tSamples: [100000/100000]\tTrain Loss: 2170.5330859375\tTime: 0:00:00.276012\n",
            "Settings: \n",
            "               N Components: 10\n",
            "               Topic Prior Mean: 0.0\n",
            "               Topic Prior Variance: 0.9\n",
            "               Model Type: prodLDA\n",
            "               Hidden Sizes: (100, 100)\n",
            "               Activation: softplus\n",
            "               Dropout: 0.2\n",
            "               Learn Priors: True\n",
            "               Learning Rate: 0.002\n",
            "               Momentum: 0.99\n",
            "               Reduce On Plateau: False\n",
            "               Save Dir: None\n",
            "Epoch: [1/100]\tSamples: [1000/100000]\tTrain Loss: 2417.279515625\tTime: 0:00:00.283431\n",
            "Epoch: [2/100]\tSamples: [2000/100000]\tTrain Loss: 2384.3168671875\tTime: 0:00:00.271689\n",
            "Epoch: [3/100]\tSamples: [3000/100000]\tTrain Loss: 2355.0826875\tTime: 0:00:00.282182\n",
            "Epoch: [4/100]\tSamples: [4000/100000]\tTrain Loss: 2331.404765625\tTime: 0:00:00.268924\n",
            "Epoch: [5/100]\tSamples: [5000/100000]\tTrain Loss: 2319.4571953125\tTime: 0:00:00.272515\n",
            "Epoch: [6/100]\tSamples: [6000/100000]\tTrain Loss: 2303.4808046875\tTime: 0:00:00.273207\n",
            "Epoch: [7/100]\tSamples: [7000/100000]\tTrain Loss: 2295.3918671875\tTime: 0:00:00.286706\n",
            "Epoch: [8/100]\tSamples: [8000/100000]\tTrain Loss: 2287.864421875\tTime: 0:00:00.279843\n",
            "Epoch: [9/100]\tSamples: [9000/100000]\tTrain Loss: 2279.4385703125\tTime: 0:00:00.281606\n",
            "Epoch: [10/100]\tSamples: [10000/100000]\tTrain Loss: 2275.2684765625\tTime: 0:00:00.281930\n",
            "Epoch: [11/100]\tSamples: [11000/100000]\tTrain Loss: 2273.12\tTime: 0:00:00.283985\n",
            "Epoch: [12/100]\tSamples: [12000/100000]\tTrain Loss: 2266.85115625\tTime: 0:00:00.286565\n",
            "Epoch: [13/100]\tSamples: [13000/100000]\tTrain Loss: 2262.423828125\tTime: 0:00:00.269733\n",
            "Epoch: [14/100]\tSamples: [14000/100000]\tTrain Loss: 2259.7935859375\tTime: 0:00:00.275857\n",
            "Epoch: [15/100]\tSamples: [15000/100000]\tTrain Loss: 2258.3099921875\tTime: 0:00:00.277081\n",
            "Epoch: [16/100]\tSamples: [16000/100000]\tTrain Loss: 2252.872390625\tTime: 0:00:00.291593\n",
            "Epoch: [17/100]\tSamples: [17000/100000]\tTrain Loss: 2250.076765625\tTime: 0:00:00.279226\n",
            "Epoch: [18/100]\tSamples: [18000/100000]\tTrain Loss: 2247.1386875\tTime: 0:00:00.299656\n",
            "Epoch: [19/100]\tSamples: [19000/100000]\tTrain Loss: 2242.0071875\tTime: 0:00:00.281052\n",
            "Epoch: [20/100]\tSamples: [20000/100000]\tTrain Loss: 2240.869109375\tTime: 0:00:00.276714\n",
            "Epoch: [21/100]\tSamples: [21000/100000]\tTrain Loss: 2238.705109375\tTime: 0:00:00.308707\n",
            "Epoch: [22/100]\tSamples: [22000/100000]\tTrain Loss: 2237.9670546875\tTime: 0:00:00.271113\n",
            "Epoch: [23/100]\tSamples: [23000/100000]\tTrain Loss: 2232.6108046875\tTime: 0:00:00.270529\n",
            "Epoch: [24/100]\tSamples: [24000/100000]\tTrain Loss: 2234.752765625\tTime: 0:00:00.259779\n",
            "Epoch: [25/100]\tSamples: [25000/100000]\tTrain Loss: 2233.057359375\tTime: 0:00:00.288742\n",
            "Epoch: [26/100]\tSamples: [26000/100000]\tTrain Loss: 2230.7001953125\tTime: 0:00:00.281853\n",
            "Epoch: [27/100]\tSamples: [27000/100000]\tTrain Loss: 2230.8240078125\tTime: 0:00:00.260164\n",
            "Epoch: [28/100]\tSamples: [28000/100000]\tTrain Loss: 2228.167171875\tTime: 0:00:00.274826\n",
            "Epoch: [29/100]\tSamples: [29000/100000]\tTrain Loss: 2225.19075\tTime: 0:00:00.291756\n",
            "Epoch: [30/100]\tSamples: [30000/100000]\tTrain Loss: 2226.3731640625\tTime: 0:00:00.271192\n",
            "Epoch: [31/100]\tSamples: [31000/100000]\tTrain Loss: 2224.9838671875\tTime: 0:00:00.279925\n",
            "Epoch: [32/100]\tSamples: [32000/100000]\tTrain Loss: 2223.04771875\tTime: 0:00:00.286086\n",
            "Epoch: [33/100]\tSamples: [33000/100000]\tTrain Loss: 2223.222453125\tTime: 0:00:00.271488\n",
            "Epoch: [34/100]\tSamples: [34000/100000]\tTrain Loss: 2224.556875\tTime: 0:00:00.271393\n",
            "Epoch: [35/100]\tSamples: [35000/100000]\tTrain Loss: 2220.6705078125\tTime: 0:00:00.265179\n",
            "Epoch: [36/100]\tSamples: [36000/100000]\tTrain Loss: 2221.3605078125\tTime: 0:00:00.280432\n",
            "Epoch: [37/100]\tSamples: [37000/100000]\tTrain Loss: 2222.1511484375\tTime: 0:00:00.269938\n",
            "Epoch: [38/100]\tSamples: [38000/100000]\tTrain Loss: 2220.33696875\tTime: 0:00:00.271057\n",
            "Epoch: [39/100]\tSamples: [39000/100000]\tTrain Loss: 2219.4691875\tTime: 0:00:00.280404\n",
            "Epoch: [40/100]\tSamples: [40000/100000]\tTrain Loss: 2220.419421875\tTime: 0:00:00.284591\n",
            "Epoch: [41/100]\tSamples: [41000/100000]\tTrain Loss: 2222.9334453125\tTime: 0:00:00.270442\n",
            "Epoch: [42/100]\tSamples: [42000/100000]\tTrain Loss: 2222.7355546875\tTime: 0:00:00.271066\n",
            "Epoch: [43/100]\tSamples: [43000/100000]\tTrain Loss: 2220.2860234375\tTime: 0:00:00.309827\n",
            "Epoch: [44/100]\tSamples: [44000/100000]\tTrain Loss: 2218.5472265625\tTime: 0:00:00.281595\n",
            "Epoch: [45/100]\tSamples: [45000/100000]\tTrain Loss: 2220.046609375\tTime: 0:00:00.274617\n",
            "Epoch: [46/100]\tSamples: [46000/100000]\tTrain Loss: 2217.7194765625\tTime: 0:00:00.283435\n",
            "Epoch: [47/100]\tSamples: [47000/100000]\tTrain Loss: 2216.665\tTime: 0:00:00.276132\n",
            "Epoch: [48/100]\tSamples: [48000/100000]\tTrain Loss: 2217.4377421875\tTime: 0:00:00.287028\n",
            "Epoch: [49/100]\tSamples: [49000/100000]\tTrain Loss: 2217.3629921875\tTime: 0:00:00.281947\n",
            "Epoch: [50/100]\tSamples: [50000/100000]\tTrain Loss: 2219.313515625\tTime: 0:00:00.288561\n",
            "Epoch: [51/100]\tSamples: [51000/100000]\tTrain Loss: 2218.79659375\tTime: 0:00:00.290116\n",
            "Epoch: [52/100]\tSamples: [52000/100000]\tTrain Loss: 2218.6920703125\tTime: 0:00:00.274465\n",
            "Epoch: [53/100]\tSamples: [53000/100000]\tTrain Loss: 2216.2540234375\tTime: 0:00:00.293096\n",
            "Epoch: [54/100]\tSamples: [54000/100000]\tTrain Loss: 2214.856765625\tTime: 0:00:00.293032\n",
            "Epoch: [55/100]\tSamples: [55000/100000]\tTrain Loss: 2216.35475\tTime: 0:00:00.284879\n",
            "Epoch: [56/100]\tSamples: [56000/100000]\tTrain Loss: 2215.7973515625\tTime: 0:00:00.267848\n",
            "Epoch: [57/100]\tSamples: [57000/100000]\tTrain Loss: 2214.992671875\tTime: 0:00:00.276736\n",
            "Epoch: [58/100]\tSamples: [58000/100000]\tTrain Loss: 2214.9723359375\tTime: 0:00:00.275862\n",
            "Epoch: [59/100]\tSamples: [59000/100000]\tTrain Loss: 2215.8482421875\tTime: 0:00:00.266879\n",
            "Epoch: [60/100]\tSamples: [60000/100000]\tTrain Loss: 2216.3794140625\tTime: 0:00:00.268284\n",
            "Epoch: [61/100]\tSamples: [61000/100000]\tTrain Loss: 2213.3173203125\tTime: 0:00:00.286012\n",
            "Epoch: [62/100]\tSamples: [62000/100000]\tTrain Loss: 2218.060359375\tTime: 0:00:00.276667\n",
            "Epoch: [63/100]\tSamples: [63000/100000]\tTrain Loss: 2215.989796875\tTime: 0:00:00.274637\n",
            "Epoch: [64/100]\tSamples: [64000/100000]\tTrain Loss: 2216.358078125\tTime: 0:00:00.269459\n",
            "Epoch: [65/100]\tSamples: [65000/100000]\tTrain Loss: 2214.8822265625\tTime: 0:00:00.274941\n",
            "Epoch: [66/100]\tSamples: [66000/100000]\tTrain Loss: 2217.8621015625\tTime: 0:00:00.275456\n",
            "Epoch: [67/100]\tSamples: [67000/100000]\tTrain Loss: 2214.6618671875\tTime: 0:00:00.270611\n",
            "Epoch: [68/100]\tSamples: [68000/100000]\tTrain Loss: 2218.3299765625\tTime: 0:00:00.273958\n",
            "Epoch: [69/100]\tSamples: [69000/100000]\tTrain Loss: 2214.3662890625\tTime: 0:00:00.287416\n",
            "Epoch: [70/100]\tSamples: [70000/100000]\tTrain Loss: 2212.1123046875\tTime: 0:00:00.278796\n",
            "Epoch: [71/100]\tSamples: [71000/100000]\tTrain Loss: 2214.7208671875\tTime: 0:00:00.291966\n",
            "Epoch: [72/100]\tSamples: [72000/100000]\tTrain Loss: 2213.062265625\tTime: 0:00:00.282412\n",
            "Epoch: [73/100]\tSamples: [73000/100000]\tTrain Loss: 2214.1797734375\tTime: 0:00:00.283539\n",
            "Epoch: [74/100]\tSamples: [74000/100000]\tTrain Loss: 2214.4346875\tTime: 0:00:00.267379\n",
            "Epoch: [75/100]\tSamples: [75000/100000]\tTrain Loss: 2212.914125\tTime: 0:00:00.271005\n",
            "Epoch: [76/100]\tSamples: [76000/100000]\tTrain Loss: 2217.5785546875\tTime: 0:00:00.270239\n",
            "Epoch: [77/100]\tSamples: [77000/100000]\tTrain Loss: 2213.6584375\tTime: 0:00:00.275309\n",
            "Epoch: [78/100]\tSamples: [78000/100000]\tTrain Loss: 2216.3552734375\tTime: 0:00:00.263750\n",
            "Epoch: [79/100]\tSamples: [79000/100000]\tTrain Loss: 2213.13246875\tTime: 0:00:00.279255\n",
            "Epoch: [80/100]\tSamples: [80000/100000]\tTrain Loss: 2213.9131328125\tTime: 0:00:00.282555\n",
            "Epoch: [81/100]\tSamples: [81000/100000]\tTrain Loss: 2212.33584375\tTime: 0:00:00.265177\n",
            "Epoch: [82/100]\tSamples: [82000/100000]\tTrain Loss: 2213.32021875\tTime: 0:00:00.274614\n",
            "Epoch: [83/100]\tSamples: [83000/100000]\tTrain Loss: 2214.319296875\tTime: 0:00:00.271660\n",
            "Epoch: [84/100]\tSamples: [84000/100000]\tTrain Loss: 2210.107359375\tTime: 0:00:00.277285\n",
            "Epoch: [85/100]\tSamples: [85000/100000]\tTrain Loss: 2211.2892265625\tTime: 0:00:00.264775\n",
            "Epoch: [86/100]\tSamples: [86000/100000]\tTrain Loss: 2212.6789453125\tTime: 0:00:00.276876\n",
            "Epoch: [87/100]\tSamples: [87000/100000]\tTrain Loss: 2212.1109375\tTime: 0:00:00.293667\n",
            "Epoch: [88/100]\tSamples: [88000/100000]\tTrain Loss: 2215.14490625\tTime: 0:00:00.272724\n",
            "Epoch: [89/100]\tSamples: [89000/100000]\tTrain Loss: 2209.905625\tTime: 0:00:00.274566\n",
            "Epoch: [90/100]\tSamples: [90000/100000]\tTrain Loss: 2216.111078125\tTime: 0:00:00.282728\n",
            "Epoch: [91/100]\tSamples: [91000/100000]\tTrain Loss: 2215.8050859375\tTime: 0:00:00.275031\n",
            "Epoch: [92/100]\tSamples: [92000/100000]\tTrain Loss: 2212.304109375\tTime: 0:00:00.272038\n",
            "Epoch: [93/100]\tSamples: [93000/100000]\tTrain Loss: 2211.02278125\tTime: 0:00:00.274011\n",
            "Epoch: [94/100]\tSamples: [94000/100000]\tTrain Loss: 2214.281359375\tTime: 0:00:00.271700\n",
            "Epoch: [95/100]\tSamples: [95000/100000]\tTrain Loss: 2211.7751328125\tTime: 0:00:00.274145\n",
            "Epoch: [96/100]\tSamples: [96000/100000]\tTrain Loss: 2217.0514609375\tTime: 0:00:00.263714\n",
            "Epoch: [97/100]\tSamples: [97000/100000]\tTrain Loss: 2214.64696875\tTime: 0:00:00.281794\n",
            "Epoch: [98/100]\tSamples: [98000/100000]\tTrain Loss: 2215.58659375\tTime: 0:00:00.280306\n",
            "Epoch: [99/100]\tSamples: [99000/100000]\tTrain Loss: 2212.294703125\tTime: 0:00:00.288722\n",
            "Epoch: [100/100]\tSamples: [100000/100000]\tTrain Loss: 2214.6536328125\tTime: 0:00:00.277871\n",
            "Settings: \n",
            "               N Components: 10\n",
            "               Topic Prior Mean: 0.0\n",
            "               Topic Prior Variance: 0.9\n",
            "               Model Type: prodLDA\n",
            "               Hidden Sizes: (100, 100)\n",
            "               Activation: softplus\n",
            "               Dropout: 0.2\n",
            "               Learn Priors: True\n",
            "               Learning Rate: 0.002\n",
            "               Momentum: 0.99\n",
            "               Reduce On Plateau: False\n",
            "               Save Dir: None\n",
            "Epoch: [1/100]\tSamples: [1000/100000]\tTrain Loss: 2365.4685234375\tTime: 0:00:00.317734\n",
            "Epoch: [2/100]\tSamples: [2000/100000]\tTrain Loss: 2330.4216484375\tTime: 0:00:00.272002\n",
            "Epoch: [3/100]\tSamples: [3000/100000]\tTrain Loss: 2304.0016171875\tTime: 0:00:00.279095\n",
            "Epoch: [4/100]\tSamples: [4000/100000]\tTrain Loss: 2278.5696328125\tTime: 0:00:00.274224\n",
            "Epoch: [5/100]\tSamples: [5000/100000]\tTrain Loss: 2266.1796953125\tTime: 0:00:00.279275\n",
            "Epoch: [6/100]\tSamples: [6000/100000]\tTrain Loss: 2251.9909921875\tTime: 0:00:00.270479\n",
            "Epoch: [7/100]\tSamples: [7000/100000]\tTrain Loss: 2242.993875\tTime: 0:00:00.283636\n",
            "Epoch: [8/100]\tSamples: [8000/100000]\tTrain Loss: 2237.5547109375\tTime: 0:00:00.288998\n",
            "Epoch: [9/100]\tSamples: [9000/100000]\tTrain Loss: 2230.6954921875\tTime: 0:00:00.277844\n",
            "Epoch: [10/100]\tSamples: [10000/100000]\tTrain Loss: 2230.0036953125\tTime: 0:00:00.278764\n",
            "Epoch: [11/100]\tSamples: [11000/100000]\tTrain Loss: 2220.938796875\tTime: 0:00:00.268993\n",
            "Epoch: [12/100]\tSamples: [12000/100000]\tTrain Loss: 2216.8793359375\tTime: 0:00:00.268747\n",
            "Epoch: [13/100]\tSamples: [13000/100000]\tTrain Loss: 2217.0100390625\tTime: 0:00:00.268934\n",
            "Epoch: [14/100]\tSamples: [14000/100000]\tTrain Loss: 2211.163140625\tTime: 0:00:00.275304\n",
            "Epoch: [15/100]\tSamples: [15000/100000]\tTrain Loss: 2208.8816328125\tTime: 0:00:00.269600\n",
            "Epoch: [16/100]\tSamples: [16000/100000]\tTrain Loss: 2205.7941796875\tTime: 0:00:00.284667\n",
            "Epoch: [17/100]\tSamples: [17000/100000]\tTrain Loss: 2200.582046875\tTime: 0:00:00.280593\n",
            "Epoch: [18/100]\tSamples: [18000/100000]\tTrain Loss: 2197.2258359375\tTime: 0:00:00.277968\n",
            "Epoch: [19/100]\tSamples: [19000/100000]\tTrain Loss: 2193.6603125\tTime: 0:00:00.274647\n",
            "Epoch: [20/100]\tSamples: [20000/100000]\tTrain Loss: 2193.5216015625\tTime: 0:00:00.273684\n",
            "Epoch: [21/100]\tSamples: [21000/100000]\tTrain Loss: 2190.1775390625\tTime: 0:00:00.281391\n",
            "Epoch: [22/100]\tSamples: [22000/100000]\tTrain Loss: 2191.4865625\tTime: 0:00:00.274893\n",
            "Epoch: [23/100]\tSamples: [23000/100000]\tTrain Loss: 2189.404625\tTime: 0:00:00.282268\n",
            "Epoch: [24/100]\tSamples: [24000/100000]\tTrain Loss: 2181.421109375\tTime: 0:00:00.272949\n",
            "Epoch: [25/100]\tSamples: [25000/100000]\tTrain Loss: 2182.1394453125\tTime: 0:00:00.269006\n",
            "Epoch: [26/100]\tSamples: [26000/100000]\tTrain Loss: 2180.3614375\tTime: 0:00:00.272372\n",
            "Epoch: [27/100]\tSamples: [27000/100000]\tTrain Loss: 2177.5401015625\tTime: 0:00:00.271661\n",
            "Epoch: [28/100]\tSamples: [28000/100000]\tTrain Loss: 2175.1940859375\tTime: 0:00:00.261147\n",
            "Epoch: [29/100]\tSamples: [29000/100000]\tTrain Loss: 2179.0649453125\tTime: 0:00:00.267494\n",
            "Epoch: [30/100]\tSamples: [30000/100000]\tTrain Loss: 2176.0617265625\tTime: 0:00:00.266085\n",
            "Epoch: [31/100]\tSamples: [31000/100000]\tTrain Loss: 2178.7440234375\tTime: 0:00:00.285446\n",
            "Epoch: [32/100]\tSamples: [32000/100000]\tTrain Loss: 2173.5948984375\tTime: 0:00:00.279934\n",
            "Epoch: [33/100]\tSamples: [33000/100000]\tTrain Loss: 2173.26996875\tTime: 0:00:00.278897\n",
            "Epoch: [34/100]\tSamples: [34000/100000]\tTrain Loss: 2175.220703125\tTime: 0:00:00.264184\n",
            "Epoch: [35/100]\tSamples: [35000/100000]\tTrain Loss: 2174.61828125\tTime: 0:00:00.277639\n",
            "Epoch: [36/100]\tSamples: [36000/100000]\tTrain Loss: 2175.5603515625\tTime: 0:00:00.269070\n",
            "Epoch: [37/100]\tSamples: [37000/100000]\tTrain Loss: 2174.587890625\tTime: 0:00:00.267183\n",
            "Epoch: [38/100]\tSamples: [38000/100000]\tTrain Loss: 2171.2824375\tTime: 0:00:00.264294\n",
            "Epoch: [39/100]\tSamples: [39000/100000]\tTrain Loss: 2170.4208125\tTime: 0:00:00.269493\n",
            "Epoch: [40/100]\tSamples: [40000/100000]\tTrain Loss: 2172.8465078125\tTime: 0:00:00.266755\n",
            "Epoch: [41/100]\tSamples: [41000/100000]\tTrain Loss: 2170.0719375\tTime: 0:00:00.264586\n",
            "Epoch: [42/100]\tSamples: [42000/100000]\tTrain Loss: 2169.6959375\tTime: 0:00:00.277072\n",
            "Epoch: [43/100]\tSamples: [43000/100000]\tTrain Loss: 2169.977359375\tTime: 0:00:00.284737\n",
            "Epoch: [44/100]\tSamples: [44000/100000]\tTrain Loss: 2169.5226328125\tTime: 0:00:00.266853\n",
            "Epoch: [45/100]\tSamples: [45000/100000]\tTrain Loss: 2172.2626953125\tTime: 0:00:00.268408\n",
            "Epoch: [46/100]\tSamples: [46000/100000]\tTrain Loss: 2169.9404375\tTime: 0:00:00.280807\n",
            "Epoch: [47/100]\tSamples: [47000/100000]\tTrain Loss: 2171.7773046875\tTime: 0:00:00.277531\n",
            "Epoch: [48/100]\tSamples: [48000/100000]\tTrain Loss: 2168.4065234375\tTime: 0:00:00.280091\n",
            "Epoch: [49/100]\tSamples: [49000/100000]\tTrain Loss: 2169.1494140625\tTime: 0:00:00.266169\n",
            "Epoch: [50/100]\tSamples: [50000/100000]\tTrain Loss: 2169.937140625\tTime: 0:00:00.277811\n",
            "Epoch: [51/100]\tSamples: [51000/100000]\tTrain Loss: 2168.2386328125\tTime: 0:00:00.264474\n",
            "Epoch: [52/100]\tSamples: [52000/100000]\tTrain Loss: 2167.3676640625\tTime: 0:00:00.272956\n",
            "Epoch: [53/100]\tSamples: [53000/100000]\tTrain Loss: 2168.4598125\tTime: 0:00:00.292714\n",
            "Epoch: [54/100]\tSamples: [54000/100000]\tTrain Loss: 2165.26934375\tTime: 0:00:00.264702\n",
            "Epoch: [55/100]\tSamples: [55000/100000]\tTrain Loss: 2168.4304609375\tTime: 0:00:00.271449\n",
            "Epoch: [56/100]\tSamples: [56000/100000]\tTrain Loss: 2167.8938828125\tTime: 0:00:00.258482\n",
            "Epoch: [57/100]\tSamples: [57000/100000]\tTrain Loss: 2168.1783046875\tTime: 0:00:00.273179\n",
            "Epoch: [58/100]\tSamples: [58000/100000]\tTrain Loss: 2167.3768828125\tTime: 0:00:00.298525\n",
            "Epoch: [59/100]\tSamples: [59000/100000]\tTrain Loss: 2162.452140625\tTime: 0:00:00.266277\n",
            "Epoch: [60/100]\tSamples: [60000/100000]\tTrain Loss: 2168.6499609375\tTime: 0:00:00.270505\n",
            "Epoch: [61/100]\tSamples: [61000/100000]\tTrain Loss: 2169.535\tTime: 0:00:00.275864\n",
            "Epoch: [62/100]\tSamples: [62000/100000]\tTrain Loss: 2164.902640625\tTime: 0:00:00.294624\n",
            "Epoch: [63/100]\tSamples: [63000/100000]\tTrain Loss: 2168.03753125\tTime: 0:00:00.262981\n",
            "Epoch: [64/100]\tSamples: [64000/100000]\tTrain Loss: 2163.624875\tTime: 0:00:00.260611\n",
            "Epoch: [65/100]\tSamples: [65000/100000]\tTrain Loss: 2163.980265625\tTime: 0:00:00.277798\n",
            "Epoch: [66/100]\tSamples: [66000/100000]\tTrain Loss: 2165.231046875\tTime: 0:00:00.271416\n",
            "Epoch: [67/100]\tSamples: [67000/100000]\tTrain Loss: 2165.91125\tTime: 0:00:00.270879\n",
            "Epoch: [68/100]\tSamples: [68000/100000]\tTrain Loss: 2166.5211875\tTime: 0:00:00.274716\n",
            "Epoch: [69/100]\tSamples: [69000/100000]\tTrain Loss: 2167.085046875\tTime: 0:00:00.278009\n",
            "Epoch: [70/100]\tSamples: [70000/100000]\tTrain Loss: 2166.0982890625\tTime: 0:00:00.272753\n",
            "Epoch: [71/100]\tSamples: [71000/100000]\tTrain Loss: 2164.7054296875\tTime: 0:00:00.281353\n",
            "Epoch: [72/100]\tSamples: [72000/100000]\tTrain Loss: 2166.2571171875\tTime: 0:00:00.278826\n",
            "Epoch: [73/100]\tSamples: [73000/100000]\tTrain Loss: 2171.0368984375\tTime: 0:00:00.272325\n",
            "Epoch: [74/100]\tSamples: [74000/100000]\tTrain Loss: 2165.1064921875\tTime: 0:00:00.270962\n",
            "Epoch: [75/100]\tSamples: [75000/100000]\tTrain Loss: 2165.115109375\tTime: 0:00:00.269826\n",
            "Epoch: [76/100]\tSamples: [76000/100000]\tTrain Loss: 2163.9987109375\tTime: 0:00:00.283691\n",
            "Epoch: [77/100]\tSamples: [77000/100000]\tTrain Loss: 2167.8431015625\tTime: 0:00:00.267943\n",
            "Epoch: [78/100]\tSamples: [78000/100000]\tTrain Loss: 2164.620234375\tTime: 0:00:00.254724\n",
            "Epoch: [79/100]\tSamples: [79000/100000]\tTrain Loss: 2166.231546875\tTime: 0:00:00.263324\n",
            "Epoch: [80/100]\tSamples: [80000/100000]\tTrain Loss: 2167.1989453125\tTime: 0:00:00.280937\n",
            "Epoch: [81/100]\tSamples: [81000/100000]\tTrain Loss: 2166.4938359375\tTime: 0:00:00.262054\n",
            "Epoch: [82/100]\tSamples: [82000/100000]\tTrain Loss: 2163.9516640625\tTime: 0:00:00.259453\n",
            "Epoch: [83/100]\tSamples: [83000/100000]\tTrain Loss: 2164.4848828125\tTime: 0:00:00.262684\n",
            "Epoch: [84/100]\tSamples: [84000/100000]\tTrain Loss: 2164.9666328125\tTime: 0:00:00.273578\n",
            "Epoch: [85/100]\tSamples: [85000/100000]\tTrain Loss: 2163.7823125\tTime: 0:00:00.273597\n",
            "Epoch: [86/100]\tSamples: [86000/100000]\tTrain Loss: 2162.35825\tTime: 0:00:00.268025\n",
            "Epoch: [87/100]\tSamples: [87000/100000]\tTrain Loss: 2163.869875\tTime: 0:00:00.253453\n",
            "Epoch: [88/100]\tSamples: [88000/100000]\tTrain Loss: 2162.9313046875\tTime: 0:00:00.275780\n",
            "Epoch: [89/100]\tSamples: [89000/100000]\tTrain Loss: 2166.1899296875\tTime: 0:00:00.258286\n",
            "Epoch: [90/100]\tSamples: [90000/100000]\tTrain Loss: 2164.57265625\tTime: 0:00:00.263985\n",
            "Epoch: [91/100]\tSamples: [91000/100000]\tTrain Loss: 2164.3323671875\tTime: 0:00:00.279781\n",
            "Epoch: [92/100]\tSamples: [92000/100000]\tTrain Loss: 2161.84565625\tTime: 0:00:00.269562\n",
            "Epoch: [93/100]\tSamples: [93000/100000]\tTrain Loss: 2163.8305625\tTime: 0:00:00.267832\n",
            "Epoch: [94/100]\tSamples: [94000/100000]\tTrain Loss: 2164.2924140625\tTime: 0:00:00.285333\n",
            "Epoch: [95/100]\tSamples: [95000/100000]\tTrain Loss: 2164.9301796875\tTime: 0:00:00.275521\n",
            "Epoch: [96/100]\tSamples: [96000/100000]\tTrain Loss: 2163.8424921875\tTime: 0:00:00.277003\n",
            "Epoch: [97/100]\tSamples: [97000/100000]\tTrain Loss: 2166.80053125\tTime: 0:00:00.271729\n",
            "Epoch: [98/100]\tSamples: [98000/100000]\tTrain Loss: 2166.928828125\tTime: 0:00:00.267588\n",
            "Epoch: [99/100]\tSamples: [99000/100000]\tTrain Loss: 2164.7183359375\tTime: 0:00:00.284586\n",
            "Epoch: [100/100]\tSamples: [100000/100000]\tTrain Loss: 2167.08109375\tTime: 0:00:00.256349\n",
            "Settings: \n",
            "               N Components: 10\n",
            "               Topic Prior Mean: 0.0\n",
            "               Topic Prior Variance: 0.9\n",
            "               Model Type: prodLDA\n",
            "               Hidden Sizes: (100, 100)\n",
            "               Activation: softplus\n",
            "               Dropout: 0.2\n",
            "               Learn Priors: True\n",
            "               Learning Rate: 0.002\n",
            "               Momentum: 0.99\n",
            "               Reduce On Plateau: False\n",
            "               Save Dir: None\n",
            "Epoch: [1/100]\tSamples: [1000/100000]\tTrain Loss: 2389.1528515625\tTime: 0:00:00.301857\n",
            "Epoch: [2/100]\tSamples: [2000/100000]\tTrain Loss: 2352.55359375\tTime: 0:00:00.275406\n",
            "Epoch: [3/100]\tSamples: [3000/100000]\tTrain Loss: 2323.9621796875\tTime: 0:00:00.274306\n",
            "Epoch: [4/100]\tSamples: [4000/100000]\tTrain Loss: 2302.2054296875\tTime: 0:00:00.274977\n",
            "Epoch: [5/100]\tSamples: [5000/100000]\tTrain Loss: 2288.7081953125\tTime: 0:00:00.293905\n",
            "Epoch: [6/100]\tSamples: [6000/100000]\tTrain Loss: 2281.373078125\tTime: 0:00:00.280371\n",
            "Epoch: [7/100]\tSamples: [7000/100000]\tTrain Loss: 2271.980546875\tTime: 0:00:00.280158\n",
            "Epoch: [8/100]\tSamples: [8000/100000]\tTrain Loss: 2265.53253125\tTime: 0:00:00.287578\n",
            "Epoch: [9/100]\tSamples: [9000/100000]\tTrain Loss: 2259.6151328125\tTime: 0:00:00.294819\n",
            "Epoch: [10/100]\tSamples: [10000/100000]\tTrain Loss: 2255.162234375\tTime: 0:00:00.267189\n",
            "Epoch: [11/100]\tSamples: [11000/100000]\tTrain Loss: 2249.96775\tTime: 0:00:00.296176\n",
            "Epoch: [12/100]\tSamples: [12000/100000]\tTrain Loss: 2246.8516875\tTime: 0:00:00.299263\n",
            "Epoch: [13/100]\tSamples: [13000/100000]\tTrain Loss: 2244.2011640625\tTime: 0:00:00.287310\n",
            "Epoch: [14/100]\tSamples: [14000/100000]\tTrain Loss: 2236.90175\tTime: 0:00:00.276075\n",
            "Epoch: [15/100]\tSamples: [15000/100000]\tTrain Loss: 2236.477296875\tTime: 0:00:00.281267\n",
            "Epoch: [16/100]\tSamples: [16000/100000]\tTrain Loss: 2232.869703125\tTime: 0:00:00.294338\n",
            "Epoch: [17/100]\tSamples: [17000/100000]\tTrain Loss: 2233.0821875\tTime: 0:00:00.280379\n",
            "Epoch: [18/100]\tSamples: [18000/100000]\tTrain Loss: 2223.9016484375\tTime: 0:00:00.272955\n",
            "Epoch: [19/100]\tSamples: [19000/100000]\tTrain Loss: 2222.4775625\tTime: 0:00:00.290232\n",
            "Epoch: [20/100]\tSamples: [20000/100000]\tTrain Loss: 2222.0613046875\tTime: 0:00:00.284975\n",
            "Epoch: [21/100]\tSamples: [21000/100000]\tTrain Loss: 2220.645078125\tTime: 0:00:00.277834\n",
            "Epoch: [22/100]\tSamples: [22000/100000]\tTrain Loss: 2219.856234375\tTime: 0:00:00.267752\n",
            "Epoch: [23/100]\tSamples: [23000/100000]\tTrain Loss: 2216.270953125\tTime: 0:00:00.295056\n",
            "Epoch: [24/100]\tSamples: [24000/100000]\tTrain Loss: 2215.051625\tTime: 0:00:00.280431\n",
            "Epoch: [25/100]\tSamples: [25000/100000]\tTrain Loss: 2213.5375703125\tTime: 0:00:00.275826\n",
            "Epoch: [26/100]\tSamples: [26000/100000]\tTrain Loss: 2211.56665625\tTime: 0:00:00.283738\n",
            "Epoch: [27/100]\tSamples: [27000/100000]\tTrain Loss: 2211.2838671875\tTime: 0:00:00.286621\n",
            "Epoch: [28/100]\tSamples: [28000/100000]\tTrain Loss: 2209.445046875\tTime: 0:00:00.282547\n",
            "Epoch: [29/100]\tSamples: [29000/100000]\tTrain Loss: 2204.304546875\tTime: 0:00:00.280004\n",
            "Epoch: [30/100]\tSamples: [30000/100000]\tTrain Loss: 2205.7781640625\tTime: 0:00:00.286846\n",
            "Epoch: [31/100]\tSamples: [31000/100000]\tTrain Loss: 2206.1743359375\tTime: 0:00:00.283415\n",
            "Epoch: [32/100]\tSamples: [32000/100000]\tTrain Loss: 2203.02334375\tTime: 0:00:00.276305\n",
            "Epoch: [33/100]\tSamples: [33000/100000]\tTrain Loss: 2203.8966015625\tTime: 0:00:00.286021\n",
            "Epoch: [34/100]\tSamples: [34000/100000]\tTrain Loss: 2203.319125\tTime: 0:00:00.307274\n",
            "Epoch: [35/100]\tSamples: [35000/100000]\tTrain Loss: 2203.0952421875\tTime: 0:00:00.290904\n",
            "Epoch: [36/100]\tSamples: [36000/100000]\tTrain Loss: 2201.4218125\tTime: 0:00:00.270033\n",
            "Epoch: [37/100]\tSamples: [37000/100000]\tTrain Loss: 2200.449015625\tTime: 0:00:00.285561\n",
            "Epoch: [38/100]\tSamples: [38000/100000]\tTrain Loss: 2200.490921875\tTime: 0:00:00.278870\n",
            "Epoch: [39/100]\tSamples: [39000/100000]\tTrain Loss: 2199.4693671875\tTime: 0:00:00.273182\n",
            "Epoch: [40/100]\tSamples: [40000/100000]\tTrain Loss: 2201.7452734375\tTime: 0:00:00.284238\n",
            "Epoch: [41/100]\tSamples: [41000/100000]\tTrain Loss: 2197.4578671875\tTime: 0:00:00.295243\n",
            "Epoch: [42/100]\tSamples: [42000/100000]\tTrain Loss: 2197.281765625\tTime: 0:00:00.288751\n",
            "Epoch: [43/100]\tSamples: [43000/100000]\tTrain Loss: 2198.5678984375\tTime: 0:00:00.276502\n",
            "Epoch: [44/100]\tSamples: [44000/100000]\tTrain Loss: 2196.159796875\tTime: 0:00:00.283302\n",
            "Epoch: [45/100]\tSamples: [45000/100000]\tTrain Loss: 2197.3916953125\tTime: 0:00:00.289548\n",
            "Epoch: [46/100]\tSamples: [46000/100000]\tTrain Loss: 2201.0246796875\tTime: 0:00:00.287967\n",
            "Epoch: [47/100]\tSamples: [47000/100000]\tTrain Loss: 2198.57590625\tTime: 0:00:00.269699\n",
            "Epoch: [48/100]\tSamples: [48000/100000]\tTrain Loss: 2194.7188203125\tTime: 0:00:00.286023\n",
            "Epoch: [49/100]\tSamples: [49000/100000]\tTrain Loss: 2199.6007734375\tTime: 0:00:00.270624\n",
            "Epoch: [50/100]\tSamples: [50000/100000]\tTrain Loss: 2195.60446875\tTime: 0:00:00.278211\n",
            "Epoch: [51/100]\tSamples: [51000/100000]\tTrain Loss: 2194.066546875\tTime: 0:00:00.269827\n",
            "Epoch: [52/100]\tSamples: [52000/100000]\tTrain Loss: 2194.2668828125\tTime: 0:00:00.280122\n",
            "Epoch: [53/100]\tSamples: [53000/100000]\tTrain Loss: 2197.80653125\tTime: 0:00:00.274995\n",
            "Epoch: [54/100]\tSamples: [54000/100000]\tTrain Loss: 2196.6191015625\tTime: 0:00:00.279083\n",
            "Epoch: [55/100]\tSamples: [55000/100000]\tTrain Loss: 2194.239375\tTime: 0:00:00.288632\n",
            "Epoch: [56/100]\tSamples: [56000/100000]\tTrain Loss: 2197.0677421875\tTime: 0:00:00.284222\n",
            "Epoch: [57/100]\tSamples: [57000/100000]\tTrain Loss: 2194.60028125\tTime: 0:00:00.279439\n",
            "Epoch: [58/100]\tSamples: [58000/100000]\tTrain Loss: 2195.6093984375\tTime: 0:00:00.285312\n",
            "Epoch: [59/100]\tSamples: [59000/100000]\tTrain Loss: 2195.7309765625\tTime: 0:00:00.275056\n",
            "Epoch: [60/100]\tSamples: [60000/100000]\tTrain Loss: 2193.562421875\tTime: 0:00:00.280839\n",
            "Epoch: [61/100]\tSamples: [61000/100000]\tTrain Loss: 2193.7630859375\tTime: 0:00:00.274115\n",
            "Epoch: [62/100]\tSamples: [62000/100000]\tTrain Loss: 2192.6432421875\tTime: 0:00:00.277408\n",
            "Epoch: [63/100]\tSamples: [63000/100000]\tTrain Loss: 2193.7244921875\tTime: 0:00:00.282260\n",
            "Epoch: [64/100]\tSamples: [64000/100000]\tTrain Loss: 2195.3165\tTime: 0:00:00.290597\n",
            "Epoch: [65/100]\tSamples: [65000/100000]\tTrain Loss: 2194.41071875\tTime: 0:00:00.294533\n",
            "Epoch: [66/100]\tSamples: [66000/100000]\tTrain Loss: 2196.327296875\tTime: 0:00:00.287689\n",
            "Epoch: [67/100]\tSamples: [67000/100000]\tTrain Loss: 2193.75296875\tTime: 0:00:00.284986\n",
            "Epoch: [68/100]\tSamples: [68000/100000]\tTrain Loss: 2192.65721875\tTime: 0:00:00.289037\n",
            "Epoch: [69/100]\tSamples: [69000/100000]\tTrain Loss: 2195.661546875\tTime: 0:00:00.286877\n",
            "Epoch: [70/100]\tSamples: [70000/100000]\tTrain Loss: 2192.796859375\tTime: 0:00:00.285689\n",
            "Epoch: [71/100]\tSamples: [71000/100000]\tTrain Loss: 2194.0114921875\tTime: 0:00:00.276260\n",
            "Epoch: [72/100]\tSamples: [72000/100000]\tTrain Loss: 2189.564890625\tTime: 0:00:00.270719\n",
            "Epoch: [73/100]\tSamples: [73000/100000]\tTrain Loss: 2194.910546875\tTime: 0:00:00.273486\n",
            "Epoch: [74/100]\tSamples: [74000/100000]\tTrain Loss: 2193.722359375\tTime: 0:00:00.290754\n",
            "Epoch: [75/100]\tSamples: [75000/100000]\tTrain Loss: 2195.53065625\tTime: 0:00:00.290784\n",
            "Epoch: [76/100]\tSamples: [76000/100000]\tTrain Loss: 2194.831921875\tTime: 0:00:00.299893\n",
            "Epoch: [77/100]\tSamples: [77000/100000]\tTrain Loss: 2193.845265625\tTime: 0:00:00.288180\n",
            "Epoch: [78/100]\tSamples: [78000/100000]\tTrain Loss: 2192.293890625\tTime: 0:00:00.289042\n",
            "Epoch: [79/100]\tSamples: [79000/100000]\tTrain Loss: 2194.69034375\tTime: 0:00:00.270399\n",
            "Epoch: [80/100]\tSamples: [80000/100000]\tTrain Loss: 2190.4434375\tTime: 0:00:00.273896\n",
            "Epoch: [81/100]\tSamples: [81000/100000]\tTrain Loss: 2192.9178984375\tTime: 0:00:00.281226\n",
            "Epoch: [82/100]\tSamples: [82000/100000]\tTrain Loss: 2192.87115625\tTime: 0:00:00.282130\n",
            "Epoch: [83/100]\tSamples: [83000/100000]\tTrain Loss: 2193.34621875\tTime: 0:00:00.284416\n",
            "Epoch: [84/100]\tSamples: [84000/100000]\tTrain Loss: 2190.8368125\tTime: 0:00:00.277349\n",
            "Epoch: [85/100]\tSamples: [85000/100000]\tTrain Loss: 2189.7584453125\tTime: 0:00:00.302685\n",
            "Epoch: [86/100]\tSamples: [86000/100000]\tTrain Loss: 2192.834890625\tTime: 0:00:00.279101\n",
            "Epoch: [87/100]\tSamples: [87000/100000]\tTrain Loss: 2193.601390625\tTime: 0:00:00.284549\n",
            "Epoch: [88/100]\tSamples: [88000/100000]\tTrain Loss: 2190.8416171875\tTime: 0:00:00.288576\n",
            "Epoch: [89/100]\tSamples: [89000/100000]\tTrain Loss: 2191.0617421875\tTime: 0:00:00.279268\n",
            "Epoch: [90/100]\tSamples: [90000/100000]\tTrain Loss: 2192.0899453125\tTime: 0:00:00.278955\n",
            "Epoch: [91/100]\tSamples: [91000/100000]\tTrain Loss: 2190.1392421875\tTime: 0:00:00.281691\n",
            "Epoch: [92/100]\tSamples: [92000/100000]\tTrain Loss: 2188.2215234375\tTime: 0:00:00.287459\n",
            "Epoch: [93/100]\tSamples: [93000/100000]\tTrain Loss: 2189.87690625\tTime: 0:00:00.265797\n",
            "Epoch: [94/100]\tSamples: [94000/100000]\tTrain Loss: 2190.57478125\tTime: 0:00:00.290366\n",
            "Epoch: [95/100]\tSamples: [95000/100000]\tTrain Loss: 2192.3746015625\tTime: 0:00:00.275050\n",
            "Epoch: [96/100]\tSamples: [96000/100000]\tTrain Loss: 2192.9549140625\tTime: 0:00:00.277436\n",
            "Epoch: [97/100]\tSamples: [97000/100000]\tTrain Loss: 2193.62921875\tTime: 0:00:00.285215\n",
            "Epoch: [98/100]\tSamples: [98000/100000]\tTrain Loss: 2195.41353125\tTime: 0:00:00.275856\n",
            "Epoch: [99/100]\tSamples: [99000/100000]\tTrain Loss: 2190.7724296875\tTime: 0:00:00.287118\n",
            "Epoch: [100/100]\tSamples: [100000/100000]\tTrain Loss: 2192.42165625\tTime: 0:00:00.276958\n"
          ]
        }
      ],
      "source": [
        "train_datasets = []\n",
        "avitms = []\n",
        "id2tokens = []\n",
        "for corpus_node in documents_all:\n",
        "  cv = CountVectorizer(input='content', lowercase=True, stop_words='english',\n",
        "                      max_df=0.99, min_df=0.01, binary=False)\n",
        "  \n",
        "  docs = [\" \".join(corpus_node[i]) for i in np.arange(len(corpus_node))]\n",
        "\n",
        "  train_bow = cv.fit_transform(docs)\n",
        "  train_bow = train_bow.toarray()\n",
        "\n",
        "  idx2token = cv.get_feature_names()\n",
        "  input_size = len(idx2token)\n",
        "\n",
        "  id2token = {k: v for k, v in zip(range(0, len(idx2token)), idx2token)}\n",
        "  id2tokens.append(id2token)\n",
        "\n",
        "  train_data = BOWDataset(train_bow, idx2token)\n",
        "\n",
        "  avitm = AVITM(input_size=input_size, n_components=10, model_type='prodLDA',\n",
        "                hidden_sizes=(100, 100), activation='softplus', dropout=0.2,\n",
        "                learn_priors=True, batch_size=64, lr=2e-3, momentum=0.99,\n",
        "                solver='adam', num_epochs=100, reduce_on_plateau=False)\n",
        "\n",
        "  avitm.fit(train_data)\n",
        "  avitms.append(avitm)\n",
        "\n",
        "  train_datasets.append(train_data)"
      ]
    },
    {
      "cell_type": "markdown",
      "metadata": {
        "id": "2CD0GfefPvJD"
      },
      "source": [
        "# 2.1 Topics at each node"
      ]
    },
    {
      "cell_type": "code",
      "execution_count": null,
      "metadata": {
        "colab": {
          "base_uri": "https://localhost:8080/",
          "height": 363
        },
        "id": "-X9g0dNGk0bC",
        "outputId": "d61c4539-b125-45ff-dfa5-16cb2b81a8a7"
      },
      "outputs": [
        {
          "data": {
            "text/html": [
              "\n",
              "  <div id=\"df-f45a911b-dd49-462d-b180-6b127484af40\">\n",
              "    <div class=\"colab-df-container\">\n",
              "      <div>\n",
              "<style scoped>\n",
              "    .dataframe tbody tr th:only-of-type {\n",
              "        vertical-align: middle;\n",
              "    }\n",
              "\n",
              "    .dataframe tbody tr th {\n",
              "        vertical-align: top;\n",
              "    }\n",
              "\n",
              "    .dataframe thead th {\n",
              "        text-align: right;\n",
              "    }\n",
              "</style>\n",
              "<table border=\"1\" class=\"dataframe\">\n",
              "  <thead>\n",
              "    <tr style=\"text-align: right;\">\n",
              "      <th></th>\n",
              "      <th>0</th>\n",
              "      <th>1</th>\n",
              "      <th>2</th>\n",
              "      <th>3</th>\n",
              "      <th>4</th>\n",
              "      <th>5</th>\n",
              "      <th>6</th>\n",
              "      <th>7</th>\n",
              "      <th>8</th>\n",
              "      <th>9</th>\n",
              "    </tr>\n",
              "  </thead>\n",
              "  <tbody>\n",
              "    <tr>\n",
              "      <th>0</th>\n",
              "      <td>wd8306</td>\n",
              "      <td>wd8191</td>\n",
              "      <td>wd6480</td>\n",
              "      <td>wd3019</td>\n",
              "      <td>wd4191</td>\n",
              "      <td>wd6085</td>\n",
              "      <td>wd9390</td>\n",
              "      <td>wd8314</td>\n",
              "      <td>wd6233</td>\n",
              "      <td>wd6937</td>\n",
              "    </tr>\n",
              "    <tr>\n",
              "      <th>1</th>\n",
              "      <td>wd1002</td>\n",
              "      <td>wd6480</td>\n",
              "      <td>wd7504</td>\n",
              "      <td>wd6085</td>\n",
              "      <td>wd452</td>\n",
              "      <td>wd6087</td>\n",
              "      <td>wd5350</td>\n",
              "      <td>wd5511</td>\n",
              "      <td>wd1676</td>\n",
              "      <td>wd1653</td>\n",
              "    </tr>\n",
              "    <tr>\n",
              "      <th>2</th>\n",
              "      <td>wd8306</td>\n",
              "      <td>wd780</td>\n",
              "      <td>wd6169</td>\n",
              "      <td>wd2134</td>\n",
              "      <td>wd9759</td>\n",
              "      <td>wd3458</td>\n",
              "      <td>wd4027</td>\n",
              "      <td>wd1629</td>\n",
              "      <td>wd3067</td>\n",
              "      <td>wd7532</td>\n",
              "    </tr>\n",
              "    <tr>\n",
              "      <th>3</th>\n",
              "      <td>wd840</td>\n",
              "      <td>wd9065</td>\n",
              "      <td>wd6420</td>\n",
              "      <td>wd7392</td>\n",
              "      <td>wd7514</td>\n",
              "      <td>wd8055</td>\n",
              "      <td>wd6949</td>\n",
              "      <td>wd7503</td>\n",
              "      <td>wd1812</td>\n",
              "      <td>wd5020</td>\n",
              "    </tr>\n",
              "    <tr>\n",
              "      <th>4</th>\n",
              "      <td>wd368</td>\n",
              "      <td>wd4645</td>\n",
              "      <td>wd5910</td>\n",
              "      <td>wd839</td>\n",
              "      <td>wd4422</td>\n",
              "      <td>wd6266</td>\n",
              "      <td>wd8549</td>\n",
              "      <td>wd5727</td>\n",
              "      <td>wd6138</td>\n",
              "      <td>wd1515</td>\n",
              "    </tr>\n",
              "    <tr>\n",
              "      <th>5</th>\n",
              "      <td>wd7504</td>\n",
              "      <td>wd5511</td>\n",
              "      <td>wd5350</td>\n",
              "      <td>wd7644</td>\n",
              "      <td>wd6759</td>\n",
              "      <td>wd6087</td>\n",
              "      <td>wd2670</td>\n",
              "      <td>wd1676</td>\n",
              "      <td>wd7643</td>\n",
              "      <td>wd1652</td>\n",
              "    </tr>\n",
              "    <tr>\n",
              "      <th>6</th>\n",
              "      <td>wd9065</td>\n",
              "      <td>wd6420</td>\n",
              "      <td>wd8055</td>\n",
              "      <td>wd6949</td>\n",
              "      <td>wd7774</td>\n",
              "      <td>wd7392</td>\n",
              "      <td>wd5032</td>\n",
              "      <td>wd7503</td>\n",
              "      <td>wd9408</td>\n",
              "      <td>wd5753</td>\n",
              "    </tr>\n",
              "    <tr>\n",
              "      <th>7</th>\n",
              "      <td>wd7468</td>\n",
              "      <td>wd5399</td>\n",
              "      <td>wd1872</td>\n",
              "      <td>wd7074</td>\n",
              "      <td>wd1826</td>\n",
              "      <td>wd7186</td>\n",
              "      <td>wd251</td>\n",
              "      <td>wd5263</td>\n",
              "      <td>wd9462</td>\n",
              "      <td>wd5238</td>\n",
              "    </tr>\n",
              "    <tr>\n",
              "      <th>8</th>\n",
              "      <td>wd9339</td>\n",
              "      <td>wd4795</td>\n",
              "      <td>wd444</td>\n",
              "      <td>wd4539</td>\n",
              "      <td>wd8054</td>\n",
              "      <td>wd5550</td>\n",
              "      <td>wd9982</td>\n",
              "      <td>wd8540</td>\n",
              "      <td>wd9336</td>\n",
              "      <td>wd5264</td>\n",
              "    </tr>\n",
              "    <tr>\n",
              "      <th>9</th>\n",
              "      <td>wd4632</td>\n",
              "      <td>wd1023</td>\n",
              "      <td>wd6979</td>\n",
              "      <td>wd1536</td>\n",
              "      <td>wd191</td>\n",
              "      <td>wd3946</td>\n",
              "      <td>wd1217</td>\n",
              "      <td>wd532</td>\n",
              "      <td>wd1754</td>\n",
              "      <td>wd7302</td>\n",
              "    </tr>\n",
              "  </tbody>\n",
              "</table>\n",
              "</div>\n",
              "      <button class=\"colab-df-convert\" onclick=\"convertToInteractive('df-f45a911b-dd49-462d-b180-6b127484af40')\"\n",
              "              title=\"Convert this dataframe to an interactive table.\"\n",
              "              style=\"display:none;\">\n",
              "        \n",
              "  <svg xmlns=\"http://www.w3.org/2000/svg\" height=\"24px\"viewBox=\"0 0 24 24\"\n",
              "       width=\"24px\">\n",
              "    <path d=\"M0 0h24v24H0V0z\" fill=\"none\"/>\n",
              "    <path d=\"M18.56 5.44l.94 2.06.94-2.06 2.06-.94-2.06-.94-.94-2.06-.94 2.06-2.06.94zm-11 1L8.5 8.5l.94-2.06 2.06-.94-2.06-.94L8.5 2.5l-.94 2.06-2.06.94zm10 10l.94 2.06.94-2.06 2.06-.94-2.06-.94-.94-2.06-.94 2.06-2.06.94z\"/><path d=\"M17.41 7.96l-1.37-1.37c-.4-.4-.92-.59-1.43-.59-.52 0-1.04.2-1.43.59L10.3 9.45l-7.72 7.72c-.78.78-.78 2.05 0 2.83L4 21.41c.39.39.9.59 1.41.59.51 0 1.02-.2 1.41-.59l7.78-7.78 2.81-2.81c.8-.78.8-2.07 0-2.86zM5.41 20L4 18.59l7.72-7.72 1.47 1.35L5.41 20z\"/>\n",
              "  </svg>\n",
              "      </button>\n",
              "      \n",
              "  <style>\n",
              "    .colab-df-container {\n",
              "      display:flex;\n",
              "      flex-wrap:wrap;\n",
              "      gap: 12px;\n",
              "    }\n",
              "\n",
              "    .colab-df-convert {\n",
              "      background-color: #E8F0FE;\n",
              "      border: none;\n",
              "      border-radius: 50%;\n",
              "      cursor: pointer;\n",
              "      display: none;\n",
              "      fill: #1967D2;\n",
              "      height: 32px;\n",
              "      padding: 0 0 0 0;\n",
              "      width: 32px;\n",
              "    }\n",
              "\n",
              "    .colab-df-convert:hover {\n",
              "      background-color: #E2EBFA;\n",
              "      box-shadow: 0px 1px 2px rgba(60, 64, 67, 0.3), 0px 1px 3px 1px rgba(60, 64, 67, 0.15);\n",
              "      fill: #174EA6;\n",
              "    }\n",
              "\n",
              "    [theme=dark] .colab-df-convert {\n",
              "      background-color: #3B4455;\n",
              "      fill: #D2E3FC;\n",
              "    }\n",
              "\n",
              "    [theme=dark] .colab-df-convert:hover {\n",
              "      background-color: #434B5C;\n",
              "      box-shadow: 0px 1px 3px 1px rgba(0, 0, 0, 0.15);\n",
              "      filter: drop-shadow(0px 1px 2px rgba(0, 0, 0, 0.3));\n",
              "      fill: #FFFFFF;\n",
              "    }\n",
              "  </style>\n",
              "\n",
              "      <script>\n",
              "        const buttonEl =\n",
              "          document.querySelector('#df-f45a911b-dd49-462d-b180-6b127484af40 button.colab-df-convert');\n",
              "        buttonEl.style.display =\n",
              "          google.colab.kernel.accessAllowed ? 'block' : 'none';\n",
              "\n",
              "        async function convertToInteractive(key) {\n",
              "          const element = document.querySelector('#df-f45a911b-dd49-462d-b180-6b127484af40');\n",
              "          const dataTable =\n",
              "            await google.colab.kernel.invokeFunction('convertToInteractive',\n",
              "                                                     [key], {});\n",
              "          if (!dataTable) return;\n",
              "\n",
              "          const docLinkHtml = 'Like what you see? Visit the ' +\n",
              "            '<a target=\"_blank\" href=https://colab.research.google.com/notebooks/data_table.ipynb>data table notebook</a>'\n",
              "            + ' to learn more about interactive tables.';\n",
              "          element.innerHTML = '';\n",
              "          dataTable['output_type'] = 'display_data';\n",
              "          await google.colab.output.renderOutput(dataTable, element);\n",
              "          const docLink = document.createElement('div');\n",
              "          docLink.innerHTML = docLinkHtml;\n",
              "          element.appendChild(docLink);\n",
              "        }\n",
              "      </script>\n",
              "    </div>\n",
              "  </div>\n",
              "  "
            ],
            "text/plain": [
              "        0       1       2       3  ...       6       7       8       9\n",
              "0  wd8306  wd8191  wd6480  wd3019  ...  wd9390  wd8314  wd6233  wd6937\n",
              "1  wd1002  wd6480  wd7504  wd6085  ...  wd5350  wd5511  wd1676  wd1653\n",
              "2  wd8306   wd780  wd6169  wd2134  ...  wd4027  wd1629  wd3067  wd7532\n",
              "3   wd840  wd9065  wd6420  wd7392  ...  wd6949  wd7503  wd1812  wd5020\n",
              "4   wd368  wd4645  wd5910   wd839  ...  wd8549  wd5727  wd6138  wd1515\n",
              "5  wd7504  wd5511  wd5350  wd7644  ...  wd2670  wd1676  wd7643  wd1652\n",
              "6  wd9065  wd6420  wd8055  wd6949  ...  wd5032  wd7503  wd9408  wd5753\n",
              "7  wd7468  wd5399  wd1872  wd7074  ...   wd251  wd5263  wd9462  wd5238\n",
              "8  wd9339  wd4795   wd444  wd4539  ...  wd9982  wd8540  wd9336  wd5264\n",
              "9  wd4632  wd1023  wd6979  wd1536  ...  wd1217   wd532  wd1754  wd7302\n",
              "\n",
              "[10 rows x 10 columns]"
            ]
          },
          "execution_count": 13,
          "metadata": {},
          "output_type": "execute_result"
        }
      ],
      "source": [
        "topics_all = []\n",
        "for node in np.arange(n_nodes):\n",
        "  topics = pd.DataFrame(avitm.get_topics(10)).T\n",
        "  topics_all.append(topics)\n",
        "topics_all[0]"
      ]
    },
    {
      "cell_type": "markdown",
      "metadata": {
        "id": "W4kezlbmRaRV"
      },
      "source": [
        "## 2.2 Document-topic distributions at each node"
      ]
    },
    {
      "cell_type": "code",
      "execution_count": null,
      "metadata": {
        "id": "orpK--hqxQkG"
      },
      "outputs": [],
      "source": [
        "def get_doc_topic_distribution(avitm, dataset, n_samples=20):\n",
        "    avitm.model.eval()\n",
        "\n",
        "    loader = DataLoader(\n",
        "            avitm.train_data, batch_size=avitm.batch_size, shuffle=True,\n",
        "            num_workers=mp.cpu_count())\n",
        "\n",
        "    pbar = tqdm(n_samples, position=0, leave=True)\n",
        "\n",
        "    final_thetas = []\n",
        "    for sample_index in range(n_samples):\n",
        "        with torch.no_grad():\n",
        "            collect_theta = []\n",
        "\n",
        "            for batch_samples in loader:\n",
        "                X = batch_samples['X']\n",
        "\n",
        "                if avitm.USE_CUDA:\n",
        "                  X = X.cuda()\n",
        "\n",
        "                # forward pass\n",
        "                avitm.model.zero_grad()\n",
        "                \n",
        "                with torch.no_grad():\n",
        "                  posterior_mu, posterior_log_sigma = avitm.model.inf_net(X)\n",
        "\n",
        "                  # Generate samples from theta\n",
        "                  theta = F.softmax(\n",
        "                          avitm.model.reparameterize(posterior_mu, posterior_log_sigma), dim=1)\n",
        "                  theta = avitm.model.drop_theta(theta)\n",
        "\n",
        "                collect_theta.extend(theta.cpu().numpy().tolist())\n",
        "\n",
        "            pbar.update(1)\n",
        "            pbar.set_description(\"Sampling: [{}/{}]\".format(sample_index + 1, n_samples))\n",
        "\n",
        "            final_thetas.append(np.array(collect_theta))\n",
        "    pbar.close()\n",
        "    return np.sum(final_thetas, axis=0) / n_samples"
      ]
    },
    {
      "cell_type": "code",
      "execution_count": null,
      "metadata": {
        "colab": {
          "base_uri": "https://localhost:8080/"
        },
        "id": "PXTjce2LlVRG",
        "outputId": "9ef585da-7399-48f6-da61-da744a151ce8"
      },
      "outputs": [
        {
          "name": "stderr",
          "output_type": "stream",
          "text": [
            "Sampling: [5/5]: : 5it [00:00,  5.80it/s]\n"
          ]
        },
        {
          "name": "stdout",
          "output_type": "stream",
          "text": [
            "Document-topic distribution node 0 \n",
            "(1000, 10)\n"
          ]
        },
        {
          "name": "stderr",
          "output_type": "stream",
          "text": [
            "Sampling: [5/5]: : 5it [00:00,  5.99it/s]\n"
          ]
        },
        {
          "name": "stdout",
          "output_type": "stream",
          "text": [
            "Document-topic distribution node 1 \n",
            "(1000, 10)\n"
          ]
        },
        {
          "name": "stderr",
          "output_type": "stream",
          "text": [
            "Sampling: [5/5]: : 5it [00:00,  6.03it/s]\n"
          ]
        },
        {
          "name": "stdout",
          "output_type": "stream",
          "text": [
            "Document-topic distribution node 2 \n",
            "(1000, 10)\n"
          ]
        },
        {
          "name": "stderr",
          "output_type": "stream",
          "text": [
            "Sampling: [5/5]: : 5it [00:00,  5.75it/s]\n"
          ]
        },
        {
          "name": "stdout",
          "output_type": "stream",
          "text": [
            "Document-topic distribution node 3 \n",
            "(1000, 10)\n"
          ]
        },
        {
          "name": "stderr",
          "output_type": "stream",
          "text": [
            "Sampling: [5/5]: : 5it [00:00,  5.75it/s]"
          ]
        },
        {
          "name": "stdout",
          "output_type": "stream",
          "text": [
            "Document-topic distribution node 4 \n",
            "(1000, 10)\n"
          ]
        },
        {
          "name": "stderr",
          "output_type": "stream",
          "text": [
            "\n"
          ]
        }
      ],
      "source": [
        "doc_topic_all = []\n",
        "for node in np.arange(n_nodes):\n",
        "  doc_topic = get_doc_topic_distribution(avitms[node], train_datasets[node], n_samples=5) # get all the topic predictions\n",
        "  print(\"Document-topic distribution node\", str(node), \"\")\n",
        "  doc_topic_all.append(doc_topic)\n",
        "  print(np.array(doc_topics).shape)"
      ]
    },
    {
      "cell_type": "markdown",
      "metadata": {
        "id": "aEE_kyedRgYv"
      },
      "source": [
        "## 2.3 Word-topic distributions attained at each node"
      ]
    },
    {
      "cell_type": "code",
      "execution_count": null,
      "metadata": {
        "id": "douV1llyTM4b"
      },
      "outputs": [],
      "source": [
        "def get_topic_word_distribution(avtim_model):\n",
        "  topic_word_matrix = avtim_model.model.beta.cpu().detach().numpy()\n",
        "  return softmax(topic_word_matrix, axis=1)"
      ]
    },
    {
      "cell_type": "code",
      "execution_count": null,
      "metadata": {
        "colab": {
          "base_uri": "https://localhost:8080/"
        },
        "id": "BdM2jxRJUvk3",
        "outputId": "f7ab9dab-9624-453f-a5e3-417fe08303a3"
      },
      "outputs": [
        {
          "name": "stdout",
          "output_type": "stream",
          "text": [
            "['wd1', 'wd2', 'wd3', 'wd4', 'wd5', 'wd6', 'wd7', 'wd8', 'wd9', 'wd10', 'wd11', 'wd12', 'wd13', 'wd14', 'wd15', 'wd16', 'wd17', 'wd18', 'wd19', 'wd20', 'wd21', 'wd22', 'wd23', 'wd24', 'wd25', 'wd26', 'wd27', 'wd28', 'wd29', 'wd30', 'wd31', 'wd32', 'wd33', 'wd34', 'wd35', 'wd36', 'wd37', 'wd38', 'wd39', 'wd40', 'wd41', 'wd42', 'wd43', 'wd44', 'wd45', 'wd46', 'wd47', 'wd48', 'wd49', 'wd50', 'wd51', 'wd52', 'wd53', 'wd54', 'wd55', 'wd56', 'wd57', 'wd58', 'wd59', 'wd60', 'wd61', 'wd62', 'wd63', 'wd64', 'wd65', 'wd66', 'wd67', 'wd68', 'wd69', 'wd70', 'wd71', 'wd72', 'wd73', 'wd74', 'wd75', 'wd76', 'wd77', 'wd78', 'wd79', 'wd80', 'wd81', 'wd82', 'wd83', 'wd84', 'wd85', 'wd86', 'wd87', 'wd88', 'wd89', 'wd90', 'wd91', 'wd92', 'wd93', 'wd94', 'wd95', 'wd96', 'wd97', 'wd98', 'wd99', 'wd100', 'wd101', 'wd102', 'wd103', 'wd104', 'wd105', 'wd106', 'wd107', 'wd108', 'wd109', 'wd110', 'wd111', 'wd112', 'wd113', 'wd114', 'wd115', 'wd116', 'wd117', 'wd118', 'wd119', 'wd120', 'wd121', 'wd122', 'wd123', 'wd124', 'wd125', 'wd126', 'wd127', 'wd128', 'wd129', 'wd130', 'wd131', 'wd132', 'wd133', 'wd134', 'wd135', 'wd136', 'wd137', 'wd138', 'wd139', 'wd140', 'wd141', 'wd142', 'wd143', 'wd144', 'wd145', 'wd146', 'wd147', 'wd148', 'wd149', 'wd150', 'wd151', 'wd152', 'wd153', 'wd154', 'wd155', 'wd156', 'wd157', 'wd158', 'wd159', 'wd160', 'wd161', 'wd162', 'wd163', 'wd164', 'wd165', 'wd166', 'wd167', 'wd168', 'wd169', 'wd170', 'wd171', 'wd172', 'wd173', 'wd174', 'wd175', 'wd176', 'wd177', 'wd178', 'wd179', 'wd180', 'wd181', 'wd182', 'wd183', 'wd184', 'wd185', 'wd186', 'wd187', 'wd188', 'wd189', 'wd190', 'wd191', 'wd192', 'wd193', 'wd194', 'wd195', 'wd196', 'wd197', 'wd198', 'wd199', 'wd200', 'wd201', 'wd202', 'wd203', 'wd204', 'wd205', 'wd206', 'wd207', 'wd208', 'wd209', 'wd210', 'wd211', 'wd212', 'wd213', 'wd214', 'wd215', 'wd216', 'wd217', 'wd218', 'wd219', 'wd220', 'wd221', 'wd222', 'wd223', 'wd224', 'wd225', 'wd226', 'wd227', 'wd228', 'wd229', 'wd230', 'wd231', 'wd232', 'wd233', 'wd234', 'wd235', 'wd236', 'wd237', 'wd238', 'wd239', 'wd240', 'wd241', 'wd242', 'wd243', 'wd244', 'wd245', 'wd246', 'wd247', 'wd248', 'wd249', 'wd250', 'wd251', 'wd252', 'wd253', 'wd254', 'wd255', 'wd256', 'wd257', 'wd258', 'wd259', 'wd260', 'wd261', 'wd262', 'wd263', 'wd264', 'wd265', 'wd266', 'wd267', 'wd268', 'wd269', 'wd270', 'wd271', 'wd272', 'wd273', 'wd274', 'wd275', 'wd276', 'wd277', 'wd278', 'wd279', 'wd280', 'wd281', 'wd282', 'wd283', 'wd284', 'wd285', 'wd286', 'wd287', 'wd288', 'wd289', 'wd290', 'wd291', 'wd292', 'wd293', 'wd294', 'wd295', 'wd296', 'wd297', 'wd298', 'wd299', 'wd300', 'wd301', 'wd302', 'wd303', 'wd304', 'wd305', 'wd306', 'wd307', 'wd308', 'wd309', 'wd310', 'wd311', 'wd312', 'wd313', 'wd314', 'wd315', 'wd316', 'wd317', 'wd318', 'wd319', 'wd320', 'wd321', 'wd322', 'wd323', 'wd324', 'wd325', 'wd326', 'wd327', 'wd328', 'wd329', 'wd330', 'wd331', 'wd332', 'wd333', 'wd334', 'wd335', 'wd336', 'wd337', 'wd338', 'wd339', 'wd340', 'wd341', 'wd342', 'wd343', 'wd344', 'wd345', 'wd346', 'wd347', 'wd348', 'wd349', 'wd350', 'wd351', 'wd352', 'wd353', 'wd354', 'wd355', 'wd356', 'wd357', 'wd358', 'wd359', 'wd360', 'wd361', 'wd362', 'wd363', 'wd364', 'wd365', 'wd366', 'wd367', 'wd368', 'wd369', 'wd370', 'wd371', 'wd372', 'wd373', 'wd374', 'wd375', 'wd376', 'wd377', 'wd378', 'wd379', 'wd380', 'wd381', 'wd382', 'wd383', 'wd384', 'wd385', 'wd386', 'wd387', 'wd388', 'wd389', 'wd390', 'wd391', 'wd392', 'wd393', 'wd394', 'wd395', 'wd396', 'wd397', 'wd398', 'wd399', 'wd400', 'wd401', 'wd402', 'wd403', 'wd404', 'wd405', 'wd406', 'wd407', 'wd408', 'wd409', 'wd410', 'wd411', 'wd412', 'wd413', 'wd414', 'wd415', 'wd416', 'wd417', 'wd418', 'wd419', 'wd420', 'wd421', 'wd422', 'wd423', 'wd424', 'wd425', 'wd426', 'wd427', 'wd428', 'wd429', 'wd430', 'wd431', 'wd432', 'wd433', 'wd434', 'wd435', 'wd436', 'wd437', 'wd438', 'wd439', 'wd440', 'wd441', 'wd442', 'wd443', 'wd444', 'wd445', 'wd446', 'wd447', 'wd448', 'wd449', 'wd450', 'wd451', 'wd452', 'wd453', 'wd454', 'wd455', 'wd456', 'wd457', 'wd458', 'wd459', 'wd460', 'wd461', 'wd462', 'wd463', 'wd464', 'wd465', 'wd466', 'wd467', 'wd468', 'wd469', 'wd470', 'wd471', 'wd472', 'wd473', 'wd474', 'wd475', 'wd476', 'wd477', 'wd478', 'wd479', 'wd480', 'wd481', 'wd482', 'wd483', 'wd484', 'wd485', 'wd486', 'wd487', 'wd488', 'wd489', 'wd490', 'wd491', 'wd492', 'wd493', 'wd494', 'wd495', 'wd496', 'wd497', 'wd498', 'wd499', 'wd500', 'wd501', 'wd502', 'wd503', 'wd504', 'wd505', 'wd506', 'wd507', 'wd508', 'wd509', 'wd510', 'wd511', 'wd512', 'wd513', 'wd514', 'wd515', 'wd516', 'wd517', 'wd518', 'wd519', 'wd520', 'wd521', 'wd522', 'wd523', 'wd524', 'wd525', 'wd526', 'wd527', 'wd528', 'wd529', 'wd530', 'wd531', 'wd532', 'wd533', 'wd534', 'wd535', 'wd536', 'wd537', 'wd538', 'wd539', 'wd540', 'wd541', 'wd542', 'wd543', 'wd544', 'wd545', 'wd546', 'wd547', 'wd548', 'wd549', 'wd550', 'wd551', 'wd552', 'wd553', 'wd554', 'wd555', 'wd556', 'wd557', 'wd558', 'wd559', 'wd560', 'wd561', 'wd562', 'wd563', 'wd564', 'wd565', 'wd566', 'wd567', 'wd568', 'wd569', 'wd570', 'wd571', 'wd572', 'wd573', 'wd574', 'wd575', 'wd576', 'wd577', 'wd578', 'wd579', 'wd580', 'wd581', 'wd582', 'wd583', 'wd584', 'wd585', 'wd586', 'wd587', 'wd588', 'wd589', 'wd590', 'wd591', 'wd592', 'wd593', 'wd594', 'wd595', 'wd596', 'wd597', 'wd598', 'wd599', 'wd600', 'wd601', 'wd602', 'wd603', 'wd604', 'wd605', 'wd606', 'wd607', 'wd608', 'wd609', 'wd610', 'wd611', 'wd612', 'wd613', 'wd614', 'wd615', 'wd616', 'wd617', 'wd618', 'wd619', 'wd620', 'wd621', 'wd622', 'wd623', 'wd624', 'wd625', 'wd626', 'wd627', 'wd628', 'wd629', 'wd630', 'wd631', 'wd632', 'wd633', 'wd634', 'wd635', 'wd636', 'wd637', 'wd638', 'wd639', 'wd640', 'wd641', 'wd642', 'wd643', 'wd644', 'wd645', 'wd646', 'wd647', 'wd648', 'wd649', 'wd650', 'wd651', 'wd652', 'wd653', 'wd654', 'wd655', 'wd656', 'wd657', 'wd658', 'wd659', 'wd660', 'wd661', 'wd662', 'wd663', 'wd664', 'wd665', 'wd666', 'wd667', 'wd668', 'wd669', 'wd670', 'wd671', 'wd672', 'wd673', 'wd674', 'wd675', 'wd676', 'wd677', 'wd678', 'wd679', 'wd680', 'wd681', 'wd682', 'wd683', 'wd684', 'wd685', 'wd686', 'wd687', 'wd688', 'wd689', 'wd690', 'wd691', 'wd692', 'wd693', 'wd694', 'wd695', 'wd696', 'wd697', 'wd698', 'wd699', 'wd700', 'wd701', 'wd702', 'wd703', 'wd704', 'wd705', 'wd706', 'wd707', 'wd708', 'wd709', 'wd710', 'wd711', 'wd712', 'wd713', 'wd714', 'wd715', 'wd716', 'wd717', 'wd718', 'wd719', 'wd720', 'wd721', 'wd722', 'wd723', 'wd724', 'wd725', 'wd726', 'wd727', 'wd728', 'wd729', 'wd730', 'wd731', 'wd732', 'wd733', 'wd734', 'wd735', 'wd736', 'wd737', 'wd738', 'wd739', 'wd740', 'wd741', 'wd742', 'wd743', 'wd744', 'wd745', 'wd746', 'wd747', 'wd748', 'wd749', 'wd750', 'wd751', 'wd752', 'wd753', 'wd754', 'wd755', 'wd756', 'wd757', 'wd758', 'wd759', 'wd760', 'wd761', 'wd762', 'wd763', 'wd764', 'wd765', 'wd766', 'wd767', 'wd768', 'wd769', 'wd770', 'wd771', 'wd772', 'wd773', 'wd774', 'wd775', 'wd776', 'wd777', 'wd778', 'wd779', 'wd780', 'wd781', 'wd782', 'wd783', 'wd784', 'wd785', 'wd786', 'wd787', 'wd788', 'wd789', 'wd790', 'wd791', 'wd792', 'wd793', 'wd794', 'wd795', 'wd796', 'wd797', 'wd798', 'wd799', 'wd800', 'wd801', 'wd802', 'wd803', 'wd804', 'wd805', 'wd806', 'wd807', 'wd808', 'wd809', 'wd810', 'wd811', 'wd812', 'wd813', 'wd814', 'wd815', 'wd816', 'wd817', 'wd818', 'wd819', 'wd820', 'wd821', 'wd822', 'wd823', 'wd824', 'wd825', 'wd826', 'wd827', 'wd828', 'wd829', 'wd830', 'wd831', 'wd832', 'wd833', 'wd834', 'wd835', 'wd836', 'wd837', 'wd838', 'wd839', 'wd840', 'wd841', 'wd842', 'wd843', 'wd844', 'wd845', 'wd846', 'wd847', 'wd848', 'wd849', 'wd850', 'wd851', 'wd852', 'wd853', 'wd854', 'wd855', 'wd856', 'wd857', 'wd858', 'wd859', 'wd860', 'wd861', 'wd862', 'wd863', 'wd864', 'wd865', 'wd866', 'wd867', 'wd868', 'wd869', 'wd870', 'wd871', 'wd872', 'wd873', 'wd874', 'wd875', 'wd876', 'wd877', 'wd878', 'wd879', 'wd880', 'wd881', 'wd882', 'wd883', 'wd884', 'wd885', 'wd886', 'wd887', 'wd888', 'wd889', 'wd890', 'wd891', 'wd892', 'wd893', 'wd894', 'wd895', 'wd896', 'wd897', 'wd898', 'wd899', 'wd900', 'wd901', 'wd902', 'wd903', 'wd904', 'wd905', 'wd906', 'wd907', 'wd908', 'wd909', 'wd910', 'wd911', 'wd912', 'wd913', 'wd914', 'wd915', 'wd916', 'wd917', 'wd918', 'wd919', 'wd920', 'wd921', 'wd922', 'wd923', 'wd924', 'wd925', 'wd926', 'wd927', 'wd928', 'wd929', 'wd930', 'wd931', 'wd932', 'wd933', 'wd934', 'wd935', 'wd936', 'wd937', 'wd938', 'wd939', 'wd940', 'wd941', 'wd942', 'wd943', 'wd944', 'wd945', 'wd946', 'wd947', 'wd948', 'wd949', 'wd950', 'wd951', 'wd952', 'wd953', 'wd954', 'wd955', 'wd956', 'wd957', 'wd958', 'wd959', 'wd960', 'wd961', 'wd962', 'wd963', 'wd964', 'wd965', 'wd966', 'wd967', 'wd968', 'wd969', 'wd970', 'wd971', 'wd972', 'wd973', 'wd974', 'wd975', 'wd976', 'wd977', 'wd978', 'wd979', 'wd980', 'wd981', 'wd982', 'wd983', 'wd984', 'wd985', 'wd986', 'wd987', 'wd988', 'wd989', 'wd990', 'wd991', 'wd992', 'wd993', 'wd994', 'wd995', 'wd996', 'wd997', 'wd998', 'wd999', 'wd1000', 'wd1001', 'wd1002', 'wd1003', 'wd1004', 'wd1005', 'wd1006', 'wd1007', 'wd1008', 'wd1009', 'wd1010', 'wd1011', 'wd1012', 'wd1013', 'wd1014', 'wd1015', 'wd1016', 'wd1017', 'wd1018', 'wd1019', 'wd1020', 'wd1021', 'wd1022', 'wd1023', 'wd1024', 'wd1025', 'wd1026', 'wd1027', 'wd1028', 'wd1029', 'wd1030', 'wd1031', 'wd1032', 'wd1033', 'wd1034', 'wd1035', 'wd1036', 'wd1037', 'wd1038', 'wd1039', 'wd1040', 'wd1041', 'wd1042', 'wd1043', 'wd1044', 'wd1045', 'wd1046', 'wd1047', 'wd1048', 'wd1049', 'wd1050', 'wd1051', 'wd1052', 'wd1053', 'wd1054', 'wd1055', 'wd1056', 'wd1057', 'wd1058', 'wd1059', 'wd1060', 'wd1061', 'wd1062', 'wd1063', 'wd1064', 'wd1065', 'wd1066', 'wd1067', 'wd1068', 'wd1069', 'wd1070', 'wd1071', 'wd1072', 'wd1073', 'wd1074', 'wd1075', 'wd1076', 'wd1077', 'wd1078', 'wd1079', 'wd1080', 'wd1081', 'wd1082', 'wd1083', 'wd1084', 'wd1085', 'wd1086', 'wd1087', 'wd1088', 'wd1089', 'wd1090', 'wd1091', 'wd1092', 'wd1093', 'wd1094', 'wd1095', 'wd1096', 'wd1097', 'wd1098', 'wd1099', 'wd1100', 'wd1101', 'wd1102', 'wd1103', 'wd1104', 'wd1105', 'wd1106', 'wd1107', 'wd1108', 'wd1109', 'wd1110', 'wd1111', 'wd1112', 'wd1113', 'wd1114', 'wd1115', 'wd1116', 'wd1117', 'wd1118', 'wd1119', 'wd1120', 'wd1121', 'wd1122', 'wd1123', 'wd1124', 'wd1125', 'wd1126', 'wd1127', 'wd1128', 'wd1129', 'wd1130', 'wd1131', 'wd1132', 'wd1133', 'wd1134', 'wd1135', 'wd1136', 'wd1137', 'wd1138', 'wd1139', 'wd1140', 'wd1141', 'wd1142', 'wd1143', 'wd1144', 'wd1145', 'wd1146', 'wd1147', 'wd1148', 'wd1149', 'wd1150', 'wd1151', 'wd1152', 'wd1153', 'wd1154', 'wd1155', 'wd1156', 'wd1157', 'wd1158', 'wd1159', 'wd1160', 'wd1161', 'wd1162', 'wd1163', 'wd1164', 'wd1165', 'wd1166', 'wd1167', 'wd1168', 'wd1169', 'wd1170', 'wd1171', 'wd1172', 'wd1173', 'wd1174', 'wd1175', 'wd1176', 'wd1177', 'wd1178', 'wd1179', 'wd1180', 'wd1181', 'wd1182', 'wd1183', 'wd1184', 'wd1185', 'wd1186', 'wd1187', 'wd1188', 'wd1189', 'wd1190', 'wd1191', 'wd1192', 'wd1193', 'wd1194', 'wd1195', 'wd1196', 'wd1197', 'wd1198', 'wd1199', 'wd1200', 'wd1201', 'wd1202', 'wd1203', 'wd1204', 'wd1205', 'wd1206', 'wd1207', 'wd1208', 'wd1209', 'wd1210', 'wd1211', 'wd1212', 'wd1213', 'wd1214', 'wd1215', 'wd1216', 'wd1217', 'wd1218', 'wd1219', 'wd1220', 'wd1221', 'wd1222', 'wd1223', 'wd1224', 'wd1225', 'wd1226', 'wd1227', 'wd1228', 'wd1229', 'wd1230', 'wd1231', 'wd1232', 'wd1233', 'wd1234', 'wd1235', 'wd1236', 'wd1237', 'wd1238', 'wd1239', 'wd1240', 'wd1241', 'wd1242', 'wd1243', 'wd1244', 'wd1245', 'wd1246', 'wd1247', 'wd1248', 'wd1249', 'wd1250', 'wd1251', 'wd1252', 'wd1253', 'wd1254', 'wd1255', 'wd1256', 'wd1257', 'wd1258', 'wd1259', 'wd1260', 'wd1261', 'wd1262', 'wd1263', 'wd1264', 'wd1265', 'wd1266', 'wd1267', 'wd1268', 'wd1269', 'wd1270', 'wd1271', 'wd1272', 'wd1273', 'wd1274', 'wd1275', 'wd1276', 'wd1277', 'wd1278', 'wd1279', 'wd1280', 'wd1281', 'wd1282', 'wd1283', 'wd1284', 'wd1285', 'wd1286', 'wd1287', 'wd1288', 'wd1289', 'wd1290', 'wd1291', 'wd1292', 'wd1293', 'wd1294', 'wd1295', 'wd1296', 'wd1297', 'wd1298', 'wd1299', 'wd1300', 'wd1301', 'wd1302', 'wd1303', 'wd1304', 'wd1305', 'wd1306', 'wd1307', 'wd1308', 'wd1309', 'wd1310', 'wd1311', 'wd1312', 'wd1313', 'wd1314', 'wd1315', 'wd1316', 'wd1317', 'wd1318', 'wd1319', 'wd1320', 'wd1321', 'wd1322', 'wd1323', 'wd1324', 'wd1325', 'wd1326', 'wd1327', 'wd1328', 'wd1329', 'wd1330', 'wd1331', 'wd1332', 'wd1333', 'wd1334', 'wd1335', 'wd1336', 'wd1337', 'wd1338', 'wd1339', 'wd1340', 'wd1341', 'wd1342', 'wd1343', 'wd1344', 'wd1345', 'wd1346', 'wd1347', 'wd1348', 'wd1349', 'wd1350', 'wd1351', 'wd1352', 'wd1353', 'wd1354', 'wd1355', 'wd1356', 'wd1357', 'wd1358', 'wd1359', 'wd1360', 'wd1361', 'wd1362', 'wd1363', 'wd1364', 'wd1365', 'wd1366', 'wd1367', 'wd1368', 'wd1369', 'wd1370', 'wd1371', 'wd1372', 'wd1373', 'wd1374', 'wd1375', 'wd1376', 'wd1377', 'wd1378', 'wd1379', 'wd1380', 'wd1381', 'wd1382', 'wd1383', 'wd1384', 'wd1385', 'wd1386', 'wd1387', 'wd1388', 'wd1389', 'wd1390', 'wd1391', 'wd1392', 'wd1393', 'wd1394', 'wd1395', 'wd1396', 'wd1397', 'wd1398', 'wd1399', 'wd1400', 'wd1401', 'wd1402', 'wd1403', 'wd1404', 'wd1405', 'wd1406', 'wd1407', 'wd1408', 'wd1409', 'wd1410', 'wd1411', 'wd1412', 'wd1413', 'wd1414', 'wd1415', 'wd1416', 'wd1417', 'wd1418', 'wd1419', 'wd1420', 'wd1421', 'wd1422', 'wd1423', 'wd1424', 'wd1425', 'wd1426', 'wd1427', 'wd1428', 'wd1429', 'wd1430', 'wd1431', 'wd1432', 'wd1433', 'wd1434', 'wd1435', 'wd1436', 'wd1437', 'wd1438', 'wd1439', 'wd1440', 'wd1441', 'wd1442', 'wd1443', 'wd1444', 'wd1445', 'wd1446', 'wd1447', 'wd1448', 'wd1449', 'wd1450', 'wd1451', 'wd1452', 'wd1453', 'wd1454', 'wd1455', 'wd1456', 'wd1457', 'wd1458', 'wd1459', 'wd1460', 'wd1461', 'wd1462', 'wd1463', 'wd1464', 'wd1465', 'wd1466', 'wd1467', 'wd1468', 'wd1469', 'wd1470', 'wd1471', 'wd1472', 'wd1473', 'wd1474', 'wd1475', 'wd1476', 'wd1477', 'wd1478', 'wd1479', 'wd1480', 'wd1481', 'wd1482', 'wd1483', 'wd1484', 'wd1485', 'wd1486', 'wd1487', 'wd1488', 'wd1489', 'wd1490', 'wd1491', 'wd1492', 'wd1493', 'wd1494', 'wd1495', 'wd1496', 'wd1497', 'wd1498', 'wd1499', 'wd1500', 'wd1501', 'wd1502', 'wd1503', 'wd1504', 'wd1505', 'wd1506', 'wd1507', 'wd1508', 'wd1509', 'wd1510', 'wd1511', 'wd1512', 'wd1513', 'wd1514', 'wd1515', 'wd1516', 'wd1517', 'wd1518', 'wd1519', 'wd1520', 'wd1521', 'wd1522', 'wd1523', 'wd1524', 'wd1525', 'wd1526', 'wd1527', 'wd1528', 'wd1529', 'wd1530', 'wd1531', 'wd1532', 'wd1533', 'wd1534', 'wd1535', 'wd1536', 'wd1537', 'wd1538', 'wd1539', 'wd1540', 'wd1541', 'wd1542', 'wd1543', 'wd1544', 'wd1545', 'wd1546', 'wd1547', 'wd1548', 'wd1549', 'wd1550', 'wd1551', 'wd1552', 'wd1553', 'wd1554', 'wd1555', 'wd1556', 'wd1557', 'wd1558', 'wd1559', 'wd1560', 'wd1561', 'wd1562', 'wd1563', 'wd1564', 'wd1565', 'wd1566', 'wd1567', 'wd1568', 'wd1569', 'wd1570', 'wd1571', 'wd1572', 'wd1573', 'wd1574', 'wd1575', 'wd1576', 'wd1577', 'wd1578', 'wd1579', 'wd1580', 'wd1581', 'wd1582', 'wd1583', 'wd1584', 'wd1585', 'wd1586', 'wd1587', 'wd1588', 'wd1589', 'wd1590', 'wd1591', 'wd1592', 'wd1593', 'wd1594', 'wd1595', 'wd1596', 'wd1597', 'wd1598', 'wd1599', 'wd1600', 'wd1601', 'wd1602', 'wd1603', 'wd1604', 'wd1605', 'wd1606', 'wd1607', 'wd1608', 'wd1609', 'wd1610', 'wd1611', 'wd1612', 'wd1613', 'wd1614', 'wd1615', 'wd1616', 'wd1617', 'wd1618', 'wd1619', 'wd1620', 'wd1621', 'wd1622', 'wd1623', 'wd1624', 'wd1625', 'wd1626', 'wd1627', 'wd1628', 'wd1629', 'wd1630', 'wd1631', 'wd1632', 'wd1633', 'wd1634', 'wd1635', 'wd1636', 'wd1637', 'wd1638', 'wd1639', 'wd1640', 'wd1641', 'wd1642', 'wd1643', 'wd1644', 'wd1645', 'wd1646', 'wd1647', 'wd1648', 'wd1649', 'wd1650', 'wd1651', 'wd1652', 'wd1653', 'wd1654', 'wd1655', 'wd1656', 'wd1657', 'wd1658', 'wd1659', 'wd1660', 'wd1661', 'wd1662', 'wd1663', 'wd1664', 'wd1665', 'wd1666', 'wd1667', 'wd1668', 'wd1669', 'wd1670', 'wd1671', 'wd1672', 'wd1673', 'wd1674', 'wd1675', 'wd1676', 'wd1677', 'wd1678', 'wd1679', 'wd1680', 'wd1681', 'wd1682', 'wd1683', 'wd1684', 'wd1685', 'wd1686', 'wd1687', 'wd1688', 'wd1689', 'wd1690', 'wd1691', 'wd1692', 'wd1693', 'wd1694', 'wd1695', 'wd1696', 'wd1697', 'wd1698', 'wd1699', 'wd1700', 'wd1701', 'wd1702', 'wd1703', 'wd1704', 'wd1705', 'wd1706', 'wd1707', 'wd1708', 'wd1709', 'wd1710', 'wd1711', 'wd1712', 'wd1713', 'wd1714', 'wd1715', 'wd1716', 'wd1717', 'wd1718', 'wd1719', 'wd1720', 'wd1721', 'wd1722', 'wd1723', 'wd1724', 'wd1725', 'wd1726', 'wd1727', 'wd1728', 'wd1729', 'wd1730', 'wd1731', 'wd1732', 'wd1733', 'wd1734', 'wd1735', 'wd1736', 'wd1737', 'wd1738', 'wd1739', 'wd1740', 'wd1741', 'wd1742', 'wd1743', 'wd1744', 'wd1745', 'wd1746', 'wd1747', 'wd1748', 'wd1749', 'wd1750', 'wd1751', 'wd1752', 'wd1753', 'wd1754', 'wd1755', 'wd1756', 'wd1757', 'wd1758', 'wd1759', 'wd1760', 'wd1761', 'wd1762', 'wd1763', 'wd1764', 'wd1765', 'wd1766', 'wd1767', 'wd1768', 'wd1769', 'wd1770', 'wd1771', 'wd1772', 'wd1773', 'wd1774', 'wd1775', 'wd1776', 'wd1777', 'wd1778', 'wd1779', 'wd1780', 'wd1781', 'wd1782', 'wd1783', 'wd1784', 'wd1785', 'wd1786', 'wd1787', 'wd1788', 'wd1789', 'wd1790', 'wd1791', 'wd1792', 'wd1793', 'wd1794', 'wd1795', 'wd1796', 'wd1797', 'wd1798', 'wd1799', 'wd1800', 'wd1801', 'wd1802', 'wd1803', 'wd1804', 'wd1805', 'wd1806', 'wd1807', 'wd1808', 'wd1809', 'wd1810', 'wd1811', 'wd1812', 'wd1813', 'wd1814', 'wd1815', 'wd1816', 'wd1817', 'wd1818', 'wd1819', 'wd1820', 'wd1821', 'wd1822', 'wd1823', 'wd1824', 'wd1825', 'wd1826', 'wd1827', 'wd1828', 'wd1829', 'wd1830', 'wd1831', 'wd1832', 'wd1833', 'wd1834', 'wd1835', 'wd1836', 'wd1837', 'wd1838', 'wd1839', 'wd1840', 'wd1841', 'wd1842', 'wd1843', 'wd1844', 'wd1845', 'wd1846', 'wd1847', 'wd1848', 'wd1849', 'wd1850', 'wd1851', 'wd1852', 'wd1853', 'wd1854', 'wd1855', 'wd1856', 'wd1857', 'wd1858', 'wd1859', 'wd1860', 'wd1861', 'wd1862', 'wd1863', 'wd1864', 'wd1865', 'wd1866', 'wd1867', 'wd1868', 'wd1869', 'wd1870', 'wd1871', 'wd1872', 'wd1873', 'wd1874', 'wd1875', 'wd1876', 'wd1877', 'wd1878', 'wd1879', 'wd1880', 'wd1881', 'wd1882', 'wd1883', 'wd1884', 'wd1885', 'wd1886', 'wd1887', 'wd1888', 'wd1889', 'wd1890', 'wd1891', 'wd1892', 'wd1893', 'wd1894', 'wd1895', 'wd1896', 'wd1897', 'wd1898', 'wd1899', 'wd1900', 'wd1901', 'wd1902', 'wd1903', 'wd1904', 'wd1905', 'wd1906', 'wd1907', 'wd1908', 'wd1909', 'wd1910', 'wd1911', 'wd1912', 'wd1913', 'wd1914', 'wd1915', 'wd1916', 'wd1917', 'wd1918', 'wd1919', 'wd1920', 'wd1921', 'wd1922', 'wd1923', 'wd1924', 'wd1925', 'wd1926', 'wd1927', 'wd1928', 'wd1929', 'wd1930', 'wd1931', 'wd1932', 'wd1933', 'wd1934', 'wd1935', 'wd1936', 'wd1937', 'wd1938', 'wd1939', 'wd1940', 'wd1941', 'wd1942', 'wd1943', 'wd1944', 'wd1945', 'wd1946', 'wd1947', 'wd1948', 'wd1949', 'wd1950', 'wd1951', 'wd1952', 'wd1953', 'wd1954', 'wd1955', 'wd1956', 'wd1957', 'wd1958', 'wd1959', 'wd1960', 'wd1961', 'wd1962', 'wd1963', 'wd1964', 'wd1965', 'wd1966', 'wd1967', 'wd1968', 'wd1969', 'wd1970', 'wd1971', 'wd1972', 'wd1973', 'wd1974', 'wd1975', 'wd1976', 'wd1977', 'wd1978', 'wd1979', 'wd1980', 'wd1981', 'wd1982', 'wd1983', 'wd1984', 'wd1985', 'wd1986', 'wd1987', 'wd1988', 'wd1989', 'wd1990', 'wd1991', 'wd1992', 'wd1993', 'wd1994', 'wd1995', 'wd1996', 'wd1997', 'wd1998', 'wd1999', 'wd2000', 'wd2001', 'wd2002', 'wd2003', 'wd2004', 'wd2005', 'wd2006', 'wd2007', 'wd2008', 'wd2009', 'wd2010', 'wd2011', 'wd2012', 'wd2013', 'wd2014', 'wd2015', 'wd2016', 'wd2017', 'wd2018', 'wd2019', 'wd2020', 'wd2021', 'wd2022', 'wd2023', 'wd2024', 'wd2025', 'wd2026', 'wd2027', 'wd2028', 'wd2029', 'wd2030', 'wd2031', 'wd2032', 'wd2033', 'wd2034', 'wd2035', 'wd2036', 'wd2037', 'wd2038', 'wd2039', 'wd2040', 'wd2041', 'wd2042', 'wd2043', 'wd2044', 'wd2045', 'wd2046', 'wd2047', 'wd2048', 'wd2049', 'wd2050', 'wd2051', 'wd2052', 'wd2053', 'wd2054', 'wd2055', 'wd2056', 'wd2057', 'wd2058', 'wd2059', 'wd2060', 'wd2061', 'wd2062', 'wd2063', 'wd2064', 'wd2065', 'wd2066', 'wd2067', 'wd2068', 'wd2069', 'wd2070', 'wd2071', 'wd2072', 'wd2073', 'wd2074', 'wd2075', 'wd2076', 'wd2077', 'wd2078', 'wd2079', 'wd2080', 'wd2081', 'wd2082', 'wd2083', 'wd2084', 'wd2085', 'wd2086', 'wd2087', 'wd2088', 'wd2089', 'wd2090', 'wd2091', 'wd2092', 'wd2093', 'wd2094', 'wd2095', 'wd2096', 'wd2097', 'wd2098', 'wd2099', 'wd2100', 'wd2101', 'wd2102', 'wd2103', 'wd2104', 'wd2105', 'wd2106', 'wd2107', 'wd2108', 'wd2109', 'wd2110', 'wd2111', 'wd2112', 'wd2113', 'wd2114', 'wd2115', 'wd2116', 'wd2117', 'wd2118', 'wd2119', 'wd2120', 'wd2121', 'wd2122', 'wd2123', 'wd2124', 'wd2125', 'wd2126', 'wd2127', 'wd2128', 'wd2129', 'wd2130', 'wd2131', 'wd2132', 'wd2133', 'wd2134', 'wd2135', 'wd2136', 'wd2137', 'wd2138', 'wd2139', 'wd2140', 'wd2141', 'wd2142', 'wd2143', 'wd2144', 'wd2145', 'wd2146', 'wd2147', 'wd2148', 'wd2149', 'wd2150', 'wd2151', 'wd2152', 'wd2153', 'wd2154', 'wd2155', 'wd2156', 'wd2157', 'wd2158', 'wd2159', 'wd2160', 'wd2161', 'wd2162', 'wd2163', 'wd2164', 'wd2165', 'wd2166', 'wd2167', 'wd2168', 'wd2169', 'wd2170', 'wd2171', 'wd2172', 'wd2173', 'wd2174', 'wd2175', 'wd2176', 'wd2177', 'wd2178', 'wd2179', 'wd2180', 'wd2181', 'wd2182', 'wd2183', 'wd2184', 'wd2185', 'wd2186', 'wd2187', 'wd2188', 'wd2189', 'wd2190', 'wd2191', 'wd2192', 'wd2193', 'wd2194', 'wd2195', 'wd2196', 'wd2197', 'wd2198', 'wd2199', 'wd2200', 'wd2201', 'wd2202', 'wd2203', 'wd2204', 'wd2205', 'wd2206', 'wd2207', 'wd2208', 'wd2209', 'wd2210', 'wd2211', 'wd2212', 'wd2213', 'wd2214', 'wd2215', 'wd2216', 'wd2217', 'wd2218', 'wd2219', 'wd2220', 'wd2221', 'wd2222', 'wd2223', 'wd2224', 'wd2225', 'wd2226', 'wd2227', 'wd2228', 'wd2229', 'wd2230', 'wd2231', 'wd2232', 'wd2233', 'wd2234', 'wd2235', 'wd2236', 'wd2237', 'wd2238', 'wd2239', 'wd2240', 'wd2241', 'wd2242', 'wd2243', 'wd2244', 'wd2245', 'wd2246', 'wd2247', 'wd2248', 'wd2249', 'wd2250', 'wd2251', 'wd2252', 'wd2253', 'wd2254', 'wd2255', 'wd2256', 'wd2257', 'wd2258', 'wd2259', 'wd2260', 'wd2261', 'wd2262', 'wd2263', 'wd2264', 'wd2265', 'wd2266', 'wd2267', 'wd2268', 'wd2269', 'wd2270', 'wd2271', 'wd2272', 'wd2273', 'wd2274', 'wd2275', 'wd2276', 'wd2277', 'wd2278', 'wd2279', 'wd2280', 'wd2281', 'wd2282', 'wd2283', 'wd2284', 'wd2285', 'wd2286', 'wd2287', 'wd2288', 'wd2289', 'wd2290', 'wd2291', 'wd2292', 'wd2293', 'wd2294', 'wd2295', 'wd2296', 'wd2297', 'wd2298', 'wd2299', 'wd2300', 'wd2301', 'wd2302', 'wd2303', 'wd2304', 'wd2305', 'wd2306', 'wd2307', 'wd2308', 'wd2309', 'wd2310', 'wd2311', 'wd2312', 'wd2313', 'wd2314', 'wd2315', 'wd2316', 'wd2317', 'wd2318', 'wd2319', 'wd2320', 'wd2321', 'wd2322', 'wd2323', 'wd2324', 'wd2325', 'wd2326', 'wd2327', 'wd2328', 'wd2329', 'wd2330', 'wd2331', 'wd2332', 'wd2333', 'wd2334', 'wd2335', 'wd2336', 'wd2337', 'wd2338', 'wd2339', 'wd2340', 'wd2341', 'wd2342', 'wd2343', 'wd2344', 'wd2345', 'wd2346', 'wd2347', 'wd2348', 'wd2349', 'wd2350', 'wd2351', 'wd2352', 'wd2353', 'wd2354', 'wd2355', 'wd2356', 'wd2357', 'wd2358', 'wd2359', 'wd2360', 'wd2361', 'wd2362', 'wd2363', 'wd2364', 'wd2365', 'wd2366', 'wd2367', 'wd2368', 'wd2369', 'wd2370', 'wd2371', 'wd2372', 'wd2373', 'wd2374', 'wd2375', 'wd2376', 'wd2377', 'wd2378', 'wd2379', 'wd2380', 'wd2381', 'wd2382', 'wd2383', 'wd2384', 'wd2385', 'wd2386', 'wd2387', 'wd2388', 'wd2389', 'wd2390', 'wd2391', 'wd2392', 'wd2393', 'wd2394', 'wd2395', 'wd2396', 'wd2397', 'wd2398', 'wd2399', 'wd2400', 'wd2401', 'wd2402', 'wd2403', 'wd2404', 'wd2405', 'wd2406', 'wd2407', 'wd2408', 'wd2409', 'wd2410', 'wd2411', 'wd2412', 'wd2413', 'wd2414', 'wd2415', 'wd2416', 'wd2417', 'wd2418', 'wd2419', 'wd2420', 'wd2421', 'wd2422', 'wd2423', 'wd2424', 'wd2425', 'wd2426', 'wd2427', 'wd2428', 'wd2429', 'wd2430', 'wd2431', 'wd2432', 'wd2433', 'wd2434', 'wd2435', 'wd2436', 'wd2437', 'wd2438', 'wd2439', 'wd2440', 'wd2441', 'wd2442', 'wd2443', 'wd2444', 'wd2445', 'wd2446', 'wd2447', 'wd2448', 'wd2449', 'wd2450', 'wd2451', 'wd2452', 'wd2453', 'wd2454', 'wd2455', 'wd2456', 'wd2457', 'wd2458', 'wd2459', 'wd2460', 'wd2461', 'wd2462', 'wd2463', 'wd2464', 'wd2465', 'wd2466', 'wd2467', 'wd2468', 'wd2469', 'wd2470', 'wd2471', 'wd2472', 'wd2473', 'wd2474', 'wd2475', 'wd2476', 'wd2477', 'wd2478', 'wd2479', 'wd2480', 'wd2481', 'wd2482', 'wd2483', 'wd2484', 'wd2485', 'wd2486', 'wd2487', 'wd2488', 'wd2489', 'wd2490', 'wd2491', 'wd2492', 'wd2493', 'wd2494', 'wd2495', 'wd2496', 'wd2497', 'wd2498', 'wd2499', 'wd2500', 'wd2501', 'wd2502', 'wd2503', 'wd2504', 'wd2505', 'wd2506', 'wd2507', 'wd2508', 'wd2509', 'wd2510', 'wd2511', 'wd2512', 'wd2513', 'wd2514', 'wd2515', 'wd2516', 'wd2517', 'wd2518', 'wd2519', 'wd2520', 'wd2521', 'wd2522', 'wd2523', 'wd2524', 'wd2525', 'wd2526', 'wd2527', 'wd2528', 'wd2529', 'wd2530', 'wd2531', 'wd2532', 'wd2533', 'wd2534', 'wd2535', 'wd2536', 'wd2537', 'wd2538', 'wd2539', 'wd2540', 'wd2541', 'wd2542', 'wd2543', 'wd2544', 'wd2545', 'wd2546', 'wd2547', 'wd2548', 'wd2549', 'wd2550', 'wd2551', 'wd2552', 'wd2553', 'wd2554', 'wd2555', 'wd2556', 'wd2557', 'wd2558', 'wd2559', 'wd2560', 'wd2561', 'wd2562', 'wd2563', 'wd2564', 'wd2565', 'wd2566', 'wd2567', 'wd2568', 'wd2569', 'wd2570', 'wd2571', 'wd2572', 'wd2573', 'wd2574', 'wd2575', 'wd2576', 'wd2577', 'wd2578', 'wd2579', 'wd2580', 'wd2581', 'wd2582', 'wd2583', 'wd2584', 'wd2585', 'wd2586', 'wd2587', 'wd2588', 'wd2589', 'wd2590', 'wd2591', 'wd2592', 'wd2593', 'wd2594', 'wd2595', 'wd2596', 'wd2597', 'wd2598', 'wd2599', 'wd2600', 'wd2601', 'wd2602', 'wd2603', 'wd2604', 'wd2605', 'wd2606', 'wd2607', 'wd2608', 'wd2609', 'wd2610', 'wd2611', 'wd2612', 'wd2613', 'wd2614', 'wd2615', 'wd2616', 'wd2617', 'wd2618', 'wd2619', 'wd2620', 'wd2621', 'wd2622', 'wd2623', 'wd2624', 'wd2625', 'wd2626', 'wd2627', 'wd2628', 'wd2629', 'wd2630', 'wd2631', 'wd2632', 'wd2633', 'wd2634', 'wd2635', 'wd2636', 'wd2637', 'wd2638', 'wd2639', 'wd2640', 'wd2641', 'wd2642', 'wd2643', 'wd2644', 'wd2645', 'wd2646', 'wd2647', 'wd2648', 'wd2649', 'wd2650', 'wd2651', 'wd2652', 'wd2653', 'wd2654', 'wd2655', 'wd2656', 'wd2657', 'wd2658', 'wd2659', 'wd2660', 'wd2661', 'wd2662', 'wd2663', 'wd2664', 'wd2665', 'wd2666', 'wd2667', 'wd2668', 'wd2669', 'wd2670', 'wd2671', 'wd2672', 'wd2673', 'wd2674', 'wd2675', 'wd2676', 'wd2677', 'wd2678', 'wd2679', 'wd2680', 'wd2681', 'wd2682', 'wd2683', 'wd2684', 'wd2685', 'wd2686', 'wd2687', 'wd2688', 'wd2689', 'wd2690', 'wd2691', 'wd2692', 'wd2693', 'wd2694', 'wd2695', 'wd2696', 'wd2697', 'wd2698', 'wd2699', 'wd2700', 'wd2701', 'wd2702', 'wd2703', 'wd2704', 'wd2705', 'wd2706', 'wd2707', 'wd2708', 'wd2709', 'wd2710', 'wd2711', 'wd2712', 'wd2713', 'wd2714', 'wd2715', 'wd2716', 'wd2717', 'wd2718', 'wd2719', 'wd2720', 'wd2721', 'wd2722', 'wd2723', 'wd2724', 'wd2725', 'wd2726', 'wd2727', 'wd2728', 'wd2729', 'wd2730', 'wd2731', 'wd2732', 'wd2733', 'wd2734', 'wd2735', 'wd2736', 'wd2737', 'wd2738', 'wd2739', 'wd2740', 'wd2741', 'wd2742', 'wd2743', 'wd2744', 'wd2745', 'wd2746', 'wd2747', 'wd2748', 'wd2749', 'wd2750', 'wd2751', 'wd2752', 'wd2753', 'wd2754', 'wd2755', 'wd2756', 'wd2757', 'wd2758', 'wd2759', 'wd2760', 'wd2761', 'wd2762', 'wd2763', 'wd2764', 'wd2765', 'wd2766', 'wd2767', 'wd2768', 'wd2769', 'wd2770', 'wd2771', 'wd2772', 'wd2773', 'wd2774', 'wd2775', 'wd2776', 'wd2777', 'wd2778', 'wd2779', 'wd2780', 'wd2781', 'wd2782', 'wd2783', 'wd2784', 'wd2785', 'wd2786', 'wd2787', 'wd2788', 'wd2789', 'wd2790', 'wd2791', 'wd2792', 'wd2793', 'wd2794', 'wd2795', 'wd2796', 'wd2797', 'wd2798', 'wd2799', 'wd2800', 'wd2801', 'wd2802', 'wd2803', 'wd2804', 'wd2805', 'wd2806', 'wd2807', 'wd2808', 'wd2809', 'wd2810', 'wd2811', 'wd2812', 'wd2813', 'wd2814', 'wd2815', 'wd2816', 'wd2817', 'wd2818', 'wd2819', 'wd2820', 'wd2821', 'wd2822', 'wd2823', 'wd2824', 'wd2825', 'wd2826', 'wd2827', 'wd2828', 'wd2829', 'wd2830', 'wd2831', 'wd2832', 'wd2833', 'wd2834', 'wd2835', 'wd2836', 'wd2837', 'wd2838', 'wd2839', 'wd2840', 'wd2841', 'wd2842', 'wd2843', 'wd2844', 'wd2845', 'wd2846', 'wd2847', 'wd2848', 'wd2849', 'wd2850', 'wd2851', 'wd2852', 'wd2853', 'wd2854', 'wd2855', 'wd2856', 'wd2857', 'wd2858', 'wd2859', 'wd2860', 'wd2861', 'wd2862', 'wd2863', 'wd2864', 'wd2865', 'wd2866', 'wd2867', 'wd2868', 'wd2869', 'wd2870', 'wd2871', 'wd2872', 'wd2873', 'wd2874', 'wd2875', 'wd2876', 'wd2877', 'wd2878', 'wd2879', 'wd2880', 'wd2881', 'wd2882', 'wd2883', 'wd2884', 'wd2885', 'wd2886', 'wd2887', 'wd2888', 'wd2889', 'wd2890', 'wd2891', 'wd2892', 'wd2893', 'wd2894', 'wd2895', 'wd2896', 'wd2897', 'wd2898', 'wd2899', 'wd2900', 'wd2901', 'wd2902', 'wd2903', 'wd2904', 'wd2905', 'wd2906', 'wd2907', 'wd2908', 'wd2909', 'wd2910', 'wd2911', 'wd2912', 'wd2913', 'wd2914', 'wd2915', 'wd2916', 'wd2917', 'wd2918', 'wd2919', 'wd2920', 'wd2921', 'wd2922', 'wd2923', 'wd2924', 'wd2925', 'wd2926', 'wd2927', 'wd2928', 'wd2929', 'wd2930', 'wd2931', 'wd2932', 'wd2933', 'wd2934', 'wd2935', 'wd2936', 'wd2937', 'wd2938', 'wd2939', 'wd2940', 'wd2941', 'wd2942', 'wd2943', 'wd2944', 'wd2945', 'wd2946', 'wd2947', 'wd2948', 'wd2949', 'wd2950', 'wd2951', 'wd2952', 'wd2953', 'wd2954', 'wd2955', 'wd2956', 'wd2957', 'wd2958', 'wd2959', 'wd2960', 'wd2961', 'wd2962', 'wd2963', 'wd2964', 'wd2965', 'wd2966', 'wd2967', 'wd2968', 'wd2969', 'wd2970', 'wd2971', 'wd2972', 'wd2973', 'wd2974', 'wd2975', 'wd2976', 'wd2977', 'wd2978', 'wd2979', 'wd2980', 'wd2981', 'wd2982', 'wd2983', 'wd2984', 'wd2985', 'wd2986', 'wd2987', 'wd2988', 'wd2989', 'wd2990', 'wd2991', 'wd2992', 'wd2993', 'wd2994', 'wd2995', 'wd2996', 'wd2997', 'wd2998', 'wd2999', 'wd3000', 'wd3001', 'wd3002', 'wd3003', 'wd3004', 'wd3005', 'wd3006', 'wd3007', 'wd3008', 'wd3009', 'wd3010', 'wd3011', 'wd3012', 'wd3013', 'wd3014', 'wd3015', 'wd3016', 'wd3017', 'wd3018', 'wd3019', 'wd3020', 'wd3021', 'wd3022', 'wd3023', 'wd3024', 'wd3025', 'wd3026', 'wd3027', 'wd3028', 'wd3029', 'wd3030', 'wd3031', 'wd3032', 'wd3033', 'wd3034', 'wd3035', 'wd3036', 'wd3037', 'wd3038', 'wd3039', 'wd3040', 'wd3041', 'wd3042', 'wd3043', 'wd3044', 'wd3045', 'wd3046', 'wd3047', 'wd3048', 'wd3049', 'wd3050', 'wd3051', 'wd3052', 'wd3053', 'wd3054', 'wd3055', 'wd3056', 'wd3057', 'wd3058', 'wd3059', 'wd3060', 'wd3061', 'wd3062', 'wd3063', 'wd3064', 'wd3065', 'wd3066', 'wd3067', 'wd3068', 'wd3069', 'wd3070', 'wd3071', 'wd3072', 'wd3073', 'wd3074', 'wd3075', 'wd3076', 'wd3077', 'wd3078', 'wd3079', 'wd3080', 'wd3081', 'wd3082', 'wd3083', 'wd3084', 'wd3085', 'wd3086', 'wd3087', 'wd3088', 'wd3089', 'wd3090', 'wd3091', 'wd3092', 'wd3093', 'wd3094', 'wd3095', 'wd3096', 'wd3097', 'wd3098', 'wd3099', 'wd3100', 'wd3101', 'wd3102', 'wd3103', 'wd3104', 'wd3105', 'wd3106', 'wd3107', 'wd3108', 'wd3109', 'wd3110', 'wd3111', 'wd3112', 'wd3113', 'wd3114', 'wd3115', 'wd3116', 'wd3117', 'wd3118', 'wd3119', 'wd3120', 'wd3121', 'wd3122', 'wd3123', 'wd3124', 'wd3125', 'wd3126', 'wd3127', 'wd3128', 'wd3129', 'wd3130', 'wd3131', 'wd3132', 'wd3133', 'wd3134', 'wd3135', 'wd3136', 'wd3137', 'wd3138', 'wd3139', 'wd3140', 'wd3141', 'wd3142', 'wd3143', 'wd3144', 'wd3145', 'wd3146', 'wd3147', 'wd3148', 'wd3149', 'wd3150', 'wd3151', 'wd3152', 'wd3153', 'wd3154', 'wd3155', 'wd3156', 'wd3157', 'wd3158', 'wd3159', 'wd3160', 'wd3161', 'wd3162', 'wd3163', 'wd3164', 'wd3165', 'wd3166', 'wd3167', 'wd3168', 'wd3169', 'wd3170', 'wd3171', 'wd3172', 'wd3173', 'wd3174', 'wd3175', 'wd3176', 'wd3177', 'wd3178', 'wd3179', 'wd3180', 'wd3181', 'wd3182', 'wd3183', 'wd3184', 'wd3185', 'wd3186', 'wd3187', 'wd3188', 'wd3189', 'wd3190', 'wd3191', 'wd3192', 'wd3193', 'wd3194', 'wd3195', 'wd3196', 'wd3197', 'wd3198', 'wd3199', 'wd3200', 'wd3201', 'wd3202', 'wd3203', 'wd3204', 'wd3205', 'wd3206', 'wd3207', 'wd3208', 'wd3209', 'wd3210', 'wd3211', 'wd3212', 'wd3213', 'wd3214', 'wd3215', 'wd3216', 'wd3217', 'wd3218', 'wd3219', 'wd3220', 'wd3221', 'wd3222', 'wd3223', 'wd3224', 'wd3225', 'wd3226', 'wd3227', 'wd3228', 'wd3229', 'wd3230', 'wd3231', 'wd3232', 'wd3233', 'wd3234', 'wd3235', 'wd3236', 'wd3237', 'wd3238', 'wd3239', 'wd3240', 'wd3241', 'wd3242', 'wd3243', 'wd3244', 'wd3245', 'wd3246', 'wd3247', 'wd3248', 'wd3249', 'wd3250', 'wd3251', 'wd3252', 'wd3253', 'wd3254', 'wd3255', 'wd3256', 'wd3257', 'wd3258', 'wd3259', 'wd3260', 'wd3261', 'wd3262', 'wd3263', 'wd3264', 'wd3265', 'wd3266', 'wd3267', 'wd3268', 'wd3269', 'wd3270', 'wd3271', 'wd3272', 'wd3273', 'wd3274', 'wd3275', 'wd3276', 'wd3277', 'wd3278', 'wd3279', 'wd3280', 'wd3281', 'wd3282', 'wd3283', 'wd3284', 'wd3285', 'wd3286', 'wd3287', 'wd3288', 'wd3289', 'wd3290', 'wd3291', 'wd3292', 'wd3293', 'wd3294', 'wd3295', 'wd3296', 'wd3297', 'wd3298', 'wd3299', 'wd3300', 'wd3301', 'wd3302', 'wd3303', 'wd3304', 'wd3305', 'wd3306', 'wd3307', 'wd3308', 'wd3309', 'wd3310', 'wd3311', 'wd3312', 'wd3313', 'wd3314', 'wd3315', 'wd3316', 'wd3317', 'wd3318', 'wd3319', 'wd3320', 'wd3321', 'wd3322', 'wd3323', 'wd3324', 'wd3325', 'wd3326', 'wd3327', 'wd3328', 'wd3329', 'wd3330', 'wd3331', 'wd3332', 'wd3333', 'wd3334', 'wd3335', 'wd3336', 'wd3337', 'wd3338', 'wd3339', 'wd3340', 'wd3341', 'wd3342', 'wd3343', 'wd3344', 'wd3345', 'wd3346', 'wd3347', 'wd3348', 'wd3349', 'wd3350', 'wd3351', 'wd3352', 'wd3353', 'wd3354', 'wd3355', 'wd3356', 'wd3357', 'wd3358', 'wd3359', 'wd3360', 'wd3361', 'wd3362', 'wd3363', 'wd3364', 'wd3365', 'wd3366', 'wd3367', 'wd3368', 'wd3369', 'wd3370', 'wd3371', 'wd3372', 'wd3373', 'wd3374', 'wd3375', 'wd3376', 'wd3377', 'wd3378', 'wd3379', 'wd3380', 'wd3381', 'wd3382', 'wd3383', 'wd3384', 'wd3385', 'wd3386', 'wd3387', 'wd3388', 'wd3389', 'wd3390', 'wd3391', 'wd3392', 'wd3393', 'wd3394', 'wd3395', 'wd3396', 'wd3397', 'wd3398', 'wd3399', 'wd3400', 'wd3401', 'wd3402', 'wd3403', 'wd3404', 'wd3405', 'wd3406', 'wd3407', 'wd3408', 'wd3409', 'wd3410', 'wd3411', 'wd3412', 'wd3413', 'wd3414', 'wd3415', 'wd3416', 'wd3417', 'wd3418', 'wd3419', 'wd3420', 'wd3421', 'wd3422', 'wd3423', 'wd3424', 'wd3425', 'wd3426', 'wd3427', 'wd3428', 'wd3429', 'wd3430', 'wd3431', 'wd3432', 'wd3433', 'wd3434', 'wd3435', 'wd3436', 'wd3437', 'wd3438', 'wd3439', 'wd3440', 'wd3441', 'wd3442', 'wd3443', 'wd3444', 'wd3445', 'wd3446', 'wd3447', 'wd3448', 'wd3449', 'wd3450', 'wd3451', 'wd3452', 'wd3453', 'wd3454', 'wd3455', 'wd3456', 'wd3457', 'wd3458', 'wd3459', 'wd3460', 'wd3461', 'wd3462', 'wd3463', 'wd3464', 'wd3465', 'wd3466', 'wd3467', 'wd3468', 'wd3469', 'wd3470', 'wd3471', 'wd3472', 'wd3473', 'wd3474', 'wd3475', 'wd3476', 'wd3477', 'wd3478', 'wd3479', 'wd3480', 'wd3481', 'wd3482', 'wd3483', 'wd3484', 'wd3485', 'wd3486', 'wd3487', 'wd3488', 'wd3489', 'wd3490', 'wd3491', 'wd3492', 'wd3493', 'wd3494', 'wd3495', 'wd3496', 'wd3497', 'wd3498', 'wd3499', 'wd3500', 'wd3501', 'wd3502', 'wd3503', 'wd3504', 'wd3505', 'wd3506', 'wd3507', 'wd3508', 'wd3509', 'wd3510', 'wd3511', 'wd3512', 'wd3513', 'wd3514', 'wd3515', 'wd3516', 'wd3517', 'wd3518', 'wd3519', 'wd3520', 'wd3521', 'wd3522', 'wd3523', 'wd3524', 'wd3525', 'wd3526', 'wd3527', 'wd3528', 'wd3529', 'wd3530', 'wd3531', 'wd3532', 'wd3533', 'wd3534', 'wd3535', 'wd3536', 'wd3537', 'wd3538', 'wd3539', 'wd3540', 'wd3541', 'wd3542', 'wd3543', 'wd3544', 'wd3545', 'wd3546', 'wd3547', 'wd3548', 'wd3549', 'wd3550', 'wd3551', 'wd3552', 'wd3553', 'wd3554', 'wd3555', 'wd3556', 'wd3557', 'wd3558', 'wd3559', 'wd3560', 'wd3561', 'wd3562', 'wd3563', 'wd3564', 'wd3565', 'wd3566', 'wd3567', 'wd3568', 'wd3569', 'wd3570', 'wd3571', 'wd3572', 'wd3573', 'wd3574', 'wd3575', 'wd3576', 'wd3577', 'wd3578', 'wd3579', 'wd3580', 'wd3581', 'wd3582', 'wd3583', 'wd3584', 'wd3585', 'wd3586', 'wd3587', 'wd3588', 'wd3589', 'wd3590', 'wd3591', 'wd3592', 'wd3593', 'wd3594', 'wd3595', 'wd3596', 'wd3597', 'wd3598', 'wd3599', 'wd3600', 'wd3601', 'wd3602', 'wd3603', 'wd3604', 'wd3605', 'wd3606', 'wd3607', 'wd3608', 'wd3609', 'wd3610', 'wd3611', 'wd3612', 'wd3613', 'wd3614', 'wd3615', 'wd3616', 'wd3617', 'wd3618', 'wd3619', 'wd3620', 'wd3621', 'wd3622', 'wd3623', 'wd3624', 'wd3625', 'wd3626', 'wd3627', 'wd3628', 'wd3629', 'wd3630', 'wd3631', 'wd3632', 'wd3633', 'wd3634', 'wd3635', 'wd3636', 'wd3637', 'wd3638', 'wd3639', 'wd3640', 'wd3641', 'wd3642', 'wd3643', 'wd3644', 'wd3645', 'wd3646', 'wd3647', 'wd3648', 'wd3649', 'wd3650', 'wd3651', 'wd3652', 'wd3653', 'wd3654', 'wd3655', 'wd3656', 'wd3657', 'wd3658', 'wd3659', 'wd3660', 'wd3661', 'wd3662', 'wd3663', 'wd3664', 'wd3665', 'wd3666', 'wd3667', 'wd3668', 'wd3669', 'wd3670', 'wd3671', 'wd3672', 'wd3673', 'wd3674', 'wd3675', 'wd3676', 'wd3677', 'wd3678', 'wd3679', 'wd3680', 'wd3681', 'wd3682', 'wd3683', 'wd3684', 'wd3685', 'wd3686', 'wd3687', 'wd3688', 'wd3689', 'wd3690', 'wd3691', 'wd3692', 'wd3693', 'wd3694', 'wd3695', 'wd3696', 'wd3697', 'wd3698', 'wd3699', 'wd3700', 'wd3701', 'wd3702', 'wd3703', 'wd3704', 'wd3705', 'wd3706', 'wd3707', 'wd3708', 'wd3709', 'wd3710', 'wd3711', 'wd3712', 'wd3713', 'wd3714', 'wd3715', 'wd3716', 'wd3717', 'wd3718', 'wd3719', 'wd3720', 'wd3721', 'wd3722', 'wd3723', 'wd3724', 'wd3725', 'wd3726', 'wd3727', 'wd3728', 'wd3729', 'wd3730', 'wd3731', 'wd3732', 'wd3733', 'wd3734', 'wd3735', 'wd3736', 'wd3737', 'wd3738', 'wd3739', 'wd3740', 'wd3741', 'wd3742', 'wd3743', 'wd3744', 'wd3745', 'wd3746', 'wd3747', 'wd3748', 'wd3749', 'wd3750', 'wd3751', 'wd3752', 'wd3753', 'wd3754', 'wd3755', 'wd3756', 'wd3757', 'wd3758', 'wd3759', 'wd3760', 'wd3761', 'wd3762', 'wd3763', 'wd3764', 'wd3765', 'wd3766', 'wd3767', 'wd3768', 'wd3769', 'wd3770', 'wd3771', 'wd3772', 'wd3773', 'wd3774', 'wd3775', 'wd3776', 'wd3777', 'wd3778', 'wd3779', 'wd3780', 'wd3781', 'wd3782', 'wd3783', 'wd3784', 'wd3785', 'wd3786', 'wd3787', 'wd3788', 'wd3789', 'wd3790', 'wd3791', 'wd3792', 'wd3793', 'wd3794', 'wd3795', 'wd3796', 'wd3797', 'wd3798', 'wd3799', 'wd3800', 'wd3801', 'wd3802', 'wd3803', 'wd3804', 'wd3805', 'wd3806', 'wd3807', 'wd3808', 'wd3809', 'wd3810', 'wd3811', 'wd3812', 'wd3813', 'wd3814', 'wd3815', 'wd3816', 'wd3817', 'wd3818', 'wd3819', 'wd3820', 'wd3821', 'wd3822', 'wd3823', 'wd3824', 'wd3825', 'wd3826', 'wd3827', 'wd3828', 'wd3829', 'wd3830', 'wd3831', 'wd3832', 'wd3833', 'wd3834', 'wd3835', 'wd3836', 'wd3837', 'wd3838', 'wd3839', 'wd3840', 'wd3841', 'wd3842', 'wd3843', 'wd3844', 'wd3845', 'wd3846', 'wd3847', 'wd3848', 'wd3849', 'wd3850', 'wd3851', 'wd3852', 'wd3853', 'wd3854', 'wd3855', 'wd3856', 'wd3857', 'wd3858', 'wd3859', 'wd3860', 'wd3861', 'wd3862', 'wd3863', 'wd3864', 'wd3865', 'wd3866', 'wd3867', 'wd3868', 'wd3869', 'wd3870', 'wd3871', 'wd3872', 'wd3873', 'wd3874', 'wd3875', 'wd3876', 'wd3877', 'wd3878', 'wd3879', 'wd3880', 'wd3881', 'wd3882', 'wd3883', 'wd3884', 'wd3885', 'wd3886', 'wd3887', 'wd3888', 'wd3889', 'wd3890', 'wd3891', 'wd3892', 'wd3893', 'wd3894', 'wd3895', 'wd3896', 'wd3897', 'wd3898', 'wd3899', 'wd3900', 'wd3901', 'wd3902', 'wd3903', 'wd3904', 'wd3905', 'wd3906', 'wd3907', 'wd3908', 'wd3909', 'wd3910', 'wd3911', 'wd3912', 'wd3913', 'wd3914', 'wd3915', 'wd3916', 'wd3917', 'wd3918', 'wd3919', 'wd3920', 'wd3921', 'wd3922', 'wd3923', 'wd3924', 'wd3925', 'wd3926', 'wd3927', 'wd3928', 'wd3929', 'wd3930', 'wd3931', 'wd3932', 'wd3933', 'wd3934', 'wd3935', 'wd3936', 'wd3937', 'wd3938', 'wd3939', 'wd3940', 'wd3941', 'wd3942', 'wd3943', 'wd3944', 'wd3945', 'wd3946', 'wd3947', 'wd3948', 'wd3949', 'wd3950', 'wd3951', 'wd3952', 'wd3953', 'wd3954', 'wd3955', 'wd3956', 'wd3957', 'wd3958', 'wd3959', 'wd3960', 'wd3961', 'wd3962', 'wd3963', 'wd3964', 'wd3965', 'wd3966', 'wd3967', 'wd3968', 'wd3969', 'wd3970', 'wd3971', 'wd3972', 'wd3973', 'wd3974', 'wd3975', 'wd3976', 'wd3977', 'wd3978', 'wd3979', 'wd3980', 'wd3981', 'wd3982', 'wd3983', 'wd3984', 'wd3985', 'wd3986', 'wd3987', 'wd3988', 'wd3989', 'wd3990', 'wd3991', 'wd3992', 'wd3993', 'wd3994', 'wd3995', 'wd3996', 'wd3997', 'wd3998', 'wd3999', 'wd4000', 'wd4001', 'wd4002', 'wd4003', 'wd4004', 'wd4005', 'wd4006', 'wd4007', 'wd4008', 'wd4009', 'wd4010', 'wd4011', 'wd4012', 'wd4013', 'wd4014', 'wd4015', 'wd4016', 'wd4017', 'wd4018', 'wd4019', 'wd4020', 'wd4021', 'wd4022', 'wd4023', 'wd4024', 'wd4025', 'wd4026', 'wd4027', 'wd4028', 'wd4029', 'wd4030', 'wd4031', 'wd4032', 'wd4033', 'wd4034', 'wd4035', 'wd4036', 'wd4037', 'wd4038', 'wd4039', 'wd4040', 'wd4041', 'wd4042', 'wd4043', 'wd4044', 'wd4045', 'wd4046', 'wd4047', 'wd4048', 'wd4049', 'wd4050', 'wd4051', 'wd4052', 'wd4053', 'wd4054', 'wd4055', 'wd4056', 'wd4057', 'wd4058', 'wd4059', 'wd4060', 'wd4061', 'wd4062', 'wd4063', 'wd4064', 'wd4065', 'wd4066', 'wd4067', 'wd4068', 'wd4069', 'wd4070', 'wd4071', 'wd4072', 'wd4073', 'wd4074', 'wd4075', 'wd4076', 'wd4077', 'wd4078', 'wd4079', 'wd4080', 'wd4081', 'wd4082', 'wd4083', 'wd4084', 'wd4085', 'wd4086', 'wd4087', 'wd4088', 'wd4089', 'wd4090', 'wd4091', 'wd4092', 'wd4093', 'wd4094', 'wd4095', 'wd4096', 'wd4097', 'wd4098', 'wd4099', 'wd4100', 'wd4101', 'wd4102', 'wd4103', 'wd4104', 'wd4105', 'wd4106', 'wd4107', 'wd4108', 'wd4109', 'wd4110', 'wd4111', 'wd4112', 'wd4113', 'wd4114', 'wd4115', 'wd4116', 'wd4117', 'wd4118', 'wd4119', 'wd4120', 'wd4121', 'wd4122', 'wd4123', 'wd4124', 'wd4125', 'wd4126', 'wd4127', 'wd4128', 'wd4129', 'wd4130', 'wd4131', 'wd4132', 'wd4133', 'wd4134', 'wd4135', 'wd4136', 'wd4137', 'wd4138', 'wd4139', 'wd4140', 'wd4141', 'wd4142', 'wd4143', 'wd4144', 'wd4145', 'wd4146', 'wd4147', 'wd4148', 'wd4149', 'wd4150', 'wd4151', 'wd4152', 'wd4153', 'wd4154', 'wd4155', 'wd4156', 'wd4157', 'wd4158', 'wd4159', 'wd4160', 'wd4161', 'wd4162', 'wd4163', 'wd4164', 'wd4165', 'wd4166', 'wd4167', 'wd4168', 'wd4169', 'wd4170', 'wd4171', 'wd4172', 'wd4173', 'wd4174', 'wd4175', 'wd4176', 'wd4177', 'wd4178', 'wd4179', 'wd4180', 'wd4181', 'wd4182', 'wd4183', 'wd4184', 'wd4185', 'wd4186', 'wd4187', 'wd4188', 'wd4189', 'wd4190', 'wd4191', 'wd4192', 'wd4193', 'wd4194', 'wd4195', 'wd4196', 'wd4197', 'wd4198', 'wd4199', 'wd4200', 'wd4201', 'wd4202', 'wd4203', 'wd4204', 'wd4205', 'wd4206', 'wd4207', 'wd4208', 'wd4209', 'wd4210', 'wd4211', 'wd4212', 'wd4213', 'wd4214', 'wd4215', 'wd4216', 'wd4217', 'wd4218', 'wd4219', 'wd4220', 'wd4221', 'wd4222', 'wd4223', 'wd4224', 'wd4225', 'wd4226', 'wd4227', 'wd4228', 'wd4229', 'wd4230', 'wd4231', 'wd4232', 'wd4233', 'wd4234', 'wd4235', 'wd4236', 'wd4237', 'wd4238', 'wd4239', 'wd4240', 'wd4241', 'wd4242', 'wd4243', 'wd4244', 'wd4245', 'wd4246', 'wd4247', 'wd4248', 'wd4249', 'wd4250', 'wd4251', 'wd4252', 'wd4253', 'wd4254', 'wd4255', 'wd4256', 'wd4257', 'wd4258', 'wd4259', 'wd4260', 'wd4261', 'wd4262', 'wd4263', 'wd4264', 'wd4265', 'wd4266', 'wd4267', 'wd4268', 'wd4269', 'wd4270', 'wd4271', 'wd4272', 'wd4273', 'wd4274', 'wd4275', 'wd4276', 'wd4277', 'wd4278', 'wd4279', 'wd4280', 'wd4281', 'wd4282', 'wd4283', 'wd4284', 'wd4285', 'wd4286', 'wd4287', 'wd4288', 'wd4289', 'wd4290', 'wd4291', 'wd4292', 'wd4293', 'wd4294', 'wd4295', 'wd4296', 'wd4297', 'wd4298', 'wd4299', 'wd4300', 'wd4301', 'wd4302', 'wd4303', 'wd4304', 'wd4305', 'wd4306', 'wd4307', 'wd4308', 'wd4309', 'wd4310', 'wd4311', 'wd4312', 'wd4313', 'wd4314', 'wd4315', 'wd4316', 'wd4317', 'wd4318', 'wd4319', 'wd4320', 'wd4321', 'wd4322', 'wd4323', 'wd4324', 'wd4325', 'wd4326', 'wd4327', 'wd4328', 'wd4329', 'wd4330', 'wd4331', 'wd4332', 'wd4333', 'wd4334', 'wd4335', 'wd4336', 'wd4337', 'wd4338', 'wd4339', 'wd4340', 'wd4341', 'wd4342', 'wd4343', 'wd4344', 'wd4345', 'wd4346', 'wd4347', 'wd4348', 'wd4349', 'wd4350', 'wd4351', 'wd4352', 'wd4353', 'wd4354', 'wd4355', 'wd4356', 'wd4357', 'wd4358', 'wd4359', 'wd4360', 'wd4361', 'wd4362', 'wd4363', 'wd4364', 'wd4365', 'wd4366', 'wd4367', 'wd4368', 'wd4369', 'wd4370', 'wd4371', 'wd4372', 'wd4373', 'wd4374', 'wd4375', 'wd4376', 'wd4377', 'wd4378', 'wd4379', 'wd4380', 'wd4381', 'wd4382', 'wd4383', 'wd4384', 'wd4385', 'wd4386', 'wd4387', 'wd4388', 'wd4389', 'wd4390', 'wd4391', 'wd4392', 'wd4393', 'wd4394', 'wd4395', 'wd4396', 'wd4397', 'wd4398', 'wd4399', 'wd4400', 'wd4401', 'wd4402', 'wd4403', 'wd4404', 'wd4405', 'wd4406', 'wd4407', 'wd4408', 'wd4409', 'wd4410', 'wd4411', 'wd4412', 'wd4413', 'wd4414', 'wd4415', 'wd4416', 'wd4417', 'wd4418', 'wd4419', 'wd4420', 'wd4421', 'wd4422', 'wd4423', 'wd4424', 'wd4425', 'wd4426', 'wd4427', 'wd4428', 'wd4429', 'wd4430', 'wd4431', 'wd4432', 'wd4433', 'wd4434', 'wd4435', 'wd4436', 'wd4437', 'wd4438', 'wd4439', 'wd4440', 'wd4441', 'wd4442', 'wd4443', 'wd4444', 'wd4445', 'wd4446', 'wd4447', 'wd4448', 'wd4449', 'wd4450', 'wd4451', 'wd4452', 'wd4453', 'wd4454', 'wd4455', 'wd4456', 'wd4457', 'wd4458', 'wd4459', 'wd4460', 'wd4461', 'wd4462', 'wd4463', 'wd4464', 'wd4465', 'wd4466', 'wd4467', 'wd4468', 'wd4469', 'wd4470', 'wd4471', 'wd4472', 'wd4473', 'wd4474', 'wd4475', 'wd4476', 'wd4477', 'wd4478', 'wd4479', 'wd4480', 'wd4481', 'wd4482', 'wd4483', 'wd4484', 'wd4485', 'wd4486', 'wd4487', 'wd4488', 'wd4489', 'wd4490', 'wd4491', 'wd4492', 'wd4493', 'wd4494', 'wd4495', 'wd4496', 'wd4497', 'wd4498', 'wd4499', 'wd4500', 'wd4501', 'wd4502', 'wd4503', 'wd4504', 'wd4505', 'wd4506', 'wd4507', 'wd4508', 'wd4509', 'wd4510', 'wd4511', 'wd4512', 'wd4513', 'wd4514', 'wd4515', 'wd4516', 'wd4517', 'wd4518', 'wd4519', 'wd4520', 'wd4521', 'wd4522', 'wd4523', 'wd4524', 'wd4525', 'wd4526', 'wd4527', 'wd4528', 'wd4529', 'wd4530', 'wd4531', 'wd4532', 'wd4533', 'wd4534', 'wd4535', 'wd4536', 'wd4537', 'wd4538', 'wd4539', 'wd4540', 'wd4541', 'wd4542', 'wd4543', 'wd4544', 'wd4545', 'wd4546', 'wd4547', 'wd4548', 'wd4549', 'wd4550', 'wd4551', 'wd4552', 'wd4553', 'wd4554', 'wd4555', 'wd4556', 'wd4557', 'wd4558', 'wd4559', 'wd4560', 'wd4561', 'wd4562', 'wd4563', 'wd4564', 'wd4565', 'wd4566', 'wd4567', 'wd4568', 'wd4569', 'wd4570', 'wd4571', 'wd4572', 'wd4573', 'wd4574', 'wd4575', 'wd4576', 'wd4577', 'wd4578', 'wd4579', 'wd4580', 'wd4581', 'wd4582', 'wd4583', 'wd4584', 'wd4585', 'wd4586', 'wd4587', 'wd4588', 'wd4589', 'wd4590', 'wd4591', 'wd4592', 'wd4593', 'wd4594', 'wd4595', 'wd4596', 'wd4597', 'wd4598', 'wd4599', 'wd4600', 'wd4601', 'wd4602', 'wd4603', 'wd4604', 'wd4605', 'wd4606', 'wd4607', 'wd4608', 'wd4609', 'wd4610', 'wd4611', 'wd4612', 'wd4613', 'wd4614', 'wd4615', 'wd4616', 'wd4617', 'wd4618', 'wd4619', 'wd4620', 'wd4621', 'wd4622', 'wd4623', 'wd4624', 'wd4625', 'wd4626', 'wd4627', 'wd4628', 'wd4629', 'wd4630', 'wd4631', 'wd4632', 'wd4633', 'wd4634', 'wd4635', 'wd4636', 'wd4637', 'wd4638', 'wd4639', 'wd4640', 'wd4641', 'wd4642', 'wd4643', 'wd4644', 'wd4645', 'wd4646', 'wd4647', 'wd4648', 'wd4649', 'wd4650', 'wd4651', 'wd4652', 'wd4653', 'wd4654', 'wd4655', 'wd4656', 'wd4657', 'wd4658', 'wd4659', 'wd4660', 'wd4661', 'wd4662', 'wd4663', 'wd4664', 'wd4665', 'wd4666', 'wd4667', 'wd4668', 'wd4669', 'wd4670', 'wd4671', 'wd4672', 'wd4673', 'wd4674', 'wd4675', 'wd4676', 'wd4677', 'wd4678', 'wd4679', 'wd4680', 'wd4681', 'wd4682', 'wd4683', 'wd4684', 'wd4685', 'wd4686', 'wd4687', 'wd4688', 'wd4689', 'wd4690', 'wd4691', 'wd4692', 'wd4693', 'wd4694', 'wd4695', 'wd4696', 'wd4697', 'wd4698', 'wd4699', 'wd4700', 'wd4701', 'wd4702', 'wd4703', 'wd4704', 'wd4705', 'wd4706', 'wd4707', 'wd4708', 'wd4709', 'wd4710', 'wd4711', 'wd4712', 'wd4713', 'wd4714', 'wd4715', 'wd4716', 'wd4717', 'wd4718', 'wd4719', 'wd4720', 'wd4721', 'wd4722', 'wd4723', 'wd4724', 'wd4725', 'wd4726', 'wd4727', 'wd4728', 'wd4729', 'wd4730', 'wd4731', 'wd4732', 'wd4733', 'wd4734', 'wd4735', 'wd4736', 'wd4737', 'wd4738', 'wd4739', 'wd4740', 'wd4741', 'wd4742', 'wd4743', 'wd4744', 'wd4745', 'wd4746', 'wd4747', 'wd4748', 'wd4749', 'wd4750', 'wd4751', 'wd4752', 'wd4753', 'wd4754', 'wd4755', 'wd4756', 'wd4757', 'wd4758', 'wd4759', 'wd4760', 'wd4761', 'wd4762', 'wd4763', 'wd4764', 'wd4765', 'wd4766', 'wd4767', 'wd4768', 'wd4769', 'wd4770', 'wd4771', 'wd4772', 'wd4773', 'wd4774', 'wd4775', 'wd4776', 'wd4777', 'wd4778', 'wd4779', 'wd4780', 'wd4781', 'wd4782', 'wd4783', 'wd4784', 'wd4785', 'wd4786', 'wd4787', 'wd4788', 'wd4789', 'wd4790', 'wd4791', 'wd4792', 'wd4793', 'wd4794', 'wd4795', 'wd4796', 'wd4797', 'wd4798', 'wd4799', 'wd4800', 'wd4801', 'wd4802', 'wd4803', 'wd4804', 'wd4805', 'wd4806', 'wd4807', 'wd4808', 'wd4809', 'wd4810', 'wd4811', 'wd4812', 'wd4813', 'wd4814', 'wd4815', 'wd4816', 'wd4817', 'wd4818', 'wd4819', 'wd4820', 'wd4821', 'wd4822', 'wd4823', 'wd4824', 'wd4825', 'wd4826', 'wd4827', 'wd4828', 'wd4829', 'wd4830', 'wd4831', 'wd4832', 'wd4833', 'wd4834', 'wd4835', 'wd4836', 'wd4837', 'wd4838', 'wd4839', 'wd4840', 'wd4841', 'wd4842', 'wd4843', 'wd4844', 'wd4845', 'wd4846', 'wd4847', 'wd4848', 'wd4849', 'wd4850', 'wd4851', 'wd4852', 'wd4853', 'wd4854', 'wd4855', 'wd4856', 'wd4857', 'wd4858', 'wd4859', 'wd4860', 'wd4861', 'wd4862', 'wd4863', 'wd4864', 'wd4865', 'wd4866', 'wd4867', 'wd4868', 'wd4869', 'wd4870', 'wd4871', 'wd4872', 'wd4873', 'wd4874', 'wd4875', 'wd4876', 'wd4877', 'wd4878', 'wd4879', 'wd4880', 'wd4881', 'wd4882', 'wd4883', 'wd4884', 'wd4885', 'wd4886', 'wd4887', 'wd4888', 'wd4889', 'wd4890', 'wd4891', 'wd4892', 'wd4893', 'wd4894', 'wd4895', 'wd4896', 'wd4897', 'wd4898', 'wd4899', 'wd4900', 'wd4901', 'wd4902', 'wd4903', 'wd4904', 'wd4905', 'wd4906', 'wd4907', 'wd4908', 'wd4909', 'wd4910', 'wd4911', 'wd4912', 'wd4913', 'wd4914', 'wd4915', 'wd4916', 'wd4917', 'wd4918', 'wd4919', 'wd4920', 'wd4921', 'wd4922', 'wd4923', 'wd4924', 'wd4925', 'wd4926', 'wd4927', 'wd4928', 'wd4929', 'wd4930', 'wd4931', 'wd4932', 'wd4933', 'wd4934', 'wd4935', 'wd4936', 'wd4937', 'wd4938', 'wd4939', 'wd4940', 'wd4941', 'wd4942', 'wd4943', 'wd4944', 'wd4945', 'wd4946', 'wd4947', 'wd4948', 'wd4949', 'wd4950', 'wd4951', 'wd4952', 'wd4953', 'wd4954', 'wd4955', 'wd4956', 'wd4957', 'wd4958', 'wd4959', 'wd4960', 'wd4961', 'wd4962', 'wd4963', 'wd4964', 'wd4965', 'wd4966', 'wd4967', 'wd4968', 'wd4969', 'wd4970', 'wd4971', 'wd4972', 'wd4973', 'wd4974', 'wd4975', 'wd4976', 'wd4977', 'wd4978', 'wd4979', 'wd4980', 'wd4981', 'wd4982', 'wd4983', 'wd4984', 'wd4985', 'wd4986', 'wd4987', 'wd4988', 'wd4989', 'wd4990', 'wd4991', 'wd4992', 'wd4993', 'wd4994', 'wd4995', 'wd4996', 'wd4997', 'wd4998', 'wd4999', 'wd5000', 'wd5001', 'wd5002', 'wd5003', 'wd5004', 'wd5005', 'wd5006', 'wd5007', 'wd5008', 'wd5009', 'wd5010', 'wd5011', 'wd5012', 'wd5013', 'wd5014', 'wd5015', 'wd5016', 'wd5017', 'wd5018', 'wd5019', 'wd5020', 'wd5021', 'wd5022', 'wd5023', 'wd5024', 'wd5025', 'wd5026', 'wd5027', 'wd5028', 'wd5029', 'wd5030', 'wd5031', 'wd5032', 'wd5033', 'wd5034', 'wd5035', 'wd5036', 'wd5037', 'wd5038', 'wd5039', 'wd5040', 'wd5041', 'wd5042', 'wd5043', 'wd5044', 'wd5045', 'wd5046', 'wd5047', 'wd5048', 'wd5049', 'wd5050', 'wd5051', 'wd5052', 'wd5053', 'wd5054', 'wd5055', 'wd5056', 'wd5057', 'wd5058', 'wd5059', 'wd5060', 'wd5061', 'wd5062', 'wd5063', 'wd5064', 'wd5065', 'wd5066', 'wd5067', 'wd5068', 'wd5069', 'wd5070', 'wd5071', 'wd5072', 'wd5073', 'wd5074', 'wd5075', 'wd5076', 'wd5077', 'wd5078', 'wd5079', 'wd5080', 'wd5081', 'wd5082', 'wd5083', 'wd5084', 'wd5085', 'wd5086', 'wd5087', 'wd5088', 'wd5089', 'wd5090', 'wd5091', 'wd5092', 'wd5093', 'wd5094', 'wd5095', 'wd5096', 'wd5097', 'wd5098', 'wd5099', 'wd5100', 'wd5101', 'wd5102', 'wd5103', 'wd5104', 'wd5105', 'wd5106', 'wd5107', 'wd5108', 'wd5109', 'wd5110', 'wd5111', 'wd5112', 'wd5113', 'wd5114', 'wd5115', 'wd5116', 'wd5117', 'wd5118', 'wd5119', 'wd5120', 'wd5121', 'wd5122', 'wd5123', 'wd5124', 'wd5125', 'wd5126', 'wd5127', 'wd5128', 'wd5129', 'wd5130', 'wd5131', 'wd5132', 'wd5133', 'wd5134', 'wd5135', 'wd5136', 'wd5137', 'wd5138', 'wd5139', 'wd5140', 'wd5141', 'wd5142', 'wd5143', 'wd5144', 'wd5145', 'wd5146', 'wd5147', 'wd5148', 'wd5149', 'wd5150', 'wd5151', 'wd5152', 'wd5153', 'wd5154', 'wd5155', 'wd5156', 'wd5157', 'wd5158', 'wd5159', 'wd5160', 'wd5161', 'wd5162', 'wd5163', 'wd5164', 'wd5165', 'wd5166', 'wd5167', 'wd5168', 'wd5169', 'wd5170', 'wd5171', 'wd5172', 'wd5173', 'wd5174', 'wd5175', 'wd5176', 'wd5177', 'wd5178', 'wd5179', 'wd5180', 'wd5181', 'wd5182', 'wd5183', 'wd5184', 'wd5185', 'wd5186', 'wd5187', 'wd5188', 'wd5189', 'wd5190', 'wd5191', 'wd5192', 'wd5193', 'wd5194', 'wd5195', 'wd5196', 'wd5197', 'wd5198', 'wd5199', 'wd5200', 'wd5201', 'wd5202', 'wd5203', 'wd5204', 'wd5205', 'wd5206', 'wd5207', 'wd5208', 'wd5209', 'wd5210', 'wd5211', 'wd5212', 'wd5213', 'wd5214', 'wd5215', 'wd5216', 'wd5217', 'wd5218', 'wd5219', 'wd5220', 'wd5221', 'wd5222', 'wd5223', 'wd5224', 'wd5225', 'wd5226', 'wd5227', 'wd5228', 'wd5229', 'wd5230', 'wd5231', 'wd5232', 'wd5233', 'wd5234', 'wd5235', 'wd5236', 'wd5237', 'wd5238', 'wd5239', 'wd5240', 'wd5241', 'wd5242', 'wd5243', 'wd5244', 'wd5245', 'wd5246', 'wd5247', 'wd5248', 'wd5249', 'wd5250', 'wd5251', 'wd5252', 'wd5253', 'wd5254', 'wd5255', 'wd5256', 'wd5257', 'wd5258', 'wd5259', 'wd5260', 'wd5261', 'wd5262', 'wd5263', 'wd5264', 'wd5265', 'wd5266', 'wd5267', 'wd5268', 'wd5269', 'wd5270', 'wd5271', 'wd5272', 'wd5273', 'wd5274', 'wd5275', 'wd5276', 'wd5277', 'wd5278', 'wd5279', 'wd5280', 'wd5281', 'wd5282', 'wd5283', 'wd5284', 'wd5285', 'wd5286', 'wd5287', 'wd5288', 'wd5289', 'wd5290', 'wd5291', 'wd5292', 'wd5293', 'wd5294', 'wd5295', 'wd5296', 'wd5297', 'wd5298', 'wd5299', 'wd5300', 'wd5301', 'wd5302', 'wd5303', 'wd5304', 'wd5305', 'wd5306', 'wd5307', 'wd5308', 'wd5309', 'wd5310', 'wd5311', 'wd5312', 'wd5313', 'wd5314', 'wd5315', 'wd5316', 'wd5317', 'wd5318', 'wd5319', 'wd5320', 'wd5321', 'wd5322', 'wd5323', 'wd5324', 'wd5325', 'wd5326', 'wd5327', 'wd5328', 'wd5329', 'wd5330', 'wd5331', 'wd5332', 'wd5333', 'wd5334', 'wd5335', 'wd5336', 'wd5337', 'wd5338', 'wd5339', 'wd5340', 'wd5341', 'wd5342', 'wd5343', 'wd5344', 'wd5345', 'wd5346', 'wd5347', 'wd5348', 'wd5349', 'wd5350', 'wd5351', 'wd5352', 'wd5353', 'wd5354', 'wd5355', 'wd5356', 'wd5357', 'wd5358', 'wd5359', 'wd5360', 'wd5361', 'wd5362', 'wd5363', 'wd5364', 'wd5365', 'wd5366', 'wd5367', 'wd5368', 'wd5369', 'wd5370', 'wd5371', 'wd5372', 'wd5373', 'wd5374', 'wd5375', 'wd5376', 'wd5377', 'wd5378', 'wd5379', 'wd5380', 'wd5381', 'wd5382', 'wd5383', 'wd5384', 'wd5385', 'wd5386', 'wd5387', 'wd5388', 'wd5389', 'wd5390', 'wd5391', 'wd5392', 'wd5393', 'wd5394', 'wd5395', 'wd5396', 'wd5397', 'wd5398', 'wd5399', 'wd5400', 'wd5401', 'wd5402', 'wd5403', 'wd5404', 'wd5405', 'wd5406', 'wd5407', 'wd5408', 'wd5409', 'wd5410', 'wd5411', 'wd5412', 'wd5413', 'wd5414', 'wd5415', 'wd5416', 'wd5417', 'wd5418', 'wd5419', 'wd5420', 'wd5421', 'wd5422', 'wd5423', 'wd5424', 'wd5425', 'wd5426', 'wd5427', 'wd5428', 'wd5429', 'wd5430', 'wd5431', 'wd5432', 'wd5433', 'wd5434', 'wd5435', 'wd5436', 'wd5437', 'wd5438', 'wd5439', 'wd5440', 'wd5441', 'wd5442', 'wd5443', 'wd5444', 'wd5445', 'wd5446', 'wd5447', 'wd5448', 'wd5449', 'wd5450', 'wd5451', 'wd5452', 'wd5453', 'wd5454', 'wd5455', 'wd5456', 'wd5457', 'wd5458', 'wd5459', 'wd5460', 'wd5461', 'wd5462', 'wd5463', 'wd5464', 'wd5465', 'wd5466', 'wd5467', 'wd5468', 'wd5469', 'wd5470', 'wd5471', 'wd5472', 'wd5473', 'wd5474', 'wd5475', 'wd5476', 'wd5477', 'wd5478', 'wd5479', 'wd5480', 'wd5481', 'wd5482', 'wd5483', 'wd5484', 'wd5485', 'wd5486', 'wd5487', 'wd5488', 'wd5489', 'wd5490', 'wd5491', 'wd5492', 'wd5493', 'wd5494', 'wd5495', 'wd5496', 'wd5497', 'wd5498', 'wd5499', 'wd5500', 'wd5501', 'wd5502', 'wd5503', 'wd5504', 'wd5505', 'wd5506', 'wd5507', 'wd5508', 'wd5509', 'wd5510', 'wd5511', 'wd5512', 'wd5513', 'wd5514', 'wd5515', 'wd5516', 'wd5517', 'wd5518', 'wd5519', 'wd5520', 'wd5521', 'wd5522', 'wd5523', 'wd5524', 'wd5525', 'wd5526', 'wd5527', 'wd5528', 'wd5529', 'wd5530', 'wd5531', 'wd5532', 'wd5533', 'wd5534', 'wd5535', 'wd5536', 'wd5537', 'wd5538', 'wd5539', 'wd5540', 'wd5541', 'wd5542', 'wd5543', 'wd5544', 'wd5545', 'wd5546', 'wd5547', 'wd5548', 'wd5549', 'wd5550', 'wd5551', 'wd5552', 'wd5553', 'wd5554', 'wd5555', 'wd5556', 'wd5557', 'wd5558', 'wd5559', 'wd5560', 'wd5561', 'wd5562', 'wd5563', 'wd5564', 'wd5565', 'wd5566', 'wd5567', 'wd5568', 'wd5569', 'wd5570', 'wd5571', 'wd5572', 'wd5573', 'wd5574', 'wd5575', 'wd5576', 'wd5577', 'wd5578', 'wd5579', 'wd5580', 'wd5581', 'wd5582', 'wd5583', 'wd5584', 'wd5585', 'wd5586', 'wd5587', 'wd5588', 'wd5589', 'wd5590', 'wd5591', 'wd5592', 'wd5593', 'wd5594', 'wd5595', 'wd5596', 'wd5597', 'wd5598', 'wd5599', 'wd5600', 'wd5601', 'wd5602', 'wd5603', 'wd5604', 'wd5605', 'wd5606', 'wd5607', 'wd5608', 'wd5609', 'wd5610', 'wd5611', 'wd5612', 'wd5613', 'wd5614', 'wd5615', 'wd5616', 'wd5617', 'wd5618', 'wd5619', 'wd5620', 'wd5621', 'wd5622', 'wd5623', 'wd5624', 'wd5625', 'wd5626', 'wd5627', 'wd5628', 'wd5629', 'wd5630', 'wd5631', 'wd5632', 'wd5633', 'wd5634', 'wd5635', 'wd5636', 'wd5637', 'wd5638', 'wd5639', 'wd5640', 'wd5641', 'wd5642', 'wd5643', 'wd5644', 'wd5645', 'wd5646', 'wd5647', 'wd5648', 'wd5649', 'wd5650', 'wd5651', 'wd5652', 'wd5653', 'wd5654', 'wd5655', 'wd5656', 'wd5657', 'wd5658', 'wd5659', 'wd5660', 'wd5661', 'wd5662', 'wd5663', 'wd5664', 'wd5665', 'wd5666', 'wd5667', 'wd5668', 'wd5669', 'wd5670', 'wd5671', 'wd5672', 'wd5673', 'wd5674', 'wd5675', 'wd5676', 'wd5677', 'wd5678', 'wd5679', 'wd5680', 'wd5681', 'wd5682', 'wd5683', 'wd5684', 'wd5685', 'wd5686', 'wd5687', 'wd5688', 'wd5689', 'wd5690', 'wd5691', 'wd5692', 'wd5693', 'wd5694', 'wd5695', 'wd5696', 'wd5697', 'wd5698', 'wd5699', 'wd5700', 'wd5701', 'wd5702', 'wd5703', 'wd5704', 'wd5705', 'wd5706', 'wd5707', 'wd5708', 'wd5709', 'wd5710', 'wd5711', 'wd5712', 'wd5713', 'wd5714', 'wd5715', 'wd5716', 'wd5717', 'wd5718', 'wd5719', 'wd5720', 'wd5721', 'wd5722', 'wd5723', 'wd5724', 'wd5725', 'wd5726', 'wd5727', 'wd5728', 'wd5729', 'wd5730', 'wd5731', 'wd5732', 'wd5733', 'wd5734', 'wd5735', 'wd5736', 'wd5737', 'wd5738', 'wd5739', 'wd5740', 'wd5741', 'wd5742', 'wd5743', 'wd5744', 'wd5745', 'wd5746', 'wd5747', 'wd5748', 'wd5749', 'wd5750', 'wd5751', 'wd5752', 'wd5753', 'wd5754', 'wd5755', 'wd5756', 'wd5757', 'wd5758', 'wd5759', 'wd5760', 'wd5761', 'wd5762', 'wd5763', 'wd5764', 'wd5765', 'wd5766', 'wd5767', 'wd5768', 'wd5769', 'wd5770', 'wd5771', 'wd5772', 'wd5773', 'wd5774', 'wd5775', 'wd5776', 'wd5777', 'wd5778', 'wd5779', 'wd5780', 'wd5781', 'wd5782', 'wd5783', 'wd5784', 'wd5785', 'wd5786', 'wd5787', 'wd5788', 'wd5789', 'wd5790', 'wd5791', 'wd5792', 'wd5793', 'wd5794', 'wd5795', 'wd5796', 'wd5797', 'wd5798', 'wd5799', 'wd5800', 'wd5801', 'wd5802', 'wd5803', 'wd5804', 'wd5805', 'wd5806', 'wd5807', 'wd5808', 'wd5809', 'wd5810', 'wd5811', 'wd5812', 'wd5813', 'wd5814', 'wd5815', 'wd5816', 'wd5817', 'wd5818', 'wd5819', 'wd5820', 'wd5821', 'wd5822', 'wd5823', 'wd5824', 'wd5825', 'wd5826', 'wd5827', 'wd5828', 'wd5829', 'wd5830', 'wd5831', 'wd5832', 'wd5833', 'wd5834', 'wd5835', 'wd5836', 'wd5837', 'wd5838', 'wd5839', 'wd5840', 'wd5841', 'wd5842', 'wd5843', 'wd5844', 'wd5845', 'wd5846', 'wd5847', 'wd5848', 'wd5849', 'wd5850', 'wd5851', 'wd5852', 'wd5853', 'wd5854', 'wd5855', 'wd5856', 'wd5857', 'wd5858', 'wd5859', 'wd5860', 'wd5861', 'wd5862', 'wd5863', 'wd5864', 'wd5865', 'wd5866', 'wd5867', 'wd5868', 'wd5869', 'wd5870', 'wd5871', 'wd5872', 'wd5873', 'wd5874', 'wd5875', 'wd5876', 'wd5877', 'wd5878', 'wd5879', 'wd5880', 'wd5881', 'wd5882', 'wd5883', 'wd5884', 'wd5885', 'wd5886', 'wd5887', 'wd5888', 'wd5889', 'wd5890', 'wd5891', 'wd5892', 'wd5893', 'wd5894', 'wd5895', 'wd5896', 'wd5897', 'wd5898', 'wd5899', 'wd5900', 'wd5901', 'wd5902', 'wd5903', 'wd5904', 'wd5905', 'wd5906', 'wd5907', 'wd5908', 'wd5909', 'wd5910', 'wd5911', 'wd5912', 'wd5913', 'wd5914', 'wd5915', 'wd5916', 'wd5917', 'wd5918', 'wd5919', 'wd5920', 'wd5921', 'wd5922', 'wd5923', 'wd5924', 'wd5925', 'wd5926', 'wd5927', 'wd5928', 'wd5929', 'wd5930', 'wd5931', 'wd5932', 'wd5933', 'wd5934', 'wd5935', 'wd5936', 'wd5937', 'wd5938', 'wd5939', 'wd5940', 'wd5941', 'wd5942', 'wd5943', 'wd5944', 'wd5945', 'wd5946', 'wd5947', 'wd5948', 'wd5949', 'wd5950', 'wd5951', 'wd5952', 'wd5953', 'wd5954', 'wd5955', 'wd5956', 'wd5957', 'wd5958', 'wd5959', 'wd5960', 'wd5961', 'wd5962', 'wd5963', 'wd5964', 'wd5965', 'wd5966', 'wd5967', 'wd5968', 'wd5969', 'wd5970', 'wd5971', 'wd5972', 'wd5973', 'wd5974', 'wd5975', 'wd5976', 'wd5977', 'wd5978', 'wd5979', 'wd5980', 'wd5981', 'wd5982', 'wd5983', 'wd5984', 'wd5985', 'wd5986', 'wd5987', 'wd5988', 'wd5989', 'wd5990', 'wd5991', 'wd5992', 'wd5993', 'wd5994', 'wd5995', 'wd5996', 'wd5997', 'wd5998', 'wd5999', 'wd6000', 'wd6001', 'wd6002', 'wd6003', 'wd6004', 'wd6005', 'wd6006', 'wd6007', 'wd6008', 'wd6009', 'wd6010', 'wd6011', 'wd6012', 'wd6013', 'wd6014', 'wd6015', 'wd6016', 'wd6017', 'wd6018', 'wd6019', 'wd6020', 'wd6021', 'wd6022', 'wd6023', 'wd6024', 'wd6025', 'wd6026', 'wd6027', 'wd6028', 'wd6029', 'wd6030', 'wd6031', 'wd6032', 'wd6033', 'wd6034', 'wd6035', 'wd6036', 'wd6037', 'wd6038', 'wd6039', 'wd6040', 'wd6041', 'wd6042', 'wd6043', 'wd6044', 'wd6045', 'wd6046', 'wd6047', 'wd6048', 'wd6049', 'wd6050', 'wd6051', 'wd6052', 'wd6053', 'wd6054', 'wd6055', 'wd6056', 'wd6057', 'wd6058', 'wd6059', 'wd6060', 'wd6061', 'wd6062', 'wd6063', 'wd6064', 'wd6065', 'wd6066', 'wd6067', 'wd6068', 'wd6069', 'wd6070', 'wd6071', 'wd6072', 'wd6073', 'wd6074', 'wd6075', 'wd6076', 'wd6077', 'wd6078', 'wd6079', 'wd6080', 'wd6081', 'wd6082', 'wd6083', 'wd6084', 'wd6085', 'wd6086', 'wd6087', 'wd6088', 'wd6089', 'wd6090', 'wd6091', 'wd6092', 'wd6093', 'wd6094', 'wd6095', 'wd6096', 'wd6097', 'wd6098', 'wd6099', 'wd6100', 'wd6101', 'wd6102', 'wd6103', 'wd6104', 'wd6105', 'wd6106', 'wd6107', 'wd6108', 'wd6109', 'wd6110', 'wd6111', 'wd6112', 'wd6113', 'wd6114', 'wd6115', 'wd6116', 'wd6117', 'wd6118', 'wd6119', 'wd6120', 'wd6121', 'wd6122', 'wd6123', 'wd6124', 'wd6125', 'wd6126', 'wd6127', 'wd6128', 'wd6129', 'wd6130', 'wd6131', 'wd6132', 'wd6133', 'wd6134', 'wd6135', 'wd6136', 'wd6137', 'wd6138', 'wd6139', 'wd6140', 'wd6141', 'wd6142', 'wd6143', 'wd6144', 'wd6145', 'wd6146', 'wd6147', 'wd6148', 'wd6149', 'wd6150', 'wd6151', 'wd6152', 'wd6153', 'wd6154', 'wd6155', 'wd6156', 'wd6157', 'wd6158', 'wd6159', 'wd6160', 'wd6161', 'wd6162', 'wd6163', 'wd6164', 'wd6165', 'wd6166', 'wd6167', 'wd6168', 'wd6169', 'wd6170', 'wd6171', 'wd6172', 'wd6173', 'wd6174', 'wd6175', 'wd6176', 'wd6177', 'wd6178', 'wd6179', 'wd6180', 'wd6181', 'wd6182', 'wd6183', 'wd6184', 'wd6185', 'wd6186', 'wd6187', 'wd6188', 'wd6189', 'wd6190', 'wd6191', 'wd6192', 'wd6193', 'wd6194', 'wd6195', 'wd6196', 'wd6197', 'wd6198', 'wd6199', 'wd6200', 'wd6201', 'wd6202', 'wd6203', 'wd6204', 'wd6205', 'wd6206', 'wd6207', 'wd6208', 'wd6209', 'wd6210', 'wd6211', 'wd6212', 'wd6213', 'wd6214', 'wd6215', 'wd6216', 'wd6217', 'wd6218', 'wd6219', 'wd6220', 'wd6221', 'wd6222', 'wd6223', 'wd6224', 'wd6225', 'wd6226', 'wd6227', 'wd6228', 'wd6229', 'wd6230', 'wd6231', 'wd6232', 'wd6233', 'wd6234', 'wd6235', 'wd6236', 'wd6237', 'wd6238', 'wd6239', 'wd6240', 'wd6241', 'wd6242', 'wd6243', 'wd6244', 'wd6245', 'wd6246', 'wd6247', 'wd6248', 'wd6249', 'wd6250', 'wd6251', 'wd6252', 'wd6253', 'wd6254', 'wd6255', 'wd6256', 'wd6257', 'wd6258', 'wd6259', 'wd6260', 'wd6261', 'wd6262', 'wd6263', 'wd6264', 'wd6265', 'wd6266', 'wd6267', 'wd6268', 'wd6269', 'wd6270', 'wd6271', 'wd6272', 'wd6273', 'wd6274', 'wd6275', 'wd6276', 'wd6277', 'wd6278', 'wd6279', 'wd6280', 'wd6281', 'wd6282', 'wd6283', 'wd6284', 'wd6285', 'wd6286', 'wd6287', 'wd6288', 'wd6289', 'wd6290', 'wd6291', 'wd6292', 'wd6293', 'wd6294', 'wd6295', 'wd6296', 'wd6297', 'wd6298', 'wd6299', 'wd6300', 'wd6301', 'wd6302', 'wd6303', 'wd6304', 'wd6305', 'wd6306', 'wd6307', 'wd6308', 'wd6309', 'wd6310', 'wd6311', 'wd6312', 'wd6313', 'wd6314', 'wd6315', 'wd6316', 'wd6317', 'wd6318', 'wd6319', 'wd6320', 'wd6321', 'wd6322', 'wd6323', 'wd6324', 'wd6325', 'wd6326', 'wd6327', 'wd6328', 'wd6329', 'wd6330', 'wd6331', 'wd6332', 'wd6333', 'wd6334', 'wd6335', 'wd6336', 'wd6337', 'wd6338', 'wd6339', 'wd6340', 'wd6341', 'wd6342', 'wd6343', 'wd6344', 'wd6345', 'wd6346', 'wd6347', 'wd6348', 'wd6349', 'wd6350', 'wd6351', 'wd6352', 'wd6353', 'wd6354', 'wd6355', 'wd6356', 'wd6357', 'wd6358', 'wd6359', 'wd6360', 'wd6361', 'wd6362', 'wd6363', 'wd6364', 'wd6365', 'wd6366', 'wd6367', 'wd6368', 'wd6369', 'wd6370', 'wd6371', 'wd6372', 'wd6373', 'wd6374', 'wd6375', 'wd6376', 'wd6377', 'wd6378', 'wd6379', 'wd6380', 'wd6381', 'wd6382', 'wd6383', 'wd6384', 'wd6385', 'wd6386', 'wd6387', 'wd6388', 'wd6389', 'wd6390', 'wd6391', 'wd6392', 'wd6393', 'wd6394', 'wd6395', 'wd6396', 'wd6397', 'wd6398', 'wd6399', 'wd6400', 'wd6401', 'wd6402', 'wd6403', 'wd6404', 'wd6405', 'wd6406', 'wd6407', 'wd6408', 'wd6409', 'wd6410', 'wd6411', 'wd6412', 'wd6413', 'wd6414', 'wd6415', 'wd6416', 'wd6417', 'wd6418', 'wd6419', 'wd6420', 'wd6421', 'wd6422', 'wd6423', 'wd6424', 'wd6425', 'wd6426', 'wd6427', 'wd6428', 'wd6429', 'wd6430', 'wd6431', 'wd6432', 'wd6433', 'wd6434', 'wd6435', 'wd6436', 'wd6437', 'wd6438', 'wd6439', 'wd6440', 'wd6441', 'wd6442', 'wd6443', 'wd6444', 'wd6445', 'wd6446', 'wd6447', 'wd6448', 'wd6449', 'wd6450', 'wd6451', 'wd6452', 'wd6453', 'wd6454', 'wd6455', 'wd6456', 'wd6457', 'wd6458', 'wd6459', 'wd6460', 'wd6461', 'wd6462', 'wd6463', 'wd6464', 'wd6465', 'wd6466', 'wd6467', 'wd6468', 'wd6469', 'wd6470', 'wd6471', 'wd6472', 'wd6473', 'wd6474', 'wd6475', 'wd6476', 'wd6477', 'wd6478', 'wd6479', 'wd6480', 'wd6481', 'wd6482', 'wd6483', 'wd6484', 'wd6485', 'wd6486', 'wd6487', 'wd6488', 'wd6489', 'wd6490', 'wd6491', 'wd6492', 'wd6493', 'wd6494', 'wd6495', 'wd6496', 'wd6497', 'wd6498', 'wd6499', 'wd6500', 'wd6501', 'wd6502', 'wd6503', 'wd6504', 'wd6505', 'wd6506', 'wd6507', 'wd6508', 'wd6509', 'wd6510', 'wd6511', 'wd6512', 'wd6513', 'wd6514', 'wd6515', 'wd6516', 'wd6517', 'wd6518', 'wd6519', 'wd6520', 'wd6521', 'wd6522', 'wd6523', 'wd6524', 'wd6525', 'wd6526', 'wd6527', 'wd6528', 'wd6529', 'wd6530', 'wd6531', 'wd6532', 'wd6533', 'wd6534', 'wd6535', 'wd6536', 'wd6537', 'wd6538', 'wd6539', 'wd6540', 'wd6541', 'wd6542', 'wd6543', 'wd6544', 'wd6545', 'wd6546', 'wd6547', 'wd6548', 'wd6549', 'wd6550', 'wd6551', 'wd6552', 'wd6553', 'wd6554', 'wd6555', 'wd6556', 'wd6557', 'wd6558', 'wd6559', 'wd6560', 'wd6561', 'wd6562', 'wd6563', 'wd6564', 'wd6565', 'wd6566', 'wd6567', 'wd6568', 'wd6569', 'wd6570', 'wd6571', 'wd6572', 'wd6573', 'wd6574', 'wd6575', 'wd6576', 'wd6577', 'wd6578', 'wd6579', 'wd6580', 'wd6581', 'wd6582', 'wd6583', 'wd6584', 'wd6585', 'wd6586', 'wd6587', 'wd6588', 'wd6589', 'wd6590', 'wd6591', 'wd6592', 'wd6593', 'wd6594', 'wd6595', 'wd6596', 'wd6597', 'wd6598', 'wd6599', 'wd6600', 'wd6601', 'wd6602', 'wd6603', 'wd6604', 'wd6605', 'wd6606', 'wd6607', 'wd6608', 'wd6609', 'wd6610', 'wd6611', 'wd6612', 'wd6613', 'wd6614', 'wd6615', 'wd6616', 'wd6617', 'wd6618', 'wd6619', 'wd6620', 'wd6621', 'wd6622', 'wd6623', 'wd6624', 'wd6625', 'wd6626', 'wd6627', 'wd6628', 'wd6629', 'wd6630', 'wd6631', 'wd6632', 'wd6633', 'wd6634', 'wd6635', 'wd6636', 'wd6637', 'wd6638', 'wd6639', 'wd6640', 'wd6641', 'wd6642', 'wd6643', 'wd6644', 'wd6645', 'wd6646', 'wd6647', 'wd6648', 'wd6649', 'wd6650', 'wd6651', 'wd6652', 'wd6653', 'wd6654', 'wd6655', 'wd6656', 'wd6657', 'wd6658', 'wd6659', 'wd6660', 'wd6661', 'wd6662', 'wd6663', 'wd6664', 'wd6665', 'wd6666', 'wd6667', 'wd6668', 'wd6669', 'wd6670', 'wd6671', 'wd6672', 'wd6673', 'wd6674', 'wd6675', 'wd6676', 'wd6677', 'wd6678', 'wd6679', 'wd6680', 'wd6681', 'wd6682', 'wd6683', 'wd6684', 'wd6685', 'wd6686', 'wd6687', 'wd6688', 'wd6689', 'wd6690', 'wd6691', 'wd6692', 'wd6693', 'wd6694', 'wd6695', 'wd6696', 'wd6697', 'wd6698', 'wd6699', 'wd6700', 'wd6701', 'wd6702', 'wd6703', 'wd6704', 'wd6705', 'wd6706', 'wd6707', 'wd6708', 'wd6709', 'wd6710', 'wd6711', 'wd6712', 'wd6713', 'wd6714', 'wd6715', 'wd6716', 'wd6717', 'wd6718', 'wd6719', 'wd6720', 'wd6721', 'wd6722', 'wd6723', 'wd6724', 'wd6725', 'wd6726', 'wd6727', 'wd6728', 'wd6729', 'wd6730', 'wd6731', 'wd6732', 'wd6733', 'wd6734', 'wd6735', 'wd6736', 'wd6737', 'wd6738', 'wd6739', 'wd6740', 'wd6741', 'wd6742', 'wd6743', 'wd6744', 'wd6745', 'wd6746', 'wd6747', 'wd6748', 'wd6749', 'wd6750', 'wd6751', 'wd6752', 'wd6753', 'wd6754', 'wd6755', 'wd6756', 'wd6757', 'wd6758', 'wd6759', 'wd6760', 'wd6761', 'wd6762', 'wd6763', 'wd6764', 'wd6765', 'wd6766', 'wd6767', 'wd6768', 'wd6769', 'wd6770', 'wd6771', 'wd6772', 'wd6773', 'wd6774', 'wd6775', 'wd6776', 'wd6777', 'wd6778', 'wd6779', 'wd6780', 'wd6781', 'wd6782', 'wd6783', 'wd6784', 'wd6785', 'wd6786', 'wd6787', 'wd6788', 'wd6789', 'wd6790', 'wd6791', 'wd6792', 'wd6793', 'wd6794', 'wd6795', 'wd6796', 'wd6797', 'wd6798', 'wd6799', 'wd6800', 'wd6801', 'wd6802', 'wd6803', 'wd6804', 'wd6805', 'wd6806', 'wd6807', 'wd6808', 'wd6809', 'wd6810', 'wd6811', 'wd6812', 'wd6813', 'wd6814', 'wd6815', 'wd6816', 'wd6817', 'wd6818', 'wd6819', 'wd6820', 'wd6821', 'wd6822', 'wd6823', 'wd6824', 'wd6825', 'wd6826', 'wd6827', 'wd6828', 'wd6829', 'wd6830', 'wd6831', 'wd6832', 'wd6833', 'wd6834', 'wd6835', 'wd6836', 'wd6837', 'wd6838', 'wd6839', 'wd6840', 'wd6841', 'wd6842', 'wd6843', 'wd6844', 'wd6845', 'wd6846', 'wd6847', 'wd6848', 'wd6849', 'wd6850', 'wd6851', 'wd6852', 'wd6853', 'wd6854', 'wd6855', 'wd6856', 'wd6857', 'wd6858', 'wd6859', 'wd6860', 'wd6861', 'wd6862', 'wd6863', 'wd6864', 'wd6865', 'wd6866', 'wd6867', 'wd6868', 'wd6869', 'wd6870', 'wd6871', 'wd6872', 'wd6873', 'wd6874', 'wd6875', 'wd6876', 'wd6877', 'wd6878', 'wd6879', 'wd6880', 'wd6881', 'wd6882', 'wd6883', 'wd6884', 'wd6885', 'wd6886', 'wd6887', 'wd6888', 'wd6889', 'wd6890', 'wd6891', 'wd6892', 'wd6893', 'wd6894', 'wd6895', 'wd6896', 'wd6897', 'wd6898', 'wd6899', 'wd6900', 'wd6901', 'wd6902', 'wd6903', 'wd6904', 'wd6905', 'wd6906', 'wd6907', 'wd6908', 'wd6909', 'wd6910', 'wd6911', 'wd6912', 'wd6913', 'wd6914', 'wd6915', 'wd6916', 'wd6917', 'wd6918', 'wd6919', 'wd6920', 'wd6921', 'wd6922', 'wd6923', 'wd6924', 'wd6925', 'wd6926', 'wd6927', 'wd6928', 'wd6929', 'wd6930', 'wd6931', 'wd6932', 'wd6933', 'wd6934', 'wd6935', 'wd6936', 'wd6937', 'wd6938', 'wd6939', 'wd6940', 'wd6941', 'wd6942', 'wd6943', 'wd6944', 'wd6945', 'wd6946', 'wd6947', 'wd6948', 'wd6949', 'wd6950', 'wd6951', 'wd6952', 'wd6953', 'wd6954', 'wd6955', 'wd6956', 'wd6957', 'wd6958', 'wd6959', 'wd6960', 'wd6961', 'wd6962', 'wd6963', 'wd6964', 'wd6965', 'wd6966', 'wd6967', 'wd6968', 'wd6969', 'wd6970', 'wd6971', 'wd6972', 'wd6973', 'wd6974', 'wd6975', 'wd6976', 'wd6977', 'wd6978', 'wd6979', 'wd6980', 'wd6981', 'wd6982', 'wd6983', 'wd6984', 'wd6985', 'wd6986', 'wd6987', 'wd6988', 'wd6989', 'wd6990', 'wd6991', 'wd6992', 'wd6993', 'wd6994', 'wd6995', 'wd6996', 'wd6997', 'wd6998', 'wd6999', 'wd7000', 'wd7001', 'wd7002', 'wd7003', 'wd7004', 'wd7005', 'wd7006', 'wd7007', 'wd7008', 'wd7009', 'wd7010', 'wd7011', 'wd7012', 'wd7013', 'wd7014', 'wd7015', 'wd7016', 'wd7017', 'wd7018', 'wd7019', 'wd7020', 'wd7021', 'wd7022', 'wd7023', 'wd7024', 'wd7025', 'wd7026', 'wd7027', 'wd7028', 'wd7029', 'wd7030', 'wd7031', 'wd7032', 'wd7033', 'wd7034', 'wd7035', 'wd7036', 'wd7037', 'wd7038', 'wd7039', 'wd7040', 'wd7041', 'wd7042', 'wd7043', 'wd7044', 'wd7045', 'wd7046', 'wd7047', 'wd7048', 'wd7049', 'wd7050', 'wd7051', 'wd7052', 'wd7053', 'wd7054', 'wd7055', 'wd7056', 'wd7057', 'wd7058', 'wd7059', 'wd7060', 'wd7061', 'wd7062', 'wd7063', 'wd7064', 'wd7065', 'wd7066', 'wd7067', 'wd7068', 'wd7069', 'wd7070', 'wd7071', 'wd7072', 'wd7073', 'wd7074', 'wd7075', 'wd7076', 'wd7077', 'wd7078', 'wd7079', 'wd7080', 'wd7081', 'wd7082', 'wd7083', 'wd7084', 'wd7085', 'wd7086', 'wd7087', 'wd7088', 'wd7089', 'wd7090', 'wd7091', 'wd7092', 'wd7093', 'wd7094', 'wd7095', 'wd7096', 'wd7097', 'wd7098', 'wd7099', 'wd7100', 'wd7101', 'wd7102', 'wd7103', 'wd7104', 'wd7105', 'wd7106', 'wd7107', 'wd7108', 'wd7109', 'wd7110', 'wd7111', 'wd7112', 'wd7113', 'wd7114', 'wd7115', 'wd7116', 'wd7117', 'wd7118', 'wd7119', 'wd7120', 'wd7121', 'wd7122', 'wd7123', 'wd7124', 'wd7125', 'wd7126', 'wd7127', 'wd7128', 'wd7129', 'wd7130', 'wd7131', 'wd7132', 'wd7133', 'wd7134', 'wd7135', 'wd7136', 'wd7137', 'wd7138', 'wd7139', 'wd7140', 'wd7141', 'wd7142', 'wd7143', 'wd7144', 'wd7145', 'wd7146', 'wd7147', 'wd7148', 'wd7149', 'wd7150', 'wd7151', 'wd7152', 'wd7153', 'wd7154', 'wd7155', 'wd7156', 'wd7157', 'wd7158', 'wd7159', 'wd7160', 'wd7161', 'wd7162', 'wd7163', 'wd7164', 'wd7165', 'wd7166', 'wd7167', 'wd7168', 'wd7169', 'wd7170', 'wd7171', 'wd7172', 'wd7173', 'wd7174', 'wd7175', 'wd7176', 'wd7177', 'wd7178', 'wd7179', 'wd7180', 'wd7181', 'wd7182', 'wd7183', 'wd7184', 'wd7185', 'wd7186', 'wd7187', 'wd7188', 'wd7189', 'wd7190', 'wd7191', 'wd7192', 'wd7193', 'wd7194', 'wd7195', 'wd7196', 'wd7197', 'wd7198', 'wd7199', 'wd7200', 'wd7201', 'wd7202', 'wd7203', 'wd7204', 'wd7205', 'wd7206', 'wd7207', 'wd7208', 'wd7209', 'wd7210', 'wd7211', 'wd7212', 'wd7213', 'wd7214', 'wd7215', 'wd7216', 'wd7217', 'wd7218', 'wd7219', 'wd7220', 'wd7221', 'wd7222', 'wd7223', 'wd7224', 'wd7225', 'wd7226', 'wd7227', 'wd7228', 'wd7229', 'wd7230', 'wd7231', 'wd7232', 'wd7233', 'wd7234', 'wd7235', 'wd7236', 'wd7237', 'wd7238', 'wd7239', 'wd7240', 'wd7241', 'wd7242', 'wd7243', 'wd7244', 'wd7245', 'wd7246', 'wd7247', 'wd7248', 'wd7249', 'wd7250', 'wd7251', 'wd7252', 'wd7253', 'wd7254', 'wd7255', 'wd7256', 'wd7257', 'wd7258', 'wd7259', 'wd7260', 'wd7261', 'wd7262', 'wd7263', 'wd7264', 'wd7265', 'wd7266', 'wd7267', 'wd7268', 'wd7269', 'wd7270', 'wd7271', 'wd7272', 'wd7273', 'wd7274', 'wd7275', 'wd7276', 'wd7277', 'wd7278', 'wd7279', 'wd7280', 'wd7281', 'wd7282', 'wd7283', 'wd7284', 'wd7285', 'wd7286', 'wd7287', 'wd7288', 'wd7289', 'wd7290', 'wd7291', 'wd7292', 'wd7293', 'wd7294', 'wd7295', 'wd7296', 'wd7297', 'wd7298', 'wd7299', 'wd7300', 'wd7301', 'wd7302', 'wd7303', 'wd7304', 'wd7305', 'wd7306', 'wd7307', 'wd7308', 'wd7309', 'wd7310', 'wd7311', 'wd7312', 'wd7313', 'wd7314', 'wd7315', 'wd7316', 'wd7317', 'wd7318', 'wd7319', 'wd7320', 'wd7321', 'wd7322', 'wd7323', 'wd7324', 'wd7325', 'wd7326', 'wd7327', 'wd7328', 'wd7329', 'wd7330', 'wd7331', 'wd7332', 'wd7333', 'wd7334', 'wd7335', 'wd7336', 'wd7337', 'wd7338', 'wd7339', 'wd7340', 'wd7341', 'wd7342', 'wd7343', 'wd7344', 'wd7345', 'wd7346', 'wd7347', 'wd7348', 'wd7349', 'wd7350', 'wd7351', 'wd7352', 'wd7353', 'wd7354', 'wd7355', 'wd7356', 'wd7357', 'wd7358', 'wd7359', 'wd7360', 'wd7361', 'wd7362', 'wd7363', 'wd7364', 'wd7365', 'wd7366', 'wd7367', 'wd7368', 'wd7369', 'wd7370', 'wd7371', 'wd7372', 'wd7373', 'wd7374', 'wd7375', 'wd7376', 'wd7377', 'wd7378', 'wd7379', 'wd7380', 'wd7381', 'wd7382', 'wd7383', 'wd7384', 'wd7385', 'wd7386', 'wd7387', 'wd7388', 'wd7389', 'wd7390', 'wd7391', 'wd7392', 'wd7393', 'wd7394', 'wd7395', 'wd7396', 'wd7397', 'wd7398', 'wd7399', 'wd7400', 'wd7401', 'wd7402', 'wd7403', 'wd7404', 'wd7405', 'wd7406', 'wd7407', 'wd7408', 'wd7409', 'wd7410', 'wd7411', 'wd7412', 'wd7413', 'wd7414', 'wd7415', 'wd7416', 'wd7417', 'wd7418', 'wd7419', 'wd7420', 'wd7421', 'wd7422', 'wd7423', 'wd7424', 'wd7425', 'wd7426', 'wd7427', 'wd7428', 'wd7429', 'wd7430', 'wd7431', 'wd7432', 'wd7433', 'wd7434', 'wd7435', 'wd7436', 'wd7437', 'wd7438', 'wd7439', 'wd7440', 'wd7441', 'wd7442', 'wd7443', 'wd7444', 'wd7445', 'wd7446', 'wd7447', 'wd7448', 'wd7449', 'wd7450', 'wd7451', 'wd7452', 'wd7453', 'wd7454', 'wd7455', 'wd7456', 'wd7457', 'wd7458', 'wd7459', 'wd7460', 'wd7461', 'wd7462', 'wd7463', 'wd7464', 'wd7465', 'wd7466', 'wd7467', 'wd7468', 'wd7469', 'wd7470', 'wd7471', 'wd7472', 'wd7473', 'wd7474', 'wd7475', 'wd7476', 'wd7477', 'wd7478', 'wd7479', 'wd7480', 'wd7481', 'wd7482', 'wd7483', 'wd7484', 'wd7485', 'wd7486', 'wd7487', 'wd7488', 'wd7489', 'wd7490', 'wd7491', 'wd7492', 'wd7493', 'wd7494', 'wd7495', 'wd7496', 'wd7497', 'wd7498', 'wd7499', 'wd7500', 'wd7501', 'wd7502', 'wd7503', 'wd7504', 'wd7505', 'wd7506', 'wd7507', 'wd7508', 'wd7509', 'wd7510', 'wd7511', 'wd7512', 'wd7513', 'wd7514', 'wd7515', 'wd7516', 'wd7517', 'wd7518', 'wd7519', 'wd7520', 'wd7521', 'wd7522', 'wd7523', 'wd7524', 'wd7525', 'wd7526', 'wd7527', 'wd7528', 'wd7529', 'wd7530', 'wd7531', 'wd7532', 'wd7533', 'wd7534', 'wd7535', 'wd7536', 'wd7537', 'wd7538', 'wd7539', 'wd7540', 'wd7541', 'wd7542', 'wd7543', 'wd7544', 'wd7545', 'wd7546', 'wd7547', 'wd7548', 'wd7549', 'wd7550', 'wd7551', 'wd7552', 'wd7553', 'wd7554', 'wd7555', 'wd7556', 'wd7557', 'wd7558', 'wd7559', 'wd7560', 'wd7561', 'wd7562', 'wd7563', 'wd7564', 'wd7565', 'wd7566', 'wd7567', 'wd7568', 'wd7569', 'wd7570', 'wd7571', 'wd7572', 'wd7573', 'wd7574', 'wd7575', 'wd7576', 'wd7577', 'wd7578', 'wd7579', 'wd7580', 'wd7581', 'wd7582', 'wd7583', 'wd7584', 'wd7585', 'wd7586', 'wd7587', 'wd7588', 'wd7589', 'wd7590', 'wd7591', 'wd7592', 'wd7593', 'wd7594', 'wd7595', 'wd7596', 'wd7597', 'wd7598', 'wd7599', 'wd7600', 'wd7601', 'wd7602', 'wd7603', 'wd7604', 'wd7605', 'wd7606', 'wd7607', 'wd7608', 'wd7609', 'wd7610', 'wd7611', 'wd7612', 'wd7613', 'wd7614', 'wd7615', 'wd7616', 'wd7617', 'wd7618', 'wd7619', 'wd7620', 'wd7621', 'wd7622', 'wd7623', 'wd7624', 'wd7625', 'wd7626', 'wd7627', 'wd7628', 'wd7629', 'wd7630', 'wd7631', 'wd7632', 'wd7633', 'wd7634', 'wd7635', 'wd7636', 'wd7637', 'wd7638', 'wd7639', 'wd7640', 'wd7641', 'wd7642', 'wd7643', 'wd7644', 'wd7645', 'wd7646', 'wd7647', 'wd7648', 'wd7649', 'wd7650', 'wd7651', 'wd7652', 'wd7653', 'wd7654', 'wd7655', 'wd7656', 'wd7657', 'wd7658', 'wd7659', 'wd7660', 'wd7661', 'wd7662', 'wd7663', 'wd7664', 'wd7665', 'wd7666', 'wd7667', 'wd7668', 'wd7669', 'wd7670', 'wd7671', 'wd7672', 'wd7673', 'wd7674', 'wd7675', 'wd7676', 'wd7677', 'wd7678', 'wd7679', 'wd7680', 'wd7681', 'wd7682', 'wd7683', 'wd7684', 'wd7685', 'wd7686', 'wd7687', 'wd7688', 'wd7689', 'wd7690', 'wd7691', 'wd7692', 'wd7693', 'wd7694', 'wd7695', 'wd7696', 'wd7697', 'wd7698', 'wd7699', 'wd7700', 'wd7701', 'wd7702', 'wd7703', 'wd7704', 'wd7705', 'wd7706', 'wd7707', 'wd7708', 'wd7709', 'wd7710', 'wd7711', 'wd7712', 'wd7713', 'wd7714', 'wd7715', 'wd7716', 'wd7717', 'wd7718', 'wd7719', 'wd7720', 'wd7721', 'wd7722', 'wd7723', 'wd7724', 'wd7725', 'wd7726', 'wd7727', 'wd7728', 'wd7729', 'wd7730', 'wd7731', 'wd7732', 'wd7733', 'wd7734', 'wd7735', 'wd7736', 'wd7737', 'wd7738', 'wd7739', 'wd7740', 'wd7741', 'wd7742', 'wd7743', 'wd7744', 'wd7745', 'wd7746', 'wd7747', 'wd7748', 'wd7749', 'wd7750', 'wd7751', 'wd7752', 'wd7753', 'wd7754', 'wd7755', 'wd7756', 'wd7757', 'wd7758', 'wd7759', 'wd7760', 'wd7761', 'wd7762', 'wd7763', 'wd7764', 'wd7765', 'wd7766', 'wd7767', 'wd7768', 'wd7769', 'wd7770', 'wd7771', 'wd7772', 'wd7773', 'wd7774', 'wd7775', 'wd7776', 'wd7777', 'wd7778', 'wd7779', 'wd7780', 'wd7781', 'wd7782', 'wd7783', 'wd7784', 'wd7785', 'wd7786', 'wd7787', 'wd7788', 'wd7789', 'wd7790', 'wd7791', 'wd7792', 'wd7793', 'wd7794', 'wd7795', 'wd7796', 'wd7797', 'wd7798', 'wd7799', 'wd7800', 'wd7801', 'wd7802', 'wd7803', 'wd7804', 'wd7805', 'wd7806', 'wd7807', 'wd7808', 'wd7809', 'wd7810', 'wd7811', 'wd7812', 'wd7813', 'wd7814', 'wd7815', 'wd7816', 'wd7817', 'wd7818', 'wd7819', 'wd7820', 'wd7821', 'wd7822', 'wd7823', 'wd7824', 'wd7825', 'wd7826', 'wd7827', 'wd7828', 'wd7829', 'wd7830', 'wd7831', 'wd7832', 'wd7833', 'wd7834', 'wd7835', 'wd7836', 'wd7837', 'wd7838', 'wd7839', 'wd7840', 'wd7841', 'wd7842', 'wd7843', 'wd7844', 'wd7845', 'wd7846', 'wd7847', 'wd7848', 'wd7849', 'wd7850', 'wd7851', 'wd7852', 'wd7853', 'wd7854', 'wd7855', 'wd7856', 'wd7857', 'wd7858', 'wd7859', 'wd7860', 'wd7861', 'wd7862', 'wd7863', 'wd7864', 'wd7865', 'wd7866', 'wd7867', 'wd7868', 'wd7869', 'wd7870', 'wd7871', 'wd7872', 'wd7873', 'wd7874', 'wd7875', 'wd7876', 'wd7877', 'wd7878', 'wd7879', 'wd7880', 'wd7881', 'wd7882', 'wd7883', 'wd7884', 'wd7885', 'wd7886', 'wd7887', 'wd7888', 'wd7889', 'wd7890', 'wd7891', 'wd7892', 'wd7893', 'wd7894', 'wd7895', 'wd7896', 'wd7897', 'wd7898', 'wd7899', 'wd7900', 'wd7901', 'wd7902', 'wd7903', 'wd7904', 'wd7905', 'wd7906', 'wd7907', 'wd7908', 'wd7909', 'wd7910', 'wd7911', 'wd7912', 'wd7913', 'wd7914', 'wd7915', 'wd7916', 'wd7917', 'wd7918', 'wd7919', 'wd7920', 'wd7921', 'wd7922', 'wd7923', 'wd7924', 'wd7925', 'wd7926', 'wd7927', 'wd7928', 'wd7929', 'wd7930', 'wd7931', 'wd7932', 'wd7933', 'wd7934', 'wd7935', 'wd7936', 'wd7937', 'wd7938', 'wd7939', 'wd7940', 'wd7941', 'wd7942', 'wd7943', 'wd7944', 'wd7945', 'wd7946', 'wd7947', 'wd7948', 'wd7949', 'wd7950', 'wd7951', 'wd7952', 'wd7953', 'wd7954', 'wd7955', 'wd7956', 'wd7957', 'wd7958', 'wd7959', 'wd7960', 'wd7961', 'wd7962', 'wd7963', 'wd7964', 'wd7965', 'wd7966', 'wd7967', 'wd7968', 'wd7969', 'wd7970', 'wd7971', 'wd7972', 'wd7973', 'wd7974', 'wd7975', 'wd7976', 'wd7977', 'wd7978', 'wd7979', 'wd7980', 'wd7981', 'wd7982', 'wd7983', 'wd7984', 'wd7985', 'wd7986', 'wd7987', 'wd7988', 'wd7989', 'wd7990', 'wd7991', 'wd7992', 'wd7993', 'wd7994', 'wd7995', 'wd7996', 'wd7997', 'wd7998', 'wd7999', 'wd8000', 'wd8001', 'wd8002', 'wd8003', 'wd8004', 'wd8005', 'wd8006', 'wd8007', 'wd8008', 'wd8009', 'wd8010', 'wd8011', 'wd8012', 'wd8013', 'wd8014', 'wd8015', 'wd8016', 'wd8017', 'wd8018', 'wd8019', 'wd8020', 'wd8021', 'wd8022', 'wd8023', 'wd8024', 'wd8025', 'wd8026', 'wd8027', 'wd8028', 'wd8029', 'wd8030', 'wd8031', 'wd8032', 'wd8033', 'wd8034', 'wd8035', 'wd8036', 'wd8037', 'wd8038', 'wd8039', 'wd8040', 'wd8041', 'wd8042', 'wd8043', 'wd8044', 'wd8045', 'wd8046', 'wd8047', 'wd8048', 'wd8049', 'wd8050', 'wd8051', 'wd8052', 'wd8053', 'wd8054', 'wd8055', 'wd8056', 'wd8057', 'wd8058', 'wd8059', 'wd8060', 'wd8061', 'wd8062', 'wd8063', 'wd8064', 'wd8065', 'wd8066', 'wd8067', 'wd8068', 'wd8069', 'wd8070', 'wd8071', 'wd8072', 'wd8073', 'wd8074', 'wd8075', 'wd8076', 'wd8077', 'wd8078', 'wd8079', 'wd8080', 'wd8081', 'wd8082', 'wd8083', 'wd8084', 'wd8085', 'wd8086', 'wd8087', 'wd8088', 'wd8089', 'wd8090', 'wd8091', 'wd8092', 'wd8093', 'wd8094', 'wd8095', 'wd8096', 'wd8097', 'wd8098', 'wd8099', 'wd8100', 'wd8101', 'wd8102', 'wd8103', 'wd8104', 'wd8105', 'wd8106', 'wd8107', 'wd8108', 'wd8109', 'wd8110', 'wd8111', 'wd8112', 'wd8113', 'wd8114', 'wd8115', 'wd8116', 'wd8117', 'wd8118', 'wd8119', 'wd8120', 'wd8121', 'wd8122', 'wd8123', 'wd8124', 'wd8125', 'wd8126', 'wd8127', 'wd8128', 'wd8129', 'wd8130', 'wd8131', 'wd8132', 'wd8133', 'wd8134', 'wd8135', 'wd8136', 'wd8137', 'wd8138', 'wd8139', 'wd8140', 'wd8141', 'wd8142', 'wd8143', 'wd8144', 'wd8145', 'wd8146', 'wd8147', 'wd8148', 'wd8149', 'wd8150', 'wd8151', 'wd8152', 'wd8153', 'wd8154', 'wd8155', 'wd8156', 'wd8157', 'wd8158', 'wd8159', 'wd8160', 'wd8161', 'wd8162', 'wd8163', 'wd8164', 'wd8165', 'wd8166', 'wd8167', 'wd8168', 'wd8169', 'wd8170', 'wd8171', 'wd8172', 'wd8173', 'wd8174', 'wd8175', 'wd8176', 'wd8177', 'wd8178', 'wd8179', 'wd8180', 'wd8181', 'wd8182', 'wd8183', 'wd8184', 'wd8185', 'wd8186', 'wd8187', 'wd8188', 'wd8189', 'wd8190', 'wd8191', 'wd8192', 'wd8193', 'wd8194', 'wd8195', 'wd8196', 'wd8197', 'wd8198', 'wd8199', 'wd8200', 'wd8201', 'wd8202', 'wd8203', 'wd8204', 'wd8205', 'wd8206', 'wd8207', 'wd8208', 'wd8209', 'wd8210', 'wd8211', 'wd8212', 'wd8213', 'wd8214', 'wd8215', 'wd8216', 'wd8217', 'wd8218', 'wd8219', 'wd8220', 'wd8221', 'wd8222', 'wd8223', 'wd8224', 'wd8225', 'wd8226', 'wd8227', 'wd8228', 'wd8229', 'wd8230', 'wd8231', 'wd8232', 'wd8233', 'wd8234', 'wd8235', 'wd8236', 'wd8237', 'wd8238', 'wd8239', 'wd8240', 'wd8241', 'wd8242', 'wd8243', 'wd8244', 'wd8245', 'wd8246', 'wd8247', 'wd8248', 'wd8249', 'wd8250', 'wd8251', 'wd8252', 'wd8253', 'wd8254', 'wd8255', 'wd8256', 'wd8257', 'wd8258', 'wd8259', 'wd8260', 'wd8261', 'wd8262', 'wd8263', 'wd8264', 'wd8265', 'wd8266', 'wd8267', 'wd8268', 'wd8269', 'wd8270', 'wd8271', 'wd8272', 'wd8273', 'wd8274', 'wd8275', 'wd8276', 'wd8277', 'wd8278', 'wd8279', 'wd8280', 'wd8281', 'wd8282', 'wd8283', 'wd8284', 'wd8285', 'wd8286', 'wd8287', 'wd8288', 'wd8289', 'wd8290', 'wd8291', 'wd8292', 'wd8293', 'wd8294', 'wd8295', 'wd8296', 'wd8297', 'wd8298', 'wd8299', 'wd8300', 'wd8301', 'wd8302', 'wd8303', 'wd8304', 'wd8305', 'wd8306', 'wd8307', 'wd8308', 'wd8309', 'wd8310', 'wd8311', 'wd8312', 'wd8313', 'wd8314', 'wd8315', 'wd8316', 'wd8317', 'wd8318', 'wd8319', 'wd8320', 'wd8321', 'wd8322', 'wd8323', 'wd8324', 'wd8325', 'wd8326', 'wd8327', 'wd8328', 'wd8329', 'wd8330', 'wd8331', 'wd8332', 'wd8333', 'wd8334', 'wd8335', 'wd8336', 'wd8337', 'wd8338', 'wd8339', 'wd8340', 'wd8341', 'wd8342', 'wd8343', 'wd8344', 'wd8345', 'wd8346', 'wd8347', 'wd8348', 'wd8349', 'wd8350', 'wd8351', 'wd8352', 'wd8353', 'wd8354', 'wd8355', 'wd8356', 'wd8357', 'wd8358', 'wd8359', 'wd8360', 'wd8361', 'wd8362', 'wd8363', 'wd8364', 'wd8365', 'wd8366', 'wd8367', 'wd8368', 'wd8369', 'wd8370', 'wd8371', 'wd8372', 'wd8373', 'wd8374', 'wd8375', 'wd8376', 'wd8377', 'wd8378', 'wd8379', 'wd8380', 'wd8381', 'wd8382', 'wd8383', 'wd8384', 'wd8385', 'wd8386', 'wd8387', 'wd8388', 'wd8389', 'wd8390', 'wd8391', 'wd8392', 'wd8393', 'wd8394', 'wd8395', 'wd8396', 'wd8397', 'wd8398', 'wd8399', 'wd8400', 'wd8401', 'wd8402', 'wd8403', 'wd8404', 'wd8405', 'wd8406', 'wd8407', 'wd8408', 'wd8409', 'wd8410', 'wd8411', 'wd8412', 'wd8413', 'wd8414', 'wd8415', 'wd8416', 'wd8417', 'wd8418', 'wd8419', 'wd8420', 'wd8421', 'wd8422', 'wd8423', 'wd8424', 'wd8425', 'wd8426', 'wd8427', 'wd8428', 'wd8429', 'wd8430', 'wd8431', 'wd8432', 'wd8433', 'wd8434', 'wd8435', 'wd8436', 'wd8437', 'wd8438', 'wd8439', 'wd8440', 'wd8441', 'wd8442', 'wd8443', 'wd8444', 'wd8445', 'wd8446', 'wd8447', 'wd8448', 'wd8449', 'wd8450', 'wd8451', 'wd8452', 'wd8453', 'wd8454', 'wd8455', 'wd8456', 'wd8457', 'wd8458', 'wd8459', 'wd8460', 'wd8461', 'wd8462', 'wd8463', 'wd8464', 'wd8465', 'wd8466', 'wd8467', 'wd8468', 'wd8469', 'wd8470', 'wd8471', 'wd8472', 'wd8473', 'wd8474', 'wd8475', 'wd8476', 'wd8477', 'wd8478', 'wd8479', 'wd8480', 'wd8481', 'wd8482', 'wd8483', 'wd8484', 'wd8485', 'wd8486', 'wd8487', 'wd8488', 'wd8489', 'wd8490', 'wd8491', 'wd8492', 'wd8493', 'wd8494', 'wd8495', 'wd8496', 'wd8497', 'wd8498', 'wd8499', 'wd8500', 'wd8501', 'wd8502', 'wd8503', 'wd8504', 'wd8505', 'wd8506', 'wd8507', 'wd8508', 'wd8509', 'wd8510', 'wd8511', 'wd8512', 'wd8513', 'wd8514', 'wd8515', 'wd8516', 'wd8517', 'wd8518', 'wd8519', 'wd8520', 'wd8521', 'wd8522', 'wd8523', 'wd8524', 'wd8525', 'wd8526', 'wd8527', 'wd8528', 'wd8529', 'wd8530', 'wd8531', 'wd8532', 'wd8533', 'wd8534', 'wd8535', 'wd8536', 'wd8537', 'wd8538', 'wd8539', 'wd8540', 'wd8541', 'wd8542', 'wd8543', 'wd8544', 'wd8545', 'wd8546', 'wd8547', 'wd8548', 'wd8549', 'wd8550', 'wd8551', 'wd8552', 'wd8553', 'wd8554', 'wd8555', 'wd8556', 'wd8557', 'wd8558', 'wd8559', 'wd8560', 'wd8561', 'wd8562', 'wd8563', 'wd8564', 'wd8565', 'wd8566', 'wd8567', 'wd8568', 'wd8569', 'wd8570', 'wd8571', 'wd8572', 'wd8573', 'wd8574', 'wd8575', 'wd8576', 'wd8577', 'wd8578', 'wd8579', 'wd8580', 'wd8581', 'wd8582', 'wd8583', 'wd8584', 'wd8585', 'wd8586', 'wd8587', 'wd8588', 'wd8589', 'wd8590', 'wd8591', 'wd8592', 'wd8593', 'wd8594', 'wd8595', 'wd8596', 'wd8597', 'wd8598', 'wd8599', 'wd8600', 'wd8601', 'wd8602', 'wd8603', 'wd8604', 'wd8605', 'wd8606', 'wd8607', 'wd8608', 'wd8609', 'wd8610', 'wd8611', 'wd8612', 'wd8613', 'wd8614', 'wd8615', 'wd8616', 'wd8617', 'wd8618', 'wd8619', 'wd8620', 'wd8621', 'wd8622', 'wd8623', 'wd8624', 'wd8625', 'wd8626', 'wd8627', 'wd8628', 'wd8629', 'wd8630', 'wd8631', 'wd8632', 'wd8633', 'wd8634', 'wd8635', 'wd8636', 'wd8637', 'wd8638', 'wd8639', 'wd8640', 'wd8641', 'wd8642', 'wd8643', 'wd8644', 'wd8645', 'wd8646', 'wd8647', 'wd8648', 'wd8649', 'wd8650', 'wd8651', 'wd8652', 'wd8653', 'wd8654', 'wd8655', 'wd8656', 'wd8657', 'wd8658', 'wd8659', 'wd8660', 'wd8661', 'wd8662', 'wd8663', 'wd8664', 'wd8665', 'wd8666', 'wd8667', 'wd8668', 'wd8669', 'wd8670', 'wd8671', 'wd8672', 'wd8673', 'wd8674', 'wd8675', 'wd8676', 'wd8677', 'wd8678', 'wd8679', 'wd8680', 'wd8681', 'wd8682', 'wd8683', 'wd8684', 'wd8685', 'wd8686', 'wd8687', 'wd8688', 'wd8689', 'wd8690', 'wd8691', 'wd8692', 'wd8693', 'wd8694', 'wd8695', 'wd8696', 'wd8697', 'wd8698', 'wd8699', 'wd8700', 'wd8701', 'wd8702', 'wd8703', 'wd8704', 'wd8705', 'wd8706', 'wd8707', 'wd8708', 'wd8709', 'wd8710', 'wd8711', 'wd8712', 'wd8713', 'wd8714', 'wd8715', 'wd8716', 'wd8717', 'wd8718', 'wd8719', 'wd8720', 'wd8721', 'wd8722', 'wd8723', 'wd8724', 'wd8725', 'wd8726', 'wd8727', 'wd8728', 'wd8729', 'wd8730', 'wd8731', 'wd8732', 'wd8733', 'wd8734', 'wd8735', 'wd8736', 'wd8737', 'wd8738', 'wd8739', 'wd8740', 'wd8741', 'wd8742', 'wd8743', 'wd8744', 'wd8745', 'wd8746', 'wd8747', 'wd8748', 'wd8749', 'wd8750', 'wd8751', 'wd8752', 'wd8753', 'wd8754', 'wd8755', 'wd8756', 'wd8757', 'wd8758', 'wd8759', 'wd8760', 'wd8761', 'wd8762', 'wd8763', 'wd8764', 'wd8765', 'wd8766', 'wd8767', 'wd8768', 'wd8769', 'wd8770', 'wd8771', 'wd8772', 'wd8773', 'wd8774', 'wd8775', 'wd8776', 'wd8777', 'wd8778', 'wd8779', 'wd8780', 'wd8781', 'wd8782', 'wd8783', 'wd8784', 'wd8785', 'wd8786', 'wd8787', 'wd8788', 'wd8789', 'wd8790', 'wd8791', 'wd8792', 'wd8793', 'wd8794', 'wd8795', 'wd8796', 'wd8797', 'wd8798', 'wd8799', 'wd8800', 'wd8801', 'wd8802', 'wd8803', 'wd8804', 'wd8805', 'wd8806', 'wd8807', 'wd8808', 'wd8809', 'wd8810', 'wd8811', 'wd8812', 'wd8813', 'wd8814', 'wd8815', 'wd8816', 'wd8817', 'wd8818', 'wd8819', 'wd8820', 'wd8821', 'wd8822', 'wd8823', 'wd8824', 'wd8825', 'wd8826', 'wd8827', 'wd8828', 'wd8829', 'wd8830', 'wd8831', 'wd8832', 'wd8833', 'wd8834', 'wd8835', 'wd8836', 'wd8837', 'wd8838', 'wd8839', 'wd8840', 'wd8841', 'wd8842', 'wd8843', 'wd8844', 'wd8845', 'wd8846', 'wd8847', 'wd8848', 'wd8849', 'wd8850', 'wd8851', 'wd8852', 'wd8853', 'wd8854', 'wd8855', 'wd8856', 'wd8857', 'wd8858', 'wd8859', 'wd8860', 'wd8861', 'wd8862', 'wd8863', 'wd8864', 'wd8865', 'wd8866', 'wd8867', 'wd8868', 'wd8869', 'wd8870', 'wd8871', 'wd8872', 'wd8873', 'wd8874', 'wd8875', 'wd8876', 'wd8877', 'wd8878', 'wd8879', 'wd8880', 'wd8881', 'wd8882', 'wd8883', 'wd8884', 'wd8885', 'wd8886', 'wd8887', 'wd8888', 'wd8889', 'wd8890', 'wd8891', 'wd8892', 'wd8893', 'wd8894', 'wd8895', 'wd8896', 'wd8897', 'wd8898', 'wd8899', 'wd8900', 'wd8901', 'wd8902', 'wd8903', 'wd8904', 'wd8905', 'wd8906', 'wd8907', 'wd8908', 'wd8909', 'wd8910', 'wd8911', 'wd8912', 'wd8913', 'wd8914', 'wd8915', 'wd8916', 'wd8917', 'wd8918', 'wd8919', 'wd8920', 'wd8921', 'wd8922', 'wd8923', 'wd8924', 'wd8925', 'wd8926', 'wd8927', 'wd8928', 'wd8929', 'wd8930', 'wd8931', 'wd8932', 'wd8933', 'wd8934', 'wd8935', 'wd8936', 'wd8937', 'wd8938', 'wd8939', 'wd8940', 'wd8941', 'wd8942', 'wd8943', 'wd8944', 'wd8945', 'wd8946', 'wd8947', 'wd8948', 'wd8949', 'wd8950', 'wd8951', 'wd8952', 'wd8953', 'wd8954', 'wd8955', 'wd8956', 'wd8957', 'wd8958', 'wd8959', 'wd8960', 'wd8961', 'wd8962', 'wd8963', 'wd8964', 'wd8965', 'wd8966', 'wd8967', 'wd8968', 'wd8969', 'wd8970', 'wd8971', 'wd8972', 'wd8973', 'wd8974', 'wd8975', 'wd8976', 'wd8977', 'wd8978', 'wd8979', 'wd8980', 'wd8981', 'wd8982', 'wd8983', 'wd8984', 'wd8985', 'wd8986', 'wd8987', 'wd8988', 'wd8989', 'wd8990', 'wd8991', 'wd8992', 'wd8993', 'wd8994', 'wd8995', 'wd8996', 'wd8997', 'wd8998', 'wd8999', 'wd9000', 'wd9001', 'wd9002', 'wd9003', 'wd9004', 'wd9005', 'wd9006', 'wd9007', 'wd9008', 'wd9009', 'wd9010', 'wd9011', 'wd9012', 'wd9013', 'wd9014', 'wd9015', 'wd9016', 'wd9017', 'wd9018', 'wd9019', 'wd9020', 'wd9021', 'wd9022', 'wd9023', 'wd9024', 'wd9025', 'wd9026', 'wd9027', 'wd9028', 'wd9029', 'wd9030', 'wd9031', 'wd9032', 'wd9033', 'wd9034', 'wd9035', 'wd9036', 'wd9037', 'wd9038', 'wd9039', 'wd9040', 'wd9041', 'wd9042', 'wd9043', 'wd9044', 'wd9045', 'wd9046', 'wd9047', 'wd9048', 'wd9049', 'wd9050', 'wd9051', 'wd9052', 'wd9053', 'wd9054', 'wd9055', 'wd9056', 'wd9057', 'wd9058', 'wd9059', 'wd9060', 'wd9061', 'wd9062', 'wd9063', 'wd9064', 'wd9065', 'wd9066', 'wd9067', 'wd9068', 'wd9069', 'wd9070', 'wd9071', 'wd9072', 'wd9073', 'wd9074', 'wd9075', 'wd9076', 'wd9077', 'wd9078', 'wd9079', 'wd9080', 'wd9081', 'wd9082', 'wd9083', 'wd9084', 'wd9085', 'wd9086', 'wd9087', 'wd9088', 'wd9089', 'wd9090', 'wd9091', 'wd9092', 'wd9093', 'wd9094', 'wd9095', 'wd9096', 'wd9097', 'wd9098', 'wd9099', 'wd9100', 'wd9101', 'wd9102', 'wd9103', 'wd9104', 'wd9105', 'wd9106', 'wd9107', 'wd9108', 'wd9109', 'wd9110', 'wd9111', 'wd9112', 'wd9113', 'wd9114', 'wd9115', 'wd9116', 'wd9117', 'wd9118', 'wd9119', 'wd9120', 'wd9121', 'wd9122', 'wd9123', 'wd9124', 'wd9125', 'wd9126', 'wd9127', 'wd9128', 'wd9129', 'wd9130', 'wd9131', 'wd9132', 'wd9133', 'wd9134', 'wd9135', 'wd9136', 'wd9137', 'wd9138', 'wd9139', 'wd9140', 'wd9141', 'wd9142', 'wd9143', 'wd9144', 'wd9145', 'wd9146', 'wd9147', 'wd9148', 'wd9149', 'wd9150', 'wd9151', 'wd9152', 'wd9153', 'wd9154', 'wd9155', 'wd9156', 'wd9157', 'wd9158', 'wd9159', 'wd9160', 'wd9161', 'wd9162', 'wd9163', 'wd9164', 'wd9165', 'wd9166', 'wd9167', 'wd9168', 'wd9169', 'wd9170', 'wd9171', 'wd9172', 'wd9173', 'wd9174', 'wd9175', 'wd9176', 'wd9177', 'wd9178', 'wd9179', 'wd9180', 'wd9181', 'wd9182', 'wd9183', 'wd9184', 'wd9185', 'wd9186', 'wd9187', 'wd9188', 'wd9189', 'wd9190', 'wd9191', 'wd9192', 'wd9193', 'wd9194', 'wd9195', 'wd9196', 'wd9197', 'wd9198', 'wd9199', 'wd9200', 'wd9201', 'wd9202', 'wd9203', 'wd9204', 'wd9205', 'wd9206', 'wd9207', 'wd9208', 'wd9209', 'wd9210', 'wd9211', 'wd9212', 'wd9213', 'wd9214', 'wd9215', 'wd9216', 'wd9217', 'wd9218', 'wd9219', 'wd9220', 'wd9221', 'wd9222', 'wd9223', 'wd9224', 'wd9225', 'wd9226', 'wd9227', 'wd9228', 'wd9229', 'wd9230', 'wd9231', 'wd9232', 'wd9233', 'wd9234', 'wd9235', 'wd9236', 'wd9237', 'wd9238', 'wd9239', 'wd9240', 'wd9241', 'wd9242', 'wd9243', 'wd9244', 'wd9245', 'wd9246', 'wd9247', 'wd9248', 'wd9249', 'wd9250', 'wd9251', 'wd9252', 'wd9253', 'wd9254', 'wd9255', 'wd9256', 'wd9257', 'wd9258', 'wd9259', 'wd9260', 'wd9261', 'wd9262', 'wd9263', 'wd9264', 'wd9265', 'wd9266', 'wd9267', 'wd9268', 'wd9269', 'wd9270', 'wd9271', 'wd9272', 'wd9273', 'wd9274', 'wd9275', 'wd9276', 'wd9277', 'wd9278', 'wd9279', 'wd9280', 'wd9281', 'wd9282', 'wd9283', 'wd9284', 'wd9285', 'wd9286', 'wd9287', 'wd9288', 'wd9289', 'wd9290', 'wd9291', 'wd9292', 'wd9293', 'wd9294', 'wd9295', 'wd9296', 'wd9297', 'wd9298', 'wd9299', 'wd9300', 'wd9301', 'wd9302', 'wd9303', 'wd9304', 'wd9305', 'wd9306', 'wd9307', 'wd9308', 'wd9309', 'wd9310', 'wd9311', 'wd9312', 'wd9313', 'wd9314', 'wd9315', 'wd9316', 'wd9317', 'wd9318', 'wd9319', 'wd9320', 'wd9321', 'wd9322', 'wd9323', 'wd9324', 'wd9325', 'wd9326', 'wd9327', 'wd9328', 'wd9329', 'wd9330', 'wd9331', 'wd9332', 'wd9333', 'wd9334', 'wd9335', 'wd9336', 'wd9337', 'wd9338', 'wd9339', 'wd9340', 'wd9341', 'wd9342', 'wd9343', 'wd9344', 'wd9345', 'wd9346', 'wd9347', 'wd9348', 'wd9349', 'wd9350', 'wd9351', 'wd9352', 'wd9353', 'wd9354', 'wd9355', 'wd9356', 'wd9357', 'wd9358', 'wd9359', 'wd9360', 'wd9361', 'wd9362', 'wd9363', 'wd9364', 'wd9365', 'wd9366', 'wd9367', 'wd9368', 'wd9369', 'wd9370', 'wd9371', 'wd9372', 'wd9373', 'wd9374', 'wd9375', 'wd9376', 'wd9377', 'wd9378', 'wd9379', 'wd9380', 'wd9381', 'wd9382', 'wd9383', 'wd9384', 'wd9385', 'wd9386', 'wd9387', 'wd9388', 'wd9389', 'wd9390', 'wd9391', 'wd9392', 'wd9393', 'wd9394', 'wd9395', 'wd9396', 'wd9397', 'wd9398', 'wd9399', 'wd9400', 'wd9401', 'wd9402', 'wd9403', 'wd9404', 'wd9405', 'wd9406', 'wd9407', 'wd9408', 'wd9409', 'wd9410', 'wd9411', 'wd9412', 'wd9413', 'wd9414', 'wd9415', 'wd9416', 'wd9417', 'wd9418', 'wd9419', 'wd9420', 'wd9421', 'wd9422', 'wd9423', 'wd9424', 'wd9425', 'wd9426', 'wd9427', 'wd9428', 'wd9429', 'wd9430', 'wd9431', 'wd9432', 'wd9433', 'wd9434', 'wd9435', 'wd9436', 'wd9437', 'wd9438', 'wd9439', 'wd9440', 'wd9441', 'wd9442', 'wd9443', 'wd9444', 'wd9445', 'wd9446', 'wd9447', 'wd9448', 'wd9449', 'wd9450', 'wd9451', 'wd9452', 'wd9453', 'wd9454', 'wd9455', 'wd9456', 'wd9457', 'wd9458', 'wd9459', 'wd9460', 'wd9461', 'wd9462', 'wd9463', 'wd9464', 'wd9465', 'wd9466', 'wd9467', 'wd9468', 'wd9469', 'wd9470', 'wd9471', 'wd9472', 'wd9473', 'wd9474', 'wd9475', 'wd9476', 'wd9477', 'wd9478', 'wd9479', 'wd9480', 'wd9481', 'wd9482', 'wd9483', 'wd9484', 'wd9485', 'wd9486', 'wd9487', 'wd9488', 'wd9489', 'wd9490', 'wd9491', 'wd9492', 'wd9493', 'wd9494', 'wd9495', 'wd9496', 'wd9497', 'wd9498', 'wd9499', 'wd9500', 'wd9501', 'wd9502', 'wd9503', 'wd9504', 'wd9505', 'wd9506', 'wd9507', 'wd9508', 'wd9509', 'wd9510', 'wd9511', 'wd9512', 'wd9513', 'wd9514', 'wd9515', 'wd9516', 'wd9517', 'wd9518', 'wd9519', 'wd9520', 'wd9521', 'wd9522', 'wd9523', 'wd9524', 'wd9525', 'wd9526', 'wd9527', 'wd9528', 'wd9529', 'wd9530', 'wd9531', 'wd9532', 'wd9533', 'wd9534', 'wd9535', 'wd9536', 'wd9537', 'wd9538', 'wd9539', 'wd9540', 'wd9541', 'wd9542', 'wd9543', 'wd9544', 'wd9545', 'wd9546', 'wd9547', 'wd9548', 'wd9549', 'wd9550', 'wd9551', 'wd9552', 'wd9553', 'wd9554', 'wd9555', 'wd9556', 'wd9557', 'wd9558', 'wd9559', 'wd9560', 'wd9561', 'wd9562', 'wd9563', 'wd9564', 'wd9565', 'wd9566', 'wd9567', 'wd9568', 'wd9569', 'wd9570', 'wd9571', 'wd9572', 'wd9573', 'wd9574', 'wd9575', 'wd9576', 'wd9577', 'wd9578', 'wd9579', 'wd9580', 'wd9581', 'wd9582', 'wd9583', 'wd9584', 'wd9585', 'wd9586', 'wd9587', 'wd9588', 'wd9589', 'wd9590', 'wd9591', 'wd9592', 'wd9593', 'wd9594', 'wd9595', 'wd9596', 'wd9597', 'wd9598', 'wd9599', 'wd9600', 'wd9601', 'wd9602', 'wd9603', 'wd9604', 'wd9605', 'wd9606', 'wd9607', 'wd9608', 'wd9609', 'wd9610', 'wd9611', 'wd9612', 'wd9613', 'wd9614', 'wd9615', 'wd9616', 'wd9617', 'wd9618', 'wd9619', 'wd9620', 'wd9621', 'wd9622', 'wd9623', 'wd9624', 'wd9625', 'wd9626', 'wd9627', 'wd9628', 'wd9629', 'wd9630', 'wd9631', 'wd9632', 'wd9633', 'wd9634', 'wd9635', 'wd9636', 'wd9637', 'wd9638', 'wd9639', 'wd9640', 'wd9641', 'wd9642', 'wd9643', 'wd9644', 'wd9645', 'wd9646', 'wd9647', 'wd9648', 'wd9649', 'wd9650', 'wd9651', 'wd9652', 'wd9653', 'wd9654', 'wd9655', 'wd9656', 'wd9657', 'wd9658', 'wd9659', 'wd9660', 'wd9661', 'wd9662', 'wd9663', 'wd9664', 'wd9665', 'wd9666', 'wd9667', 'wd9668', 'wd9669', 'wd9670', 'wd9671', 'wd9672', 'wd9673', 'wd9674', 'wd9675', 'wd9676', 'wd9677', 'wd9678', 'wd9679', 'wd9680', 'wd9681', 'wd9682', 'wd9683', 'wd9684', 'wd9685', 'wd9686', 'wd9687', 'wd9688', 'wd9689', 'wd9690', 'wd9691', 'wd9692', 'wd9693', 'wd9694', 'wd9695', 'wd9696', 'wd9697', 'wd9698', 'wd9699', 'wd9700', 'wd9701', 'wd9702', 'wd9703', 'wd9704', 'wd9705', 'wd9706', 'wd9707', 'wd9708', 'wd9709', 'wd9710', 'wd9711', 'wd9712', 'wd9713', 'wd9714', 'wd9715', 'wd9716', 'wd9717', 'wd9718', 'wd9719', 'wd9720', 'wd9721', 'wd9722', 'wd9723', 'wd9724', 'wd9725', 'wd9726', 'wd9727', 'wd9728', 'wd9729', 'wd9730', 'wd9731', 'wd9732', 'wd9733', 'wd9734', 'wd9735', 'wd9736', 'wd9737', 'wd9738', 'wd9739', 'wd9740', 'wd9741', 'wd9742', 'wd9743', 'wd9744', 'wd9745', 'wd9746', 'wd9747', 'wd9748', 'wd9749', 'wd9750', 'wd9751', 'wd9752', 'wd9753', 'wd9754', 'wd9755', 'wd9756', 'wd9757', 'wd9758', 'wd9759', 'wd9760', 'wd9761', 'wd9762', 'wd9763', 'wd9764', 'wd9765', 'wd9766', 'wd9767', 'wd9768', 'wd9769', 'wd9770', 'wd9771', 'wd9772', 'wd9773', 'wd9774', 'wd9775', 'wd9776', 'wd9777', 'wd9778', 'wd9779', 'wd9780', 'wd9781', 'wd9782', 'wd9783', 'wd9784', 'wd9785', 'wd9786', 'wd9787', 'wd9788', 'wd9789', 'wd9790', 'wd9791', 'wd9792', 'wd9793', 'wd9794', 'wd9795', 'wd9796', 'wd9797', 'wd9798', 'wd9799', 'wd9800', 'wd9801', 'wd9802', 'wd9803', 'wd9804', 'wd9805', 'wd9806', 'wd9807', 'wd9808', 'wd9809', 'wd9810', 'wd9811', 'wd9812', 'wd9813', 'wd9814', 'wd9815', 'wd9816', 'wd9817', 'wd9818', 'wd9819', 'wd9820', 'wd9821', 'wd9822', 'wd9823', 'wd9824', 'wd9825', 'wd9826', 'wd9827', 'wd9828', 'wd9829', 'wd9830', 'wd9831', 'wd9832', 'wd9833', 'wd9834', 'wd9835', 'wd9836', 'wd9837', 'wd9838', 'wd9839', 'wd9840', 'wd9841', 'wd9842', 'wd9843', 'wd9844', 'wd9845', 'wd9846', 'wd9847', 'wd9848', 'wd9849', 'wd9850', 'wd9851', 'wd9852', 'wd9853', 'wd9854', 'wd9855', 'wd9856', 'wd9857', 'wd9858', 'wd9859', 'wd9860', 'wd9861', 'wd9862', 'wd9863', 'wd9864', 'wd9865', 'wd9866', 'wd9867', 'wd9868', 'wd9869', 'wd9870', 'wd9871', 'wd9872', 'wd9873', 'wd9874', 'wd9875', 'wd9876', 'wd9877', 'wd9878', 'wd9879', 'wd9880', 'wd9881', 'wd9882', 'wd9883', 'wd9884', 'wd9885', 'wd9886', 'wd9887', 'wd9888', 'wd9889', 'wd9890', 'wd9891', 'wd9892', 'wd9893', 'wd9894', 'wd9895', 'wd9896', 'wd9897', 'wd9898', 'wd9899', 'wd9900', 'wd9901', 'wd9902', 'wd9903', 'wd9904', 'wd9905', 'wd9906', 'wd9907', 'wd9908', 'wd9909', 'wd9910', 'wd9911', 'wd9912', 'wd9913', 'wd9914', 'wd9915', 'wd9916', 'wd9917', 'wd9918', 'wd9919', 'wd9920', 'wd9921', 'wd9922', 'wd9923', 'wd9924', 'wd9925', 'wd9926', 'wd9927', 'wd9928', 'wd9929', 'wd9930', 'wd9931', 'wd9932', 'wd9933', 'wd9934', 'wd9935', 'wd9936', 'wd9937', 'wd9938', 'wd9939', 'wd9940', 'wd9941', 'wd9942', 'wd9943', 'wd9944', 'wd9945', 'wd9946', 'wd9947', 'wd9948', 'wd9949', 'wd9950', 'wd9951', 'wd9952', 'wd9953', 'wd9954', 'wd9955', 'wd9956', 'wd9957', 'wd9958', 'wd9959', 'wd9960', 'wd9961', 'wd9962', 'wd9963', 'wd9964', 'wd9965', 'wd9966', 'wd9967', 'wd9968', 'wd9969', 'wd9970', 'wd9971', 'wd9972', 'wd9973', 'wd9974', 'wd9975', 'wd9976', 'wd9977', 'wd9978', 'wd9979', 'wd9980', 'wd9981', 'wd9982', 'wd9983', 'wd9984', 'wd9985', 'wd9986', 'wd9987', 'wd9988', 'wd9989', 'wd9990', 'wd9991', 'wd9992', 'wd9993', 'wd9994', 'wd9995', 'wd9996', 'wd9997', 'wd9998', 'wd9999', 'wd10000']\n"
          ]
        }
      ],
      "source": [
        "all_words = []\n",
        "for word in np.arange(vocab_size+1):\n",
        "  if word > 0:\n",
        "    all_words.append('wd'+str(word))\n",
        "print(all_words)"
      ]
    },
    {
      "cell_type": "code",
      "execution_count": null,
      "metadata": {
        "id": "MJfQe7PdUmkC"
      },
      "outputs": [],
      "source": [
        "topic_word_all = []\n",
        "for node in np.arange(n_nodes):\n",
        "  w_t_distrib = np.zeros((10,vocab_size), dtype=np.float64) \n",
        "  wd = get_topic_word_distribution(avitms[node])\n",
        "  for i in np.arange(10):\n",
        "    for idx, word in id2tokens[node].items():\n",
        "      for j in np.arange(len(all_words)):\n",
        "        if all_words[j] == word:\n",
        "          w_t_distrib[i,j] = wd[i][idx]\n",
        "          break\n",
        "  sum_of_rows = w_t_distrib.sum(axis=1)\n",
        "  normalized_array = w_t_distrib / sum_of_rows[:, np.newaxis]\n",
        "  topic_word_all.append(normalized_array)"
      ]
    },
    {
      "cell_type": "markdown",
      "metadata": {
        "id": "QieP5DdU7zY0"
      },
      "source": [
        "# 3. Centralized model"
      ]
    },
    {
      "cell_type": "code",
      "execution_count": null,
      "metadata": {
        "colab": {
          "base_uri": "https://localhost:8080/"
        },
        "id": "wTQrxfRpRrD1",
        "outputId": "63198a37-2843-4c6e-add5-e379abebee18"
      },
      "outputs": [
        {
          "data": {
            "text/plain": [
              "5000"
            ]
          },
          "execution_count": 19,
          "metadata": {},
          "output_type": "execute_result"
        }
      ],
      "source": [
        "documents_centr = [*documents_all[0], *documents_all[1], *documents_all[2], *documents_all[3], *documents_all[4]]\n",
        "len(documents_centr)"
      ]
    },
    {
      "cell_type": "code",
      "execution_count": null,
      "metadata": {
        "colab": {
          "base_uri": "https://localhost:8080/"
        },
        "id": "kxW_tMtFRyfX",
        "outputId": "c07ae98e-d6ed-49d3-e80f-fa06c6a98042"
      },
      "outputs": [
        {
          "name": "stdout",
          "output_type": "stream",
          "text": [
            "Settings: \n",
            "               N Components: 10\n",
            "               Topic Prior Mean: 0.0\n",
            "               Topic Prior Variance: 0.9\n",
            "               Model Type: prodLDA\n",
            "               Hidden Sizes: (100, 100)\n",
            "               Activation: softplus\n",
            "               Dropout: 0.2\n",
            "               Learn Priors: True\n",
            "               Learning Rate: 0.002\n",
            "               Momentum: 0.99\n",
            "               Reduce On Plateau: False\n",
            "               Save Dir: None\n"
          ]
        },
        {
          "name": "stderr",
          "output_type": "stream",
          "text": [
            "/usr/local/lib/python3.7/dist-packages/sklearn/utils/deprecation.py:87: FutureWarning: Function get_feature_names is deprecated; get_feature_names is deprecated in 1.0 and will be removed in 1.2. Please use get_feature_names_out instead.\n",
            "  warnings.warn(msg, category=FutureWarning)\n"
          ]
        },
        {
          "name": "stdout",
          "output_type": "stream",
          "text": [
            "Epoch: [1/100]\tSamples: [5000/500000]\tTrain Loss: 2340.087235546875\tTime: 0:00:01.122383\n",
            "Epoch: [2/100]\tSamples: [10000/500000]\tTrain Loss: 2267.380697265625\tTime: 0:00:01.010429\n",
            "Epoch: [3/100]\tSamples: [15000/500000]\tTrain Loss: 2251.200909375\tTime: 0:00:01.040395\n",
            "Epoch: [4/100]\tSamples: [20000/500000]\tTrain Loss: 2243.62944609375\tTime: 0:00:01.036213\n",
            "Epoch: [5/100]\tSamples: [25000/500000]\tTrain Loss: 2235.745\tTime: 0:00:01.026379\n",
            "Epoch: [6/100]\tSamples: [30000/500000]\tTrain Loss: 2232.102182421875\tTime: 0:00:00.985115\n",
            "Epoch: [7/100]\tSamples: [35000/500000]\tTrain Loss: 2222.332764453125\tTime: 0:00:00.969714\n",
            "Epoch: [8/100]\tSamples: [40000/500000]\tTrain Loss: 2216.75969296875\tTime: 0:00:00.984521\n",
            "Epoch: [9/100]\tSamples: [45000/500000]\tTrain Loss: 2212.651178125\tTime: 0:00:00.987546\n",
            "Epoch: [10/100]\tSamples: [50000/500000]\tTrain Loss: 2207.827023828125\tTime: 0:00:00.975456\n",
            "Epoch: [11/100]\tSamples: [55000/500000]\tTrain Loss: 2207.05133125\tTime: 0:00:00.993593\n",
            "Epoch: [12/100]\tSamples: [60000/500000]\tTrain Loss: 2205.76324765625\tTime: 0:00:01.015837\n",
            "Epoch: [13/100]\tSamples: [65000/500000]\tTrain Loss: 2202.609486328125\tTime: 0:00:00.999276\n",
            "Epoch: [14/100]\tSamples: [70000/500000]\tTrain Loss: 2202.62628515625\tTime: 0:00:00.978731\n",
            "Epoch: [15/100]\tSamples: [75000/500000]\tTrain Loss: 2201.66768203125\tTime: 0:00:01.040150\n",
            "Epoch: [16/100]\tSamples: [80000/500000]\tTrain Loss: 2199.6473828125\tTime: 0:00:01.024340\n",
            "Epoch: [17/100]\tSamples: [85000/500000]\tTrain Loss: 2199.22771796875\tTime: 0:00:00.970174\n",
            "Epoch: [18/100]\tSamples: [90000/500000]\tTrain Loss: 2198.62058984375\tTime: 0:00:01.019399\n",
            "Epoch: [19/100]\tSamples: [95000/500000]\tTrain Loss: 2198.12520390625\tTime: 0:00:01.045532\n",
            "Epoch: [20/100]\tSamples: [100000/500000]\tTrain Loss: 2198.67050703125\tTime: 0:00:00.988118\n",
            "Epoch: [21/100]\tSamples: [105000/500000]\tTrain Loss: 2197.19663046875\tTime: 0:00:01.005360\n",
            "Epoch: [22/100]\tSamples: [110000/500000]\tTrain Loss: 2197.778265234375\tTime: 0:00:01.000984\n",
            "Epoch: [23/100]\tSamples: [115000/500000]\tTrain Loss: 2198.8718078125\tTime: 0:00:01.022631\n",
            "Epoch: [24/100]\tSamples: [120000/500000]\tTrain Loss: 2197.2018748046876\tTime: 0:00:01.029513\n",
            "Epoch: [25/100]\tSamples: [125000/500000]\tTrain Loss: 2197.00648671875\tTime: 0:00:01.021524\n",
            "Epoch: [26/100]\tSamples: [130000/500000]\tTrain Loss: 2197.147060546875\tTime: 0:00:01.005319\n",
            "Epoch: [27/100]\tSamples: [135000/500000]\tTrain Loss: 2196.451708984375\tTime: 0:00:00.985197\n",
            "Epoch: [28/100]\tSamples: [140000/500000]\tTrain Loss: 2195.1384828125\tTime: 0:00:00.985169\n",
            "Epoch: [29/100]\tSamples: [145000/500000]\tTrain Loss: 2195.87437890625\tTime: 0:00:00.995445\n",
            "Epoch: [30/100]\tSamples: [150000/500000]\tTrain Loss: 2195.004560546875\tTime: 0:00:01.042855\n",
            "Epoch: [31/100]\tSamples: [155000/500000]\tTrain Loss: 2194.96535546875\tTime: 0:00:01.024703\n",
            "Epoch: [32/100]\tSamples: [160000/500000]\tTrain Loss: 2196.49712421875\tTime: 0:00:01.010392\n",
            "Epoch: [33/100]\tSamples: [165000/500000]\tTrain Loss: 2196.263830859375\tTime: 0:00:01.064693\n",
            "Epoch: [34/100]\tSamples: [170000/500000]\tTrain Loss: 2194.0761830078127\tTime: 0:00:00.993947\n",
            "Epoch: [35/100]\tSamples: [175000/500000]\tTrain Loss: 2196.69859609375\tTime: 0:00:00.997200\n",
            "Epoch: [36/100]\tSamples: [180000/500000]\tTrain Loss: 2194.125691796875\tTime: 0:00:01.023939\n",
            "Epoch: [37/100]\tSamples: [185000/500000]\tTrain Loss: 2194.71359921875\tTime: 0:00:00.996490\n",
            "Epoch: [38/100]\tSamples: [190000/500000]\tTrain Loss: 2194.438554296875\tTime: 0:00:00.988925\n",
            "Epoch: [39/100]\tSamples: [195000/500000]\tTrain Loss: 2194.222911328125\tTime: 0:00:00.980041\n",
            "Epoch: [40/100]\tSamples: [200000/500000]\tTrain Loss: 2193.74375625\tTime: 0:00:01.017523\n",
            "Epoch: [41/100]\tSamples: [205000/500000]\tTrain Loss: 2195.086051171875\tTime: 0:00:01.002746\n",
            "Epoch: [42/100]\tSamples: [210000/500000]\tTrain Loss: 2193.975673046875\tTime: 0:00:01.005223\n",
            "Epoch: [43/100]\tSamples: [215000/500000]\tTrain Loss: 2194.340839453125\tTime: 0:00:01.063354\n",
            "Epoch: [44/100]\tSamples: [220000/500000]\tTrain Loss: 2193.1367453125\tTime: 0:00:01.027464\n",
            "Epoch: [45/100]\tSamples: [225000/500000]\tTrain Loss: 2192.51469765625\tTime: 0:00:01.071771\n",
            "Epoch: [46/100]\tSamples: [230000/500000]\tTrain Loss: 2193.465280078125\tTime: 0:00:01.039496\n",
            "Epoch: [47/100]\tSamples: [235000/500000]\tTrain Loss: 2192.560928515625\tTime: 0:00:01.062581\n",
            "Epoch: [48/100]\tSamples: [240000/500000]\tTrain Loss: 2194.716216015625\tTime: 0:00:01.039394\n",
            "Epoch: [49/100]\tSamples: [245000/500000]\tTrain Loss: 2193.44650625\tTime: 0:00:01.004560\n",
            "Epoch: [50/100]\tSamples: [250000/500000]\tTrain Loss: 2195.298100390625\tTime: 0:00:01.023543\n",
            "Epoch: [51/100]\tSamples: [255000/500000]\tTrain Loss: 2193.53204140625\tTime: 0:00:01.006728\n",
            "Epoch: [52/100]\tSamples: [260000/500000]\tTrain Loss: 2194.779147265625\tTime: 0:00:01.013580\n",
            "Epoch: [53/100]\tSamples: [265000/500000]\tTrain Loss: 2194.80368125\tTime: 0:00:00.981196\n",
            "Epoch: [54/100]\tSamples: [270000/500000]\tTrain Loss: 2195.23127109375\tTime: 0:00:01.018293\n",
            "Epoch: [55/100]\tSamples: [275000/500000]\tTrain Loss: 2193.416009765625\tTime: 0:00:01.025715\n",
            "Epoch: [56/100]\tSamples: [280000/500000]\tTrain Loss: 2192.61644140625\tTime: 0:00:00.999798\n",
            "Epoch: [57/100]\tSamples: [285000/500000]\tTrain Loss: 2192.213835546875\tTime: 0:00:01.001716\n",
            "Epoch: [58/100]\tSamples: [290000/500000]\tTrain Loss: 2193.107727734375\tTime: 0:00:01.032897\n",
            "Epoch: [59/100]\tSamples: [295000/500000]\tTrain Loss: 2192.323055859375\tTime: 0:00:01.055102\n",
            "Epoch: [60/100]\tSamples: [300000/500000]\tTrain Loss: 2194.487547265625\tTime: 0:00:01.039699\n",
            "Epoch: [61/100]\tSamples: [305000/500000]\tTrain Loss: 2193.001269140625\tTime: 0:00:01.004485\n",
            "Epoch: [62/100]\tSamples: [310000/500000]\tTrain Loss: 2193.68120078125\tTime: 0:00:01.032191\n",
            "Epoch: [63/100]\tSamples: [315000/500000]\tTrain Loss: 2193.33007421875\tTime: 0:00:01.031299\n",
            "Epoch: [64/100]\tSamples: [320000/500000]\tTrain Loss: 2192.90619921875\tTime: 0:00:01.016782\n",
            "Epoch: [65/100]\tSamples: [325000/500000]\tTrain Loss: 2193.2369890625\tTime: 0:00:01.004301\n",
            "Epoch: [66/100]\tSamples: [330000/500000]\tTrain Loss: 2193.4973609375\tTime: 0:00:00.991298\n",
            "Epoch: [67/100]\tSamples: [335000/500000]\tTrain Loss: 2192.8167890625\tTime: 0:00:01.017344\n",
            "Epoch: [68/100]\tSamples: [340000/500000]\tTrain Loss: 2194.565569921875\tTime: 0:00:00.982150\n",
            "Epoch: [69/100]\tSamples: [345000/500000]\tTrain Loss: 2192.65803515625\tTime: 0:00:01.040235\n",
            "Epoch: [70/100]\tSamples: [350000/500000]\tTrain Loss: 2192.3700154296876\tTime: 0:00:01.002242\n",
            "Epoch: [71/100]\tSamples: [355000/500000]\tTrain Loss: 2191.9016072265626\tTime: 0:00:01.030945\n",
            "Epoch: [72/100]\tSamples: [360000/500000]\tTrain Loss: 2192.834921875\tTime: 0:00:01.042113\n",
            "Epoch: [73/100]\tSamples: [365000/500000]\tTrain Loss: 2193.554541015625\tTime: 0:00:01.012360\n",
            "Epoch: [74/100]\tSamples: [370000/500000]\tTrain Loss: 2192.24181953125\tTime: 0:00:01.031786\n",
            "Epoch: [75/100]\tSamples: [375000/500000]\tTrain Loss: 2192.84238671875\tTime: 0:00:01.061162\n",
            "Epoch: [76/100]\tSamples: [380000/500000]\tTrain Loss: 2194.230926953125\tTime: 0:00:01.029134\n",
            "Epoch: [77/100]\tSamples: [385000/500000]\tTrain Loss: 2193.7951326171874\tTime: 0:00:01.021907\n",
            "Epoch: [78/100]\tSamples: [390000/500000]\tTrain Loss: 2191.4624796875\tTime: 0:00:01.040176\n",
            "Epoch: [79/100]\tSamples: [395000/500000]\tTrain Loss: 2193.5570447265627\tTime: 0:00:01.059795\n",
            "Epoch: [80/100]\tSamples: [400000/500000]\tTrain Loss: 2192.677976953125\tTime: 0:00:01.059888\n",
            "Epoch: [81/100]\tSamples: [405000/500000]\tTrain Loss: 2192.5089375\tTime: 0:00:01.015230\n",
            "Epoch: [82/100]\tSamples: [410000/500000]\tTrain Loss: 2191.6349580078127\tTime: 0:00:01.015023\n",
            "Epoch: [83/100]\tSamples: [415000/500000]\tTrain Loss: 2191.191813671875\tTime: 0:00:01.012514\n",
            "Epoch: [84/100]\tSamples: [420000/500000]\tTrain Loss: 2193.3122015625\tTime: 0:00:00.999949\n",
            "Epoch: [85/100]\tSamples: [425000/500000]\tTrain Loss: 2192.20131796875\tTime: 0:00:01.023461\n",
            "Epoch: [86/100]\tSamples: [430000/500000]\tTrain Loss: 2191.021025\tTime: 0:00:01.018315\n",
            "Epoch: [87/100]\tSamples: [435000/500000]\tTrain Loss: 2193.595815625\tTime: 0:00:01.014175\n",
            "Epoch: [88/100]\tSamples: [440000/500000]\tTrain Loss: 2192.281149609375\tTime: 0:00:01.046394\n",
            "Epoch: [89/100]\tSamples: [445000/500000]\tTrain Loss: 2190.687626953125\tTime: 0:00:01.072472\n",
            "Epoch: [90/100]\tSamples: [450000/500000]\tTrain Loss: 2192.0505875\tTime: 0:00:01.051024\n",
            "Epoch: [91/100]\tSamples: [455000/500000]\tTrain Loss: 2192.992833984375\tTime: 0:00:01.036616\n",
            "Epoch: [92/100]\tSamples: [460000/500000]\tTrain Loss: 2191.749315625\tTime: 0:00:01.049727\n",
            "Epoch: [93/100]\tSamples: [465000/500000]\tTrain Loss: 2190.659924609375\tTime: 0:00:01.063844\n",
            "Epoch: [94/100]\tSamples: [470000/500000]\tTrain Loss: 2191.81015078125\tTime: 0:00:01.045688\n",
            "Epoch: [95/100]\tSamples: [475000/500000]\tTrain Loss: 2190.60275625\tTime: 0:00:01.036312\n",
            "Epoch: [96/100]\tSamples: [480000/500000]\tTrain Loss: 2191.788380859375\tTime: 0:00:01.036508\n",
            "Epoch: [97/100]\tSamples: [485000/500000]\tTrain Loss: 2191.926214453125\tTime: 0:00:01.022308\n",
            "Epoch: [98/100]\tSamples: [490000/500000]\tTrain Loss: 2191.710327734375\tTime: 0:00:01.027598\n",
            "Epoch: [99/100]\tSamples: [495000/500000]\tTrain Loss: 2192.469593359375\tTime: 0:00:01.023462\n",
            "Epoch: [100/100]\tSamples: [500000/500000]\tTrain Loss: 2191.863826953125\tTime: 0:00:01.028207\n"
          ]
        }
      ],
      "source": [
        "cv = CountVectorizer(input='content', lowercase=True, stop_words='english',\n",
        "                      max_df=0.99, min_df=0.01, binary=False)\n",
        "  \n",
        "docs_centr = [\" \".join(documents_centr[i]) for i in np.arange(len(documents_centr))]\n",
        "\n",
        "train_bow_centr = cv.fit_transform(docs_centr)\n",
        "train_bow_centr = train_bow_centr.toarray()\n",
        "\n",
        "idx2token_centr = cv.get_feature_names()\n",
        "input_size_centr = len(idx2token_centr)\n",
        "\n",
        "id2token_centr = {k: v for k, v in zip(range(0, len(idx2token_centr)), idx2token_centr)}\n",
        "\n",
        "train_data_centr = BOWDataset(train_bow_centr, idx2token_centr)\n",
        "\n",
        "avitm_centr = AVITM(input_size=input_size_centr, n_components=10, model_type='prodLDA',\n",
        "              hidden_sizes=(100, 100), activation='softplus', dropout=0.2,\n",
        "              learn_priors=True, batch_size=64, lr=2e-3, momentum=0.99,\n",
        "              solver='adam', num_epochs=100, reduce_on_plateau=False)\n",
        "\n",
        "avitm_centr.fit(train_data_centr)"
      ]
    },
    {
      "cell_type": "code",
      "execution_count": null,
      "metadata": {
        "colab": {
          "base_uri": "https://localhost:8080/",
          "height": 363
        },
        "id": "A3_xM2LUSYAN",
        "outputId": "3cd53ad4-1c50-4488-e6f1-85119aeb83b0"
      },
      "outputs": [
        {
          "data": {
            "text/html": [
              "\n",
              "  <div id=\"df-fe6ff667-733d-4546-8718-412c9594e985\">\n",
              "    <div class=\"colab-df-container\">\n",
              "      <div>\n",
              "<style scoped>\n",
              "    .dataframe tbody tr th:only-of-type {\n",
              "        vertical-align: middle;\n",
              "    }\n",
              "\n",
              "    .dataframe tbody tr th {\n",
              "        vertical-align: top;\n",
              "    }\n",
              "\n",
              "    .dataframe thead th {\n",
              "        text-align: right;\n",
              "    }\n",
              "</style>\n",
              "<table border=\"1\" class=\"dataframe\">\n",
              "  <thead>\n",
              "    <tr style=\"text-align: right;\">\n",
              "      <th></th>\n",
              "      <th>0</th>\n",
              "      <th>1</th>\n",
              "      <th>2</th>\n",
              "      <th>3</th>\n",
              "      <th>4</th>\n",
              "      <th>5</th>\n",
              "      <th>6</th>\n",
              "      <th>7</th>\n",
              "      <th>8</th>\n",
              "      <th>9</th>\n",
              "    </tr>\n",
              "  </thead>\n",
              "  <tbody>\n",
              "    <tr>\n",
              "      <th>0</th>\n",
              "      <td>wd6010</td>\n",
              "      <td>wd3215</td>\n",
              "      <td>wd2730</td>\n",
              "      <td>wd383</td>\n",
              "      <td>wd4707</td>\n",
              "      <td>wd2703</td>\n",
              "      <td>wd1541</td>\n",
              "      <td>wd9832</td>\n",
              "      <td>wd8189</td>\n",
              "      <td>wd4984</td>\n",
              "    </tr>\n",
              "    <tr>\n",
              "      <th>1</th>\n",
              "      <td>wd7643</td>\n",
              "      <td>wd5350</td>\n",
              "      <td>wd6087</td>\n",
              "      <td>wd5461</td>\n",
              "      <td>wd5751</td>\n",
              "      <td>wd2854</td>\n",
              "      <td>wd5558</td>\n",
              "      <td>wd7644</td>\n",
              "      <td>wd5511</td>\n",
              "      <td>wd1653</td>\n",
              "    </tr>\n",
              "    <tr>\n",
              "      <th>2</th>\n",
              "      <td>wd528</td>\n",
              "      <td>wd4454</td>\n",
              "      <td>wd8585</td>\n",
              "      <td>wd8498</td>\n",
              "      <td>wd1734</td>\n",
              "      <td>wd2768</td>\n",
              "      <td>wd3046</td>\n",
              "      <td>wd8249</td>\n",
              "      <td>wd6388</td>\n",
              "      <td>wd8335</td>\n",
              "    </tr>\n",
              "    <tr>\n",
              "      <th>3</th>\n",
              "      <td>wd3019</td>\n",
              "      <td>wd6085</td>\n",
              "      <td>wd6937</td>\n",
              "      <td>wd4191</td>\n",
              "      <td>wd9390</td>\n",
              "      <td>wd117</td>\n",
              "      <td>wd6504</td>\n",
              "      <td>wd6480</td>\n",
              "      <td>wd2440</td>\n",
              "      <td>wd6233</td>\n",
              "    </tr>\n",
              "    <tr>\n",
              "      <th>4</th>\n",
              "      <td>wd5389</td>\n",
              "      <td>wd47</td>\n",
              "      <td>wd2232</td>\n",
              "      <td>wd3914</td>\n",
              "      <td>wd3985</td>\n",
              "      <td>wd2299</td>\n",
              "      <td>wd4610</td>\n",
              "      <td>wd9389</td>\n",
              "      <td>wd301</td>\n",
              "      <td>wd1559</td>\n",
              "    </tr>\n",
              "    <tr>\n",
              "      <th>5</th>\n",
              "      <td>wd4973</td>\n",
              "      <td>wd128</td>\n",
              "      <td>wd2446</td>\n",
              "      <td>wd7553</td>\n",
              "      <td>wd7751</td>\n",
              "      <td>wd4932</td>\n",
              "      <td>wd67</td>\n",
              "      <td>wd4152</td>\n",
              "      <td>wd4063</td>\n",
              "      <td>wd9641</td>\n",
              "    </tr>\n",
              "    <tr>\n",
              "      <th>6</th>\n",
              "      <td>wd4645</td>\n",
              "      <td>wd7873</td>\n",
              "      <td>wd368</td>\n",
              "      <td>wd5910</td>\n",
              "      <td>wd4422</td>\n",
              "      <td>wd7902</td>\n",
              "      <td>wd4795</td>\n",
              "      <td>wd7359</td>\n",
              "      <td>wd6677</td>\n",
              "      <td>wd5727</td>\n",
              "    </tr>\n",
              "    <tr>\n",
              "      <th>7</th>\n",
              "      <td>wd780</td>\n",
              "      <td>wd4027</td>\n",
              "      <td>wd8306</td>\n",
              "      <td>wd1629</td>\n",
              "      <td>wd6620</td>\n",
              "      <td>wd6169</td>\n",
              "      <td>wd2134</td>\n",
              "      <td>wd3067</td>\n",
              "      <td>wd4046</td>\n",
              "      <td>wd5693</td>\n",
              "    </tr>\n",
              "    <tr>\n",
              "      <th>8</th>\n",
              "      <td>wd7074</td>\n",
              "      <td>wd5263</td>\n",
              "      <td>wd8377</td>\n",
              "      <td>wd2135</td>\n",
              "      <td>wd9623</td>\n",
              "      <td>wd1826</td>\n",
              "      <td>wd4539</td>\n",
              "      <td>wd8335</td>\n",
              "      <td>wd5399</td>\n",
              "      <td>wd4951</td>\n",
              "    </tr>\n",
              "    <tr>\n",
              "      <th>9</th>\n",
              "      <td>wd1023</td>\n",
              "      <td>wd4632</td>\n",
              "      <td>wd1754</td>\n",
              "      <td>wd2717</td>\n",
              "      <td>wd1217</td>\n",
              "      <td>wd191</td>\n",
              "      <td>wd1536</td>\n",
              "      <td>wd6979</td>\n",
              "      <td>wd1730</td>\n",
              "      <td>wd7585</td>\n",
              "    </tr>\n",
              "  </tbody>\n",
              "</table>\n",
              "</div>\n",
              "      <button class=\"colab-df-convert\" onclick=\"convertToInteractive('df-fe6ff667-733d-4546-8718-412c9594e985')\"\n",
              "              title=\"Convert this dataframe to an interactive table.\"\n",
              "              style=\"display:none;\">\n",
              "        \n",
              "  <svg xmlns=\"http://www.w3.org/2000/svg\" height=\"24px\"viewBox=\"0 0 24 24\"\n",
              "       width=\"24px\">\n",
              "    <path d=\"M0 0h24v24H0V0z\" fill=\"none\"/>\n",
              "    <path d=\"M18.56 5.44l.94 2.06.94-2.06 2.06-.94-2.06-.94-.94-2.06-.94 2.06-2.06.94zm-11 1L8.5 8.5l.94-2.06 2.06-.94-2.06-.94L8.5 2.5l-.94 2.06-2.06.94zm10 10l.94 2.06.94-2.06 2.06-.94-2.06-.94-.94-2.06-.94 2.06-2.06.94z\"/><path d=\"M17.41 7.96l-1.37-1.37c-.4-.4-.92-.59-1.43-.59-.52 0-1.04.2-1.43.59L10.3 9.45l-7.72 7.72c-.78.78-.78 2.05 0 2.83L4 21.41c.39.39.9.59 1.41.59.51 0 1.02-.2 1.41-.59l7.78-7.78 2.81-2.81c.8-.78.8-2.07 0-2.86zM5.41 20L4 18.59l7.72-7.72 1.47 1.35L5.41 20z\"/>\n",
              "  </svg>\n",
              "      </button>\n",
              "      \n",
              "  <style>\n",
              "    .colab-df-container {\n",
              "      display:flex;\n",
              "      flex-wrap:wrap;\n",
              "      gap: 12px;\n",
              "    }\n",
              "\n",
              "    .colab-df-convert {\n",
              "      background-color: #E8F0FE;\n",
              "      border: none;\n",
              "      border-radius: 50%;\n",
              "      cursor: pointer;\n",
              "      display: none;\n",
              "      fill: #1967D2;\n",
              "      height: 32px;\n",
              "      padding: 0 0 0 0;\n",
              "      width: 32px;\n",
              "    }\n",
              "\n",
              "    .colab-df-convert:hover {\n",
              "      background-color: #E2EBFA;\n",
              "      box-shadow: 0px 1px 2px rgba(60, 64, 67, 0.3), 0px 1px 3px 1px rgba(60, 64, 67, 0.15);\n",
              "      fill: #174EA6;\n",
              "    }\n",
              "\n",
              "    [theme=dark] .colab-df-convert {\n",
              "      background-color: #3B4455;\n",
              "      fill: #D2E3FC;\n",
              "    }\n",
              "\n",
              "    [theme=dark] .colab-df-convert:hover {\n",
              "      background-color: #434B5C;\n",
              "      box-shadow: 0px 1px 3px 1px rgba(0, 0, 0, 0.15);\n",
              "      filter: drop-shadow(0px 1px 2px rgba(0, 0, 0, 0.3));\n",
              "      fill: #FFFFFF;\n",
              "    }\n",
              "  </style>\n",
              "\n",
              "      <script>\n",
              "        const buttonEl =\n",
              "          document.querySelector('#df-fe6ff667-733d-4546-8718-412c9594e985 button.colab-df-convert');\n",
              "        buttonEl.style.display =\n",
              "          google.colab.kernel.accessAllowed ? 'block' : 'none';\n",
              "\n",
              "        async function convertToInteractive(key) {\n",
              "          const element = document.querySelector('#df-fe6ff667-733d-4546-8718-412c9594e985');\n",
              "          const dataTable =\n",
              "            await google.colab.kernel.invokeFunction('convertToInteractive',\n",
              "                                                     [key], {});\n",
              "          if (!dataTable) return;\n",
              "\n",
              "          const docLinkHtml = 'Like what you see? Visit the ' +\n",
              "            '<a target=\"_blank\" href=https://colab.research.google.com/notebooks/data_table.ipynb>data table notebook</a>'\n",
              "            + ' to learn more about interactive tables.';\n",
              "          element.innerHTML = '';\n",
              "          dataTable['output_type'] = 'display_data';\n",
              "          await google.colab.output.renderOutput(dataTable, element);\n",
              "          const docLink = document.createElement('div');\n",
              "          docLink.innerHTML = docLinkHtml;\n",
              "          element.appendChild(docLink);\n",
              "        }\n",
              "      </script>\n",
              "    </div>\n",
              "  </div>\n",
              "  "
            ],
            "text/plain": [
              "        0       1       2       3  ...       6       7       8       9\n",
              "0  wd6010  wd3215  wd2730   wd383  ...  wd1541  wd9832  wd8189  wd4984\n",
              "1  wd7643  wd5350  wd6087  wd5461  ...  wd5558  wd7644  wd5511  wd1653\n",
              "2   wd528  wd4454  wd8585  wd8498  ...  wd3046  wd8249  wd6388  wd8335\n",
              "3  wd3019  wd6085  wd6937  wd4191  ...  wd6504  wd6480  wd2440  wd6233\n",
              "4  wd5389    wd47  wd2232  wd3914  ...  wd4610  wd9389   wd301  wd1559\n",
              "5  wd4973   wd128  wd2446  wd7553  ...    wd67  wd4152  wd4063  wd9641\n",
              "6  wd4645  wd7873   wd368  wd5910  ...  wd4795  wd7359  wd6677  wd5727\n",
              "7   wd780  wd4027  wd8306  wd1629  ...  wd2134  wd3067  wd4046  wd5693\n",
              "8  wd7074  wd5263  wd8377  wd2135  ...  wd4539  wd8335  wd5399  wd4951\n",
              "9  wd1023  wd4632  wd1754  wd2717  ...  wd1536  wd6979  wd1730  wd7585\n",
              "\n",
              "[10 rows x 10 columns]"
            ]
          },
          "execution_count": 21,
          "metadata": {},
          "output_type": "execute_result"
        }
      ],
      "source": [
        "topics_centr = pd.DataFrame(avitm_centr.get_topics(10)).T\n",
        "topics_centr"
      ]
    },
    {
      "cell_type": "code",
      "execution_count": null,
      "metadata": {
        "colab": {
          "base_uri": "https://localhost:8080/"
        },
        "id": "Z1w7cb9r7QAl",
        "outputId": "20ee7178-2e8c-4fe0-e1d3-c8a5e7e7cc35"
      },
      "outputs": [
        {
          "name": "stderr",
          "output_type": "stream",
          "text": [
            "Sampling: [5/5]: : 5it [00:02,  1.79it/s]"
          ]
        },
        {
          "name": "stdout",
          "output_type": "stream",
          "text": [
            "(5000, 10)\n"
          ]
        },
        {
          "name": "stderr",
          "output_type": "stream",
          "text": [
            "\n"
          ]
        }
      ],
      "source": [
        "doc_topic_centr = get_doc_topic_distribution(avitm_centr, train_data_centr, n_samples=5) # get all the topic predictions\n",
        "print(doc_topic_centr.shape)"
      ]
    },
    {
      "cell_type": "code",
      "execution_count": null,
      "metadata": {
        "colab": {
          "base_uri": "https://localhost:8080/"
        },
        "id": "YHry56Bz7sbV",
        "outputId": "19c3adc0-4575-4348-8b10-8e4aa13215a0"
      },
      "outputs": [
        {
          "name": "stdout",
          "output_type": "stream",
          "text": [
            "[[0. 0. 0. ... 0. 0. 0.]\n",
            " [0. 0. 0. ... 0. 0. 0.]\n",
            " [0. 0. 0. ... 0. 0. 0.]\n",
            " ...\n",
            " [0. 0. 0. ... 0. 0. 0.]\n",
            " [0. 0. 0. ... 0. 0. 0.]\n",
            " [0. 0. 0. ... 0. 0. 0.]]\n"
          ]
        },
        {
          "data": {
            "text/plain": [
              "1.0000000000000013"
            ]
          },
          "execution_count": 23,
          "metadata": {},
          "output_type": "execute_result"
        }
      ],
      "source": [
        "w_t_distrib_centr = np.zeros((10,vocab_size), dtype=np.float64) # vocab_size = 10000\n",
        "wd = get_topic_word_distribution(avitm_centr)\n",
        "for i in np.arange(10):\n",
        "  for idx, word in id2token_centr.items():\n",
        "    for j in np.arange(len(all_words)):\n",
        "      if all_words[j] == word:\n",
        "        w_t_distrib_centr[i,j] = wd[i][idx]\n",
        "        break\n",
        "sum_of_rows = w_t_distrib_centr.sum(axis=1)\n",
        "w_t_distrib_centr_norm = w_t_distrib_centr / sum_of_rows[:, np.newaxis]\n",
        "print(w_t_distrib_centr_norm)\n",
        "sum(w_t_distrib_centr_norm[8,:])"
      ]
    },
    {
      "cell_type": "markdown",
      "metadata": {
        "id": "usiERbR-8Roe"
      },
      "source": [
        "# 4. Get similarity through Frobenius"
      ]
    },
    {
      "cell_type": "code",
      "execution_count": null,
      "metadata": {
        "id": "Ng1ykc1A9wkn"
      },
      "outputs": [],
      "source": [
        "doc_topic_centr_all = []\n",
        "doc_topic_centr_all.append(doc_topic_centr[0:1000,:])\n",
        "doc_topic_centr_all.append(doc_topic_centr[1000:2000,:])\n",
        "doc_topic_centr_all.append(doc_topic_centr[2000:3000,:])\n",
        "doc_topic_centr_all.append(doc_topic_centr[3000:4000,:])\n",
        "doc_topic_centr_all.append(doc_topic_centr[4000:5000,:])"
      ]
    },
    {
      "cell_type": "code",
      "execution_count": null,
      "metadata": {
        "colab": {
          "base_uri": "https://localhost:8080/"
        },
        "id": "-NR5xZgQ8S8W",
        "outputId": "3cd1a5a4-0230-45a8-aacf-28e655a0937c"
      },
      "outputs": [
        {
          "name": "stdout",
          "output_type": "stream",
          "text": [
            "NODE 0\n",
            "GT vs inferred in node: 165.5015135020143\n",
            "GT vs centralized in node 166.17668140896268\n",
            "***************************************************************\n",
            "NODE 1\n",
            "GT vs inferred in node: 157.900347534739\n",
            "GT vs centralized in node 161.37309892891204\n",
            "***************************************************************\n",
            "NODE 2\n",
            "GT vs inferred in node: 168.70998882625466\n",
            "GT vs centralized in node 169.2141770162638\n",
            "***************************************************************\n",
            "NODE 3\n",
            "GT vs inferred in node: 165.61857503162426\n",
            "GT vs centralized in node 167.2391545096202\n",
            "***************************************************************\n",
            "NODE 4\n",
            "GT vs inferred in node: 164.81209449374185\n",
            "GT vs centralized in node 169.85154222214177\n",
            "***************************************************************\n"
          ]
        }
      ],
      "source": [
        "for node in np.arange(n_nodes):\n",
        "  # Ground truth in node vs inferred in node\n",
        "  doc_topics_avitm_sqrt_node = np.sqrt(doc_topic_all[node])\n",
        "  similarity_avitm_node = doc_topics_avitm_sqrt_node.dot(doc_topics_avitm_sqrt_node.T)\n",
        "\n",
        "  doc_topics_gt_sqrt_node = np.sqrt(doc_topics_all_gt[node])\n",
        "  similarity_gt = doc_topics_gt_sqrt_node.dot(doc_topics_gt_sqrt_node.T)\n",
        "\n",
        "  diff_sims = similarity_avitm_node - similarity_gt\n",
        "  frobenius_diff_sims_node = np.linalg.norm(diff_sims,'fro')\n",
        "\n",
        "  # Ground truth in node vs centralized (for documents of such a node)\n",
        "  doc_topics_avitm_sqrt_centr_node = np.sqrt(doc_topic_centr_all[node])\n",
        "  similarity_avitm_centr = doc_topics_avitm_sqrt_centr_node.dot(doc_topics_avitm_sqrt_centr_node.T)\n",
        "\n",
        "  diff_sims = similarity_avitm_centr - similarity_gt\n",
        "  frobenius_diff_sims_avg = np.linalg.norm(diff_sims,'fro')\n",
        "\n",
        "  print(\"NODE\", str(node))\n",
        "  print(\"GT vs inferred in node:\", frobenius_diff_sims_node)\n",
        "  print(\"GT vs centralized in node\", frobenius_diff_sims_avg)\n",
        "  print(\"***************************************************************\")"
      ]
    },
    {
      "cell_type": "code",
      "execution_count": null,
      "metadata": {
        "colab": {
          "base_uri": "https://localhost:8080/"
        },
        "id": "uQ6YfIbw-72y",
        "outputId": "52982d1b-3f29-4b67-8f34-618f180a4545"
      },
      "outputs": [
        {
          "name": "stdout",
          "output_type": "stream",
          "text": [
            "NODE 0\n",
            "Original vs inferred in node sum max row: 0.8975016881805135\n",
            "***************************************************************\n",
            "NODE 1\n",
            "Original vs inferred in node sum max row: 0.87957516977811\n",
            "***************************************************************\n",
            "NODE 2\n",
            "Original vs inferred in node sum max row: 0.9042085491222448\n",
            "***************************************************************\n",
            "NODE 3\n",
            "Original vs inferred in node sum max row: 0.8966822169359594\n",
            "***************************************************************\n",
            "NODE 4\n",
            "Original vs inferred in node sum max row: 0.9019147978958015\n",
            "***************************************************************\n",
            "CENTRALIZED\n",
            "Original vs avg of inferred in nodes sum max row 0.943912011164509\n"
          ]
        }
      ],
      "source": [
        "for node in np.arange(n_nodes):\n",
        "  # GT vs inferred in node\n",
        "  topic_words_gt_sqrt = np.sqrt(topic_vectors)\n",
        "  topic_words_avtim_node_sqrt = np.sqrt(topic_word_all[node])\n",
        "  simmat_t_w = topic_words_gt_sqrt.dot(topic_words_avtim_node_sqrt.T)\n",
        "\n",
        "  simmat_t_w_pd = pd.DataFrame(simmat_t_w)\n",
        "  maxValues_rows = simmat_t_w_pd.max(axis = 1)\n",
        "  max_values_rows_sum = maxValues_rows.sum()\n",
        "\n",
        "  print(\"NODE\", str(node))\n",
        "  print(\"Original vs inferred in node sum max row:\", max_values_rows_sum)\n",
        "  print(\"***************************************************************\")\n",
        "\n",
        "# GT vs centralized\n",
        "topic_words_avtim_centr_sqrt = np.sqrt(w_t_distrib_centr_norm)\n",
        "simmat_t_w = topic_words_gt_sqrt.dot(topic_words_avtim_centr_sqrt.T)\n",
        "\n",
        "simmat_t_w_pd = pd.DataFrame(simmat_t_w)\n",
        "maxValues_rows = simmat_t_w_pd.max(axis = 1)\n",
        "max_values_rows_sum_centr = maxValues_rows.sum()\n",
        "\n",
        "print(\"CENTRALIZED\")\n",
        "print(\"Original vs avg of inferred in nodes sum max row\", max_values_rows_sum_centr)"
      ]
    },
    {
      "cell_type": "code",
      "execution_count": null,
      "metadata": {
        "colab": {
          "base_uri": "https://localhost:8080/"
        },
        "id": "f62uaxhLKIOF",
        "outputId": "c8f233a6-9e3f-4a92-90ba-75b1fb025259"
      },
      "outputs": [
        {
          "data": {
            "image/png": "[encoded data removed]",
            "text/plain": [
              "<Figure size 432x288 with 2 Axes>"
            ]
          },
          "metadata": {},
          "output_type": "display_data"
        }
      ],
      "source": [
        "import matplotlib.pyplot as plt\n",
        "\n",
        "plt.imshow(simmat_t_w)\n",
        "plt.colorbar()\n",
        "plt.show()"
      ]
    }
  ],
  "metadata": {
    "colab": {
      "collapsed_sections": [],
      "name": "Centralized-ProdLDA_vocab-10000_beta-1e-2_prior-0.9.ipynb",
      "provenance": []
    },
    "kernelspec": {
      "display_name": "Python 3",
      "name": "python3"
    },
    "language_info": {
      "name": "python"
    }
  },
  "nbformat": 4,
  "nbformat_minor": 0
}